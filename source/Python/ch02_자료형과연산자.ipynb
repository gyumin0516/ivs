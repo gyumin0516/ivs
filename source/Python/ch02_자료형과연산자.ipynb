{
 "cells": [
  {
   "cell_type": "markdown",
   "id": "87670a41-269d-4875-94dd-93b1f4508c63",
   "metadata": {},
   "source": [
    "<font color = \"white\" size = \"7\"><b> ch02 자료형과 연산자</b></font>"
   ]
  },
  {
   "cell_type": "markdown",
   "id": "fba5c41e-baa2-4596-925d-1d55a7c471e9",
   "metadata": {},
   "source": [
    "# 1절 변수\n",
    "## 1.1 변수 선언\n",
    "    - 별도의 변수 선언과정 없음\n",
    "## 1.2 변수 할당\n",
    "    - 대입연산자(=) 사용"
   ]
  },
  {
   "cell_type": "code",
   "execution_count": 9,
   "id": "a26ca4f1-1a79-4e6a-a764-7b94b7c82340",
   "metadata": {},
   "outputs": [
    {
     "name": "stdout",
     "output_type": "stream",
     "text": [
      "제공되는 pi값은 3.141592653589793\n",
      "계산된 넓이는 78.53981633974483\n",
      "area 타입은 <class 'float'>\n",
      "area 주소는 1706816800528\n"
     ]
    }
   ],
   "source": [
    "import numpy as np\n",
    "print('제공되는 pi값은', np.pi)\n",
    "r = 5\n",
    "area = np.pi*r*r\n",
    "print('계산된 넓이는', area)\n",
    "print('area 타입은', type(area))\n",
    "print('area 주소는', id(area))"
   ]
  },
  {
   "cell_type": "code",
   "execution_count": 7,
   "id": "ec16fff9-02bf-4f5e-b14c-538c269f53e2",
   "metadata": {},
   "outputs": [
    {
     "name": "stdout",
     "output_type": "stream",
     "text": [
      "area 값은 10\n",
      "area 타입은 <class 'int'>\n",
      "area 주소는 140714172925000\n"
     ]
    }
   ],
   "source": [
    "area = 10 # 새로운 값을 할당하면 주소도 바뀌고 타입도 바뀜\n",
    "print('area 값은', area)\n",
    "print('area 타입은', type(area))\n",
    "print('area 주소는', id(area))"
   ]
  },
  {
   "cell_type": "code",
   "execution_count": 8,
   "id": "2400e385-5908-41b5-ac76-1c4c1c5e0976",
   "metadata": {},
   "outputs": [
    {
     "name": "stdout",
     "output_type": "stream",
     "text": [
      "area 값은 파이썬은 좋아요\n",
      "area 타입은 <class 'str'>\n",
      "area 주소는 1706800200656\n"
     ]
    }
   ],
   "source": [
    "area = '파이썬은 좋아요' # 새로운 값을 할당하면 주소도 바뀌고 타입도 바뀜\n",
    "print('area 값은', area)\n",
    "print('area 타입은', type(area))\n",
    "print('area 주소는', id(area))"
   ]
  },
  {
   "cell_type": "markdown",
   "id": "dfdd4b88-38fb-4cfc-ba99-2f6cd311e919",
   "metadata": {},
   "source": [
    "## 1.3 변수 이름 규칙\n",
    "    - 문자(특수문자는 _제외하고 안됨), 숫자, _로 명명\n",
    "    - 반드시 문자로 시작\n",
    "    - 파이썬에서 제공되는 기본 함수명은 피하자, 꼭 써야한다면 int_ 식으로 _를 붙임\n",
    "    - 파이썬 예약어는 변수명 불가(ex. if, for)"
   ]
  },
  {
   "cell_type": "code",
   "execution_count": 10,
   "id": "e0dce6ca-cd3d-49ff-9601-ae2544a5183b",
   "metadata": {},
   "outputs": [
    {
     "data": {
      "text/plain": [
       "'북한'"
      ]
     },
     "execution_count": 10,
     "metadata": {},
     "output_type": "execute_result"
    }
   ],
   "source": [
    "불용어 = '북한'\n",
    "불용어"
   ]
  },
  {
   "cell_type": "code",
   "execution_count": 11,
   "id": "6e4393b6-88cd-4b1d-bdf1-38d9ef4780fc",
   "metadata": {},
   "outputs": [
    {
     "ename": "SyntaxError",
     "evalue": "invalid syntax (1720054281.py, line 1)",
     "output_type": "error",
     "traceback": [
      "\u001b[1;36m  Cell \u001b[1;32mIn[11], line 1\u001b[1;36m\u001b[0m\n\u001b[1;33m    if = 4\u001b[0m\n\u001b[1;37m       ^\u001b[0m\n\u001b[1;31mSyntaxError\u001b[0m\u001b[1;31m:\u001b[0m invalid syntax\n"
     ]
    }
   ],
   "source": [
    "if = 4"
   ]
  },
  {
   "cell_type": "code",
   "execution_count": 12,
   "id": "abfb9455-ee9d-47f3-93d7-a020e8b8f606",
   "metadata": {},
   "outputs": [
    {
     "name": "stdout",
     "output_type": "stream",
     "text": [
      "북한\n"
     ]
    }
   ],
   "source": [
    "print(불용어)"
   ]
  },
  {
   "cell_type": "code",
   "execution_count": 13,
   "id": "c939851f-57ea-4aa9-b809-d88cc801caf6",
   "metadata": {},
   "outputs": [],
   "source": [
    "# 파이썬 변수는 함수 할당 가능\n",
    "print = 5\n",
    "# 이렇게 할 시 print 함수 사용 불가함"
   ]
  },
  {
   "cell_type": "code",
   "execution_count": 15,
   "id": "64059847-f8c5-4315-b197-e8c56a50a1ad",
   "metadata": {},
   "outputs": [],
   "source": [
    "del print # print 변수 삭제, print 함수 다시 사용 가능"
   ]
  },
  {
   "cell_type": "code",
   "execution_count": 17,
   "id": "700ba016-8f6f-4b92-9de9-86cd56b6cf1d",
   "metadata": {},
   "outputs": [
    {
     "data": {
      "text/plain": [
       "complex"
      ]
     },
     "execution_count": 17,
     "metadata": {},
     "output_type": "execute_result"
    }
   ],
   "source": [
    "i = 3 + 3j # 복소수 사용가능\n",
    "type(i)"
   ]
  },
  {
   "cell_type": "code",
   "execution_count": 22,
   "id": "ca443593-eaa5-4d7d-8075-7d79514ee4ef",
   "metadata": {},
   "outputs": [
    {
     "data": {
      "text/plain": [
       "(10, 20)"
      ]
     },
     "execution_count": 22,
     "metadata": {},
     "output_type": "execute_result"
    }
   ],
   "source": [
    "a, b = 10, 20 # 다중 선언\n",
    "a, b"
   ]
  },
  {
   "cell_type": "code",
   "execution_count": 23,
   "id": "3288f6e6-4e82-4a2e-adfa-b067ad020862",
   "metadata": {},
   "outputs": [
    {
     "name": "stdout",
     "output_type": "stream",
     "text": [
      "a= 20 \t b= 30\n"
     ]
    }
   ],
   "source": [
    "a, b = b, a+b  # 다중 선언\n",
    "print('a=', a,'\\t b=', b) # a와 b가 동시에 병렬로 할당됨"
   ]
  },
  {
   "cell_type": "markdown",
   "id": "8abe4f74-0eba-4336-bd97-1925ce8f0ae0",
   "metadata": {},
   "source": [
    "## 1.4 도움말"
   ]
  },
  {
   "cell_type": "code",
   "execution_count": 25,
   "id": "e626a210-542d-4c86-963b-3f941742f61f",
   "metadata": {},
   "outputs": [
    {
     "data": {
      "text/plain": [
       "\u001b[1;31mSignature:\u001b[0m \u001b[0mprint\u001b[0m\u001b[1;33m(\u001b[0m\u001b[1;33m*\u001b[0m\u001b[0margs\u001b[0m\u001b[1;33m,\u001b[0m \u001b[0msep\u001b[0m\u001b[1;33m=\u001b[0m\u001b[1;34m' '\u001b[0m\u001b[1;33m,\u001b[0m \u001b[0mend\u001b[0m\u001b[1;33m=\u001b[0m\u001b[1;34m'\\n'\u001b[0m\u001b[1;33m,\u001b[0m \u001b[0mfile\u001b[0m\u001b[1;33m=\u001b[0m\u001b[1;32mNone\u001b[0m\u001b[1;33m,\u001b[0m \u001b[0mflush\u001b[0m\u001b[1;33m=\u001b[0m\u001b[1;32mFalse\u001b[0m\u001b[1;33m)\u001b[0m\u001b[1;33m\u001b[0m\u001b[1;33m\u001b[0m\u001b[0m\n",
       "\u001b[1;31mDocstring:\u001b[0m\n",
       "Prints the values to a stream, or to sys.stdout by default.\n",
       "\n",
       "sep\n",
       "  string inserted between values, default a space.\n",
       "end\n",
       "  string appended after the last value, default a newline.\n",
       "file\n",
       "  a file-like object (stream); defaults to the current sys.stdout.\n",
       "flush\n",
       "  whether to forcibly flush the stream.\n",
       "\u001b[1;31mType:\u001b[0m      builtin_function_or_method"
      ]
     },
     "metadata": {},
     "output_type": "display_data"
    }
   ],
   "source": [
    "print?"
   ]
  },
  {
   "cell_type": "code",
   "execution_count": 26,
   "id": "fae1e666-977e-43b8-8797-b0343ad51cc1",
   "metadata": {},
   "outputs": [
    {
     "name": "stdout",
     "output_type": "stream",
     "text": [
      "a~b\n"
     ]
    }
   ],
   "source": [
    "# 도움말 기능 : 함수내에서 shift+tab 키 \n",
    "print('a', 'b',sep='~')  # 기본적으로 , 가 들어가면 sep이 사이에 붙음"
   ]
  },
  {
   "cell_type": "code",
   "execution_count": 27,
   "id": "e2801a1c-d7c6-4b04-9b75-64cb558b75db",
   "metadata": {},
   "outputs": [],
   "source": [
    "def make_number(x,y=0):   # y를 입력안해도 default 값인 0으로 들어감\n",
    "    \"\"\"doc string(함수의 도움말)\n",
    "    매개변수 2개를 이용해서 2자리 정수를 만들어요\n",
    "    x = 10의 자리수\n",
    "    y = 1의 자리수(default값 0)\n",
    "    \"\"\"\n",
    "    return x*10+y"
   ]
  },
  {
   "cell_type": "code",
   "execution_count": 29,
   "id": "7e954c02-86c9-44d6-b7bd-9bb2e35cc7ee",
   "metadata": {},
   "outputs": [
    {
     "data": {
      "text/plain": [
       "54"
      ]
     },
     "execution_count": 29,
     "metadata": {},
     "output_type": "execute_result"
    }
   ],
   "source": [
    "make_number(5,4)"
   ]
  },
  {
   "cell_type": "code",
   "execution_count": 28,
   "id": "85297ca2-a4b7-40b4-a474-6ec2fd839413",
   "metadata": {},
   "outputs": [
    {
     "data": {
      "text/plain": [
       "20"
      ]
     },
     "execution_count": 28,
     "metadata": {},
     "output_type": "execute_result"
    }
   ],
   "source": [
    "make_number(2)"
   ]
  },
  {
   "cell_type": "code",
   "execution_count": 33,
   "id": "8664bae5-ebc3-4de9-89e2-fd1bd1f37bcc",
   "metadata": {},
   "outputs": [
    {
     "data": {
      "text/plain": [
       "60"
      ]
     },
     "execution_count": 33,
     "metadata": {},
     "output_type": "execute_result"
    }
   ],
   "source": [
    "make = make_number  # 함수를 변수에 할당 가능\n",
    "make(6)"
   ]
  },
  {
   "cell_type": "markdown",
   "id": "d9418eb3-e5ca-4ba1-8db6-c8c514eb946d",
   "metadata": {},
   "source": [
    "## 1.5 변수 삭제 "
   ]
  },
  {
   "cell_type": "code",
   "execution_count": 34,
   "id": "a41d4aba-0034-44e2-8877-8e01f4ebfe7a",
   "metadata": {},
   "outputs": [],
   "source": [
    "del make"
   ]
  },
  {
   "cell_type": "code",
   "execution_count": 35,
   "id": "220301d1-b131-475a-8f6d-b91b5f0ea3f3",
   "metadata": {},
   "outputs": [
    {
     "ename": "NameError",
     "evalue": "name 'make' is not defined",
     "output_type": "error",
     "traceback": [
      "\u001b[1;31m---------------------------------------------------------------------------\u001b[0m",
      "\u001b[1;31mNameError\u001b[0m                                 Traceback (most recent call last)",
      "Cell \u001b[1;32mIn[35], line 1\u001b[0m\n\u001b[1;32m----> 1\u001b[0m make(\u001b[38;5;241m6\u001b[39m)\n",
      "\u001b[1;31mNameError\u001b[0m: name 'make' is not defined"
     ]
    }
   ],
   "source": [
    "make(6)"
   ]
  },
  {
   "cell_type": "markdown",
   "id": "72760532-607d-46d9-abad-21f68226504a",
   "metadata": {},
   "source": [
    "# 2절 화면 I/O"
   ]
  },
  {
   "cell_type": "code",
   "execution_count": 36,
   "id": "163d59f7-25a9-487a-89ac-dbdae1f3f924",
   "metadata": {},
   "outputs": [
    {
     "name": "stdin",
     "output_type": "stream",
     "text": [
      "첫번째 숫자는? 10\n",
      "두번쨰 숫자는? 20\n"
     ]
    }
   ],
   "source": [
    "first = input('첫번째 숫자는?') # 문자로 return\n",
    "second = input ('두번쨰 숫자는?"
   ]
  },
  {
   "cell_type": "code",
   "execution_count": 38,
   "id": "bb5cb988-387d-404f-ba34-67182f1e246d",
   "metadata": {},
   "outputs": [
    {
     "name": "stdout",
     "output_type": "stream",
     "text": [
      "두수의 합은 1020\n"
     ]
    }
   ],
   "source": [
    "print('두수의 합은 {}'.format(first+second)) # 문자 + 문자로 출력됨"
   ]
  },
  {
   "cell_type": "code",
   "execution_count": 40,
   "id": "f16faf22-cbca-41f0-a851-f3f1daa3c2cf",
   "metadata": {},
   "outputs": [
    {
     "name": "stdin",
     "output_type": "stream",
     "text": [
      "첫번째 숫자는? 10\n",
      "두번쨰 숫자는? 30\n"
     ]
    },
    {
     "name": "stdout",
     "output_type": "stream",
     "text": [
      "두수의 합은 40\n"
     ]
    }
   ],
   "source": [
    "first = int(input('첫번째 숫자는?'))  # 숫자로 변경\n",
    "second = int(input ('두번쨰 숫자는?'))\n",
    "print('두수의 합은 {}'.format(first+second))"
   ]
  },
  {
   "cell_type": "code",
   "execution_count": 157,
   "id": "99515f96-2747-4796-be3c-03f10016ea85",
   "metadata": {},
   "outputs": [
    {
     "name": "stdout",
     "output_type": "stream",
     "text": [
      "Hello~world\tHello Python\n"
     ]
    }
   ],
   "source": [
    "print('Hello', 'world', sep='~', end='\\t')\n",
    "print('Hello', 'Python')"
   ]
  },
  {
   "cell_type": "markdown",
   "id": "57ebad6b-9f82-4616-964d-358ab2ad947a",
   "metadata": {},
   "source": [
    "# 3절 기본 자료형\n",
    "    - 숫자 : int, float, complex\n",
    "    - 문자 : str\n",
    "    - 논리 : bool \n",
    "    파이썬은 타입을 지칭하는 키워드가 없고, 변수 할당시 타입이 정해짐"
   ]
  },
  {
   "cell_type": "markdown",
   "id": "5ddcd522-b177-4413-aaa8-0013aabef827",
   "metadata": {},
   "source": [
    "## 3.1 숫자형"
   ]
  },
  {
   "cell_type": "code",
   "execution_count": 45,
   "id": "1b757355-2e88-400c-87fb-2e3f458c8d98",
   "metadata": {},
   "outputs": [
    {
     "name": "stdout",
     "output_type": "stream",
     "text": [
      "9223372036854775807\n"
     ]
    }
   ],
   "source": [
    "import sys\n",
    "print(sys.maxsize) # 모든 크기의 정수를 다 처리 가능 "
   ]
  },
  {
   "cell_type": "code",
   "execution_count": 46,
   "id": "7ac0233d-af62-42cb-95ea-d2d0208966f4",
   "metadata": {},
   "outputs": [
    {
     "name": "stdout",
     "output_type": "stream",
     "text": [
      "값:9223372036854775907 / 주소:1706801631936\n",
      "<class 'int'>\n"
     ]
    }
   ],
   "source": [
    "a = sys.maxsize+100\n",
    "print('값:{} / 주소:{}'.format(a, id(a)))\n",
    "print(type(a))"
   ]
  },
  {
   "cell_type": "code",
   "execution_count": 47,
   "id": "b5814d59-692e-4aac-93ab-635500fc73e6",
   "metadata": {},
   "outputs": [
    {
     "name": "stdout",
     "output_type": "stream",
     "text": [
      "값:1 / 주소:140714172924712\n",
      "<class 'int'>\n"
     ]
    }
   ],
   "source": [
    "a = 1\n",
    "print('값:{} / 주소:{}'.format(a, id(a)))\n",
    "print(type(a))"
   ]
  },
  {
   "cell_type": "code",
   "execution_count": 163,
   "id": "21101fbb-3edf-48be-bd2e-9669ba103040",
   "metadata": {},
   "outputs": [
    {
     "name": "stdout",
     "output_type": "stream",
     "text": [
      "값:1.50 / 주소:1706820530384\n",
      "<class 'float'>\n"
     ]
    }
   ],
   "source": [
    "a = 3/2  # 정수형/정수형 -> 실수형\n",
    "print('값:{:.2f} / 주소:{}'.format(a, id(a)))\n",
    "print(type(a))"
   ]
  },
  {
   "cell_type": "code",
   "execution_count": 49,
   "id": "26d8c99e-cedb-45cf-9fe1-615d57aeb110",
   "metadata": {},
   "outputs": [],
   "source": [
    "a = int(3/2) # C언어 결과처럼 만들고자 하면 형변환 \n",
    "a = 3//2  # C언어 결과처럼 만들고자 하면 몫연산자"
   ]
  },
  {
   "cell_type": "code",
   "execution_count": 50,
   "id": "172a3fdb-f78d-432d-8993-e84c61aef6b0",
   "metadata": {},
   "outputs": [
    {
     "name": "stdout",
     "output_type": "stream",
     "text": [
      "1.12e+20\n",
      "1.12e-20\n"
     ]
    }
   ],
   "source": [
    "f = 1.12e20  #1.12의 10의 20승\n",
    "print(f)\n",
    "f = 1.12e-20\n",
    "print(f)"
   ]
  },
  {
   "cell_type": "markdown",
   "id": "f9b8f013-bf9f-4981-a650-690c88c4af16",
   "metadata": {},
   "source": [
    "## 3.2 문자형"
   ]
  },
  {
   "cell_type": "code",
   "execution_count": 52,
   "id": "d7f4491f-cd73-49e2-8cc7-b941ba26f420",
   "metadata": {},
   "outputs": [
    {
     "name": "stdout",
     "output_type": "stream",
     "text": [
      "홍길동'님'\n",
      "홍길동\"님\"\n",
      "홍길동\"님\" 서울시 \"금천구\" \\ 가산디지털1로\n"
     ]
    }
   ],
   "source": [
    "name = \"홍길동'님'\"\n",
    "print(name)\n",
    "name = '홍길동\"님\"'\n",
    "print(name)\n",
    "address = \"서울시 \\\"금천구\\\" \\ 가산디지털1로\"\n",
    "print(name, address)"
   ]
  },
  {
   "cell_type": "code",
   "execution_count": 54,
   "id": "28d7f862-34da-4b39-bff9-9df188abbede",
   "metadata": {},
   "outputs": [
    {
     "name": "stdout",
     "output_type": "stream",
     "text": [
      "안녕하세요\n",
      "홍길동입니다\n",
      "반갑습니다\n"
     ]
    }
   ],
   "source": [
    "text = \"안녕하세요\\n홍길동입니다\\n반갑습니다\"\n",
    "print(text)"
   ]
  },
  {
   "cell_type": "code",
   "execution_count": 55,
   "id": "24f16a39-c982-45cb-9b7f-5440eab68d12",
   "metadata": {},
   "outputs": [
    {
     "name": "stdout",
     "output_type": "stream",
     "text": [
      "안녕하세요\n",
      "홍길동입니다\n",
      "반갑습니다\n",
      "\n"
     ]
    }
   ],
   "source": [
    "text = \"\"\"안녕하세요\n",
    "홍길동입니다\n",
    "반갑습니다\n",
    "\"\"\"\n",
    "print(text)"
   ]
  },
  {
   "cell_type": "code",
   "execution_count": 56,
   "id": "7fcf8fd7-cb93-4cca-95b0-a17c4b2557a3",
   "metadata": {},
   "outputs": [
    {
     "data": {
      "text/plain": [
       "'0123456789'"
      ]
     },
     "execution_count": 56,
     "metadata": {},
     "output_type": "execute_result"
    }
   ],
   "source": [
    "# 문자열 슬라이싱\n",
    "str_ = '0123456789'  # str는 함수라 변수명으로 사용안하는 것이 좋음 \n",
    "str_"
   ]
  },
  {
   "cell_type": "code",
   "execution_count": 60,
   "id": "e50d2fa7-3e61-4ae7-aa2d-b5112aefd673",
   "metadata": {},
   "outputs": [
    {
     "data": {
      "text/plain": [
       "'012'"
      ]
     },
     "execution_count": 60,
     "metadata": {},
     "output_type": "execute_result"
    }
   ],
   "source": [
    "str_[0:3]  # 0번째부터 3번째 앞까지 "
   ]
  },
  {
   "cell_type": "code",
   "execution_count": 61,
   "id": "960bda42-630c-4b7d-a0b6-32a160fab96b",
   "metadata": {},
   "outputs": [
    {
     "data": {
      "text/plain": [
       "'8'"
      ]
     },
     "execution_count": 61,
     "metadata": {},
     "output_type": "execute_result"
    }
   ],
   "source": [
    "str_[-2]  # 음수 인덱스는 뒤에서 붙어 라는 뜻 "
   ]
  },
  {
   "cell_type": "code",
   "execution_count": 62,
   "id": "c9b02227-dd0e-4166-81cb-712e09aa927c",
   "metadata": {},
   "outputs": [
    {
     "data": {
      "text/plain": [
       "'5678'"
      ]
     },
     "execution_count": 62,
     "metadata": {},
     "output_type": "execute_result"
    }
   ],
   "source": [
    "str_[-5:-1]"
   ]
  },
  {
   "cell_type": "code",
   "execution_count": 63,
   "id": "b6a49c22-4086-4264-9e53-f516ddf1bcdb",
   "metadata": {},
   "outputs": [
    {
     "data": {
      "text/plain": [
       "'56789'"
      ]
     },
     "execution_count": 63,
     "metadata": {},
     "output_type": "execute_result"
    }
   ],
   "source": [
    "str_[5:] # 5번째부터 끝까지 "
   ]
  },
  {
   "cell_type": "code",
   "execution_count": 65,
   "id": "36ce360c-3c66-43c6-a544-b305d2506633",
   "metadata": {},
   "outputs": [
    {
     "data": {
      "text/plain": [
       "'01234'"
      ]
     },
     "execution_count": 65,
     "metadata": {},
     "output_type": "execute_result"
    }
   ],
   "source": [
    "str_[:-5] # 처음부터 5번째 앞까지"
   ]
  },
  {
   "cell_type": "code",
   "execution_count": 66,
   "id": "55a933c1-a6c1-4809-a72e-9dac139880d1",
   "metadata": {},
   "outputs": [
    {
     "data": {
      "text/plain": [
       "'56789'"
      ]
     },
     "execution_count": 66,
     "metadata": {},
     "output_type": "execute_result"
    }
   ],
   "source": [
    "str_[5:19] # 슬라이싱에서는 인덱스를 벗어나면 끝까지라는 뜻"
   ]
  },
  {
   "cell_type": "code",
   "execution_count": 67,
   "id": "26937279-1f39-43df-ae35-83eb720d2988",
   "metadata": {},
   "outputs": [
    {
     "name": "stdout",
     "output_type": "stream",
     "text": [
      "02468\n",
      "02468\n"
     ]
    }
   ],
   "source": [
    "print(str_[0:9:2]) # 0번째부터 9번째까지 2씩 인덱스 증가\n",
    "print(str_[::2])   # 처음부터 끝까지 2씩 인덱스 증가 "
   ]
  },
  {
   "cell_type": "code",
   "execution_count": 74,
   "id": "2d6dde5d-90d9-4cb2-b3d1-e06869d807ed",
   "metadata": {},
   "outputs": [
    {
     "name": "stdout",
     "output_type": "stream",
     "text": [
      "9876543210\n",
      "9876543210\n"
     ]
    }
   ],
   "source": [
    "#끝부터 처음까지 거꾸로 \n",
    "print(str_[9::-1])\n",
    "print(str_[::-1])"
   ]
  },
  {
   "cell_type": "markdown",
   "id": "91b9210e-80a4-4f6a-9476-e66d08719247",
   "metadata": {},
   "source": [
    "## 3.3 논리형(True, False)"
   ]
  },
  {
   "cell_type": "code",
   "execution_count": 76,
   "id": "8342a1da-5bfd-493a-910f-62c4b2fb25b9",
   "metadata": {},
   "outputs": [
    {
     "name": "stdout",
     "output_type": "stream",
     "text": [
      "True\n",
      "<class 'bool'>\n",
      "True\n"
     ]
    }
   ],
   "source": [
    "a = True\n",
    "print(a)\n",
    "print(type(a))\n",
    "print(isinstance(a,bool)) # a가 bool자료형이냐 "
   ]
  },
  {
   "cell_type": "code",
   "execution_count": 77,
   "id": "5262600a-f6f8-4067-b1c0-b2844020919c",
   "metadata": {},
   "outputs": [],
   "source": [
    "#False로 간주하는 것: 0, None, \"\"(빈스트링), ''(빈스트링), [], {}, ()\n",
    "#True로 간주하는 것: 0이 아닌 모든 수, \" \", '\\0'(널문자)"
   ]
  },
  {
   "cell_type": "code",
   "execution_count": 78,
   "id": "65e37f7c-50b9-42b9-86b0-b1a57d983ea5",
   "metadata": {},
   "outputs": [
    {
     "name": "stdout",
     "output_type": "stream",
     "text": [
      "False다\n"
     ]
    }
   ],
   "source": [
    "if 0+0j:\n",
    "    print('True다')\n",
    "else:\n",
    "    print('False다')"
   ]
  },
  {
   "cell_type": "code",
   "execution_count": 81,
   "id": "684bdc95-9a62-4c62-ba92-016a9b520040",
   "metadata": {},
   "outputs": [
    {
     "name": "stdout",
     "output_type": "stream",
     "text": [
      "True다\n"
     ]
    }
   ],
   "source": [
    "if ' ':\n",
    "    print('True다')\n",
    "else:\n",
    "    print('False다')"
   ]
  },
  {
   "cell_type": "markdown",
   "id": "69802f42-b2d3-445e-9b6e-44d73a10734a",
   "metadata": {},
   "source": [
    "## 3.4 자료형 확인 및 변환\n",
    "    - type() : 자료형 확인\n",
    "    - int() : 정수형 변환\n",
    "    - float() : 실수형 변환\n",
    "    - str() : 문자형 변환\n",
    "    - bool() : 논리형 변환"
   ]
  },
  {
   "cell_type": "code",
   "execution_count": 83,
   "id": "36ef9967-2546-4bcb-9cd3-1693b6bd23d7",
   "metadata": {},
   "outputs": [
    {
     "ename": "ValueError",
     "evalue": "invalid literal for int() with base 10: '1,000'",
     "output_type": "error",
     "traceback": [
      "\u001b[1;31m---------------------------------------------------------------------------\u001b[0m",
      "\u001b[1;31mValueError\u001b[0m                                Traceback (most recent call last)",
      "Cell \u001b[1;32mIn[83], line 1\u001b[0m\n\u001b[1;32m----> 1\u001b[0m \u001b[38;5;28mint\u001b[39m(\u001b[38;5;124m'\u001b[39m\u001b[38;5;124m1,000\u001b[39m\u001b[38;5;124m'\u001b[39m)\n",
      "\u001b[1;31mValueError\u001b[0m: invalid literal for int() with base 10: '1,000'"
     ]
    }
   ],
   "source": [
    "int('1,000')"
   ]
  },
  {
   "cell_type": "code",
   "execution_count": 84,
   "id": "4ea2e330-021a-4426-a129-8f1209720dc1",
   "metadata": {},
   "outputs": [
    {
     "data": {
      "text/plain": [
       "1.0"
      ]
     },
     "execution_count": 84,
     "metadata": {},
     "output_type": "execute_result"
    }
   ],
   "source": [
    "float(True)"
   ]
  },
  {
   "cell_type": "markdown",
   "id": "76cef6a2-d2ef-4fde-924a-796461c422ae",
   "metadata": {},
   "source": [
    "# 4절 포맷팅"
   ]
  },
  {
   "cell_type": "code",
   "execution_count": 87,
   "id": "67b41534-25ac-437c-bbdc-85a8ad26c8e9",
   "metadata": {},
   "outputs": [
    {
     "name": "stdout",
     "output_type": "stream",
     "text": [
      "이름은 홍길동, 주소는 서울시 금천구\n",
      "이름은 홍길동, 주소는 서울시 금천구\n"
     ]
    }
   ],
   "source": [
    "name = '홍길동'\n",
    "add = '서울시 금천구'\n",
    "print('이름은 {}, 주소는 {}'.format(name, add))\n",
    "print('이름은 {0}, 주소는 {1}'.format(name, add))"
   ]
  },
  {
   "cell_type": "code",
   "execution_count": 90,
   "id": "940e4516-ce14-4b32-9df4-c502b1ac9d3f",
   "metadata": {},
   "outputs": [
    {
     "name": "stdout",
     "output_type": "stream",
     "text": [
      "이름은 홍길동, 주소는 서울시 금천구\n",
      "이름은 홍길동, 주소는 서울시 금천구\n"
     ]
    }
   ],
   "source": [
    "#옛날 방식\n",
    "print('이름은 %s, 주소는 %s'%(name, add))\n",
    "print(f'이름은 {name}, 주소는 {add}')"
   ]
  },
  {
   "cell_type": "markdown",
   "id": "6a7b471b-1a7e-47cd-86f7-42ecaec48636",
   "metadata": {},
   "source": [
    "```\n",
    "format 함수\n",
    "    - '{[인덱스]:[공백대체문자][정렬방법][자릿수][타입]}. format(변수명, ....)\n",
    "    - 정렬방법 : <(왼쪽정렬) >(오른쪽정렬) ^(가운데정렬)\n",
    "    - 타입 : d(10진수), x(16진수), b(2진수), f(실수), s(문자)\n",
    "\n",
    "```"
   ]
  },
  {
   "cell_type": "code",
   "execution_count": 165,
   "id": "55cb8035-fb8f-4de7-8c00-3c7a3e368883",
   "metadata": {},
   "outputs": [
    {
     "name": "stdout",
     "output_type": "stream",
     "text": [
      "[&&&&&&&&10], [He******************]\n"
     ]
    }
   ],
   "source": [
    "a = 10\n",
    "s = 'Hello'\n",
    "print('[{0:&>10d}], [{1:*<20.2}]'.format(a,s))\n"
   ]
  },
  {
   "cell_type": "code",
   "execution_count": 167,
   "id": "182bb059-42bc-42f2-885b-8775628bf1a1",
   "metadata": {},
   "outputs": [
    {
     "name": "stdout",
     "output_type": "stream",
     "text": [
      "         1\n",
      "     12345\n",
      "  12145234\n"
     ]
    }
   ],
   "source": [
    "a = 1\n",
    "b = 12345\n",
    "c= 12145234\n",
    "print('{:>10} {:>10} {:>10}'.format(a, b, c))"
   ]
  },
  {
   "cell_type": "markdown",
   "id": "1952c590-56ba-47fa-b73c-70ae92162e0b",
   "metadata": {},
   "source": [
    "# 5절 연산자 \n",
    "## 5.1 산술 연산자 : + - / * //(몫) %(나머지) **제곱\n",
    "## 5.2 할당 연산자 : = += -= /= *=\n",
    "## 5.3 논리 연산자 : &, and, |, or, not (연산자 우선순위가 높음)\n",
    "## 5.4 비트 연산자 : &, |, ^(XOR) (연산자 우선순위가 높음)"
   ]
  },
  {
   "cell_type": "code",
   "execution_count": 93,
   "id": "e6f3e288-a674-47a8-b136-8c4322a19de4",
   "metadata": {},
   "outputs": [
    {
     "name": "stdout",
     "output_type": "stream",
     "text": [
      "True\n"
     ]
    }
   ],
   "source": [
    "print((10>3) & (10>5))  # 논리 연산자 : 앞뒤에 True 나 False 가 오면 "
   ]
  },
  {
   "cell_type": "code",
   "execution_count": 94,
   "id": "c973ddbb-84a3-4fac-a93b-ddf3dc984669",
   "metadata": {},
   "outputs": [
    {
     "name": "stdout",
     "output_type": "stream",
     "text": [
      "0\n",
      "13\n"
     ]
    }
   ],
   "source": [
    "print(12 & 1)  # 비트연산  12 : 1 1 0 0\n",
    "                         # 1 : 0 0 0 1\n",
    "print(12 | 1)"
   ]
  },
  {
   "cell_type": "markdown",
   "id": "2c14e6a9-c395-47b5-897e-e9249a66f28d",
   "metadata": {},
   "source": [
    "## 5.5 비교연산자 > >= < <= == != "
   ]
  },
  {
   "cell_type": "code",
   "execution_count": 95,
   "id": "ae2b4e3b-5ef8-4a03-bfd1-d33d102507b5",
   "metadata": {},
   "outputs": [
    {
     "data": {
      "text/plain": [
       "True"
      ]
     },
     "execution_count": 95,
     "metadata": {},
     "output_type": "execute_result"
    }
   ],
   "source": [
    "'아' < '하'"
   ]
  },
  {
   "cell_type": "code",
   "execution_count": 97,
   "id": "5854f5e5-1eaa-4451-b4a7-5b3f718de4d0",
   "metadata": {},
   "outputs": [
    {
     "data": {
      "text/plain": [
       "True"
      ]
     },
     "execution_count": 97,
     "metadata": {},
     "output_type": "execute_result"
    }
   ],
   "source": [
    "'*' < '1' < 'A' < 'a'  # 코드 순 : 특수문자 < 숫자 < 대문자 < 소문자"
   ]
  },
  {
   "cell_type": "markdown",
   "id": "869fe228-92dd-4c84-87eb-dd69ffa68ce3",
   "metadata": {},
   "source": [
    "# 6절 문자열 다루기\n",
    "    - 문자열 슬라이싱 : 문자변수[From:to:step]\n",
    "    - len(문자열) : 문자갯수\n",
    "    - 문자열.upper() : 대문자\n",
    "    - 문자열.lower() : 소문자\n",
    "    - 문자열.title() : 각 단어의 앞글자만 대문자로\n",
    "    - 문자열.capitalize() : 첫문자만 대문자로 그 외는 소문자\n",
    "    - 문자열.count('찾을문자열') : 찾을 문자열이 몇개 들어있는지 갯수 반환\n",
    "    - 문자열.find('찾을문자열') : 찾을 문자열을 왼쪽부터 시작하여 몇번째 인덱스에 있는지 인덱스 반환 없으면 -1 반환\n",
    "    - 문자열.rfind('찾을문자열') : 찾을 문자열을 오른쪽부터 시작하여 몇번째 인덱스에 있는지 인덱스 반환\n",
    "    - 문자열.startswitch('특정문자열') : 특정문자열로 시작하는지 여부 T/F 반환\n",
    "    - 문자열.endswitch('특정문자열') : 특정문자열로 끝나는지 여부 T/F 반환\n",
    "    - 문자열.strip() : 좌우공백제거\n",
    "    - 문자열.lstrip() : 왼쪽공백제거\n",
    "    - 문자열.rstrip() : 오른쪽공백제거\n",
    "    - 문자열.isdigit() : 문자열이 숫자 문자열인지 여부 T/F 반환\n",
    "    - 문자열.islower() : 문자열이 소문자인지 여부 T/F 반환\n",
    "    - 문자열.isupper() : 문자열이 대문자인지 여부 T/F 반환\n",
    "    - 문자열.replace(oldStr, newStr) : oldStr을 newStr로 변경    "
   ]
  },
  {
   "cell_type": "code",
   "execution_count": 114,
   "id": "b80dec61-4927-46ba-a554-129153f3e723",
   "metadata": {},
   "outputs": [
    {
     "data": {
      "text/plain": [
       "32"
      ]
     },
     "execution_count": 114,
     "metadata": {},
     "output_type": "execute_result"
    }
   ],
   "source": [
    "temp = 'Python is easy, Python is smart.'\n",
    "#       01234567890123456789012345678901\n",
    "len(temp)"
   ]
  },
  {
   "cell_type": "code",
   "execution_count": 111,
   "id": "d08049d3-20a5-40d6-87cd-bf18b5faa3a7",
   "metadata": {},
   "outputs": [
    {
     "name": "stdout",
     "output_type": "stream",
     "text": [
      "대문자로 :  PYTHON IS EASY, PYTHON IS SMART.\n",
      "첫글자만 대문자로 :  Python is easy, python is smart.\n",
      "title() :  Python Is Easy, Python Is Smart.\n",
      "count() :  2\n",
      "find() :  0\n",
      "replace('Python', ' ') :    is easy,   is smart.\n"
     ]
    }
   ],
   "source": [
    "print('대문자로 : ', temp.upper())\n",
    "print('첫글자만 대문자로 : ', temp.capitalize())\n",
    "print('title() : ', temp.title())\n",
    "print('count() : ', temp.count('Python'))\n",
    "print('find() : ', temp.find('Python'))\n",
    "print(\"replace('Python', ' ') : \", temp.replace('Python', ' '))"
   ]
  },
  {
   "cell_type": "code",
   "execution_count": 113,
   "id": "27fb3261-aff4-4339-89df-cdaf45a554b4",
   "metadata": {},
   "outputs": [
    {
     "name": "stdout",
     "output_type": "stream",
     "text": [
      "temp :          Python          \n",
      "temp :  Python\n"
     ]
    }
   ],
   "source": [
    "temp = '        Python          '\n",
    "print('temp : ', temp)\n",
    "print('temp : ', temp.strip())"
   ]
  },
  {
   "cell_type": "code",
   "execution_count": 115,
   "id": "f4697907-81e5-4275-bc73-485954aa4150",
   "metadata": {},
   "outputs": [
    {
     "name": "stdout",
     "output_type": "stream",
     "text": [
      "space 단위로 분리하여 list로 반환:  ['Python', 'is', 'easy,', 'Python', 'is', 'smart.']\n"
     ]
    }
   ],
   "source": [
    "temp = 'Python is easy, Python is smart.'\n",
    "print('space 단위로 분리하여 list로 반환: ', temp.split())"
   ]
  },
  {
   "cell_type": "code",
   "execution_count": 119,
   "id": "8314ece9-edf4-4c7b-978c-57ef86455e28",
   "metadata": {},
   "outputs": [
    {
     "name": "stdout",
     "output_type": "stream",
     "text": [
      "년월일 분리 : ['2024', '05', '30']\n",
      "년월일 연결 : 2024~05~30\n"
     ]
    }
   ],
   "source": [
    "temp = '2024-05-30'\n",
    "temp_list = temp.split('-')\n",
    "temp_join = '~'.join(temp_list)\n",
    "print('년월일 분리 :', temp_list)\n",
    "print('년월일 연결 :', temp_join)"
   ]
  },
  {
   "cell_type": "markdown",
   "id": "62ab4406-f6bd-4d12-949d-b052e0919c86",
   "metadata": {},
   "source": [
    "# 7절 날짜 다루기 \n",
    "## 7.1 날짜 "
   ]
  },
  {
   "cell_type": "code",
   "execution_count": 120,
   "id": "0491f7e5-b803-4b64-bfec-4ce642d4f8af",
   "metadata": {},
   "outputs": [
    {
     "data": {
      "text/plain": [
       "datetime.date(2024, 5, 30)"
      ]
     },
     "execution_count": 120,
     "metadata": {},
     "output_type": "execute_result"
    }
   ],
   "source": [
    "from datetime import date as dt\n",
    "someday = dt(2024, 5, 30)\n",
    "someday\n"
   ]
  },
  {
   "cell_type": "code",
   "execution_count": 121,
   "id": "b5b187a9-bb1e-4d87-8be8-05f1bd267918",
   "metadata": {},
   "outputs": [
    {
     "name": "stdout",
     "output_type": "stream",
     "text": [
      "2024-05-30\n"
     ]
    }
   ],
   "source": [
    "print('{}'.format(someday))"
   ]
  },
  {
   "cell_type": "code",
   "execution_count": 123,
   "id": "d8ade4fb-eaec-45c1-895c-252b4b4a1c32",
   "metadata": {},
   "outputs": [
    {
     "data": {
      "text/plain": [
       "datetime.date(2024, 5, 30)"
      ]
     },
     "execution_count": 123,
     "metadata": {},
     "output_type": "execute_result"
    }
   ],
   "source": [
    "today = dt.today() \n",
    "today"
   ]
  },
  {
   "cell_type": "markdown",
   "id": "205cea93-a314-4cec-beba-58911055938f",
   "metadata": {},
   "source": [
    "## 7.2 시간"
   ]
  },
  {
   "cell_type": "code",
   "execution_count": 124,
   "id": "6a10d043-ecb3-44c0-95e1-8b3e8ba645ba",
   "metadata": {
    "scrolled": true
   },
   "outputs": [
    {
     "data": {
      "text/plain": [
       "datetime.datetime(2024, 5, 30, 12, 48, 20, 373560)"
      ]
     },
     "execution_count": 124,
     "metadata": {},
     "output_type": "execute_result"
    }
   ],
   "source": [
    "from datetime import datetime\n",
    "now = datetime.today()\n",
    "now"
   ]
  },
  {
   "cell_type": "markdown",
   "id": "38a7f90b-987c-4358-8f21-7e641d01eb6a",
   "metadata": {},
   "source": [
    "# 8절 연습문제"
   ]
  },
  {
   "cell_type": "code",
   "execution_count": 127,
   "id": "d5cea829-4f1d-4446-bb93-a4f0fd28b5a7",
   "metadata": {},
   "outputs": [
    {
     "name": "stdout",
     "output_type": "stream",
     "text": [
      "이름을 입력하세요 >>\n"
     ]
    },
    {
     "name": "stdin",
     "output_type": "stream",
     "text": [
      " 홍길동\n"
     ]
    },
    {
     "name": "stdout",
     "output_type": "stream",
     "text": [
      "나이를 입력하세요 >>\n"
     ]
    },
    {
     "name": "stdin",
     "output_type": "stream",
     "text": [
      " 23\n"
     ]
    },
    {
     "name": "stdout",
     "output_type": "stream",
     "text": [
      "홍길동님의 나이는 23살 입니다\n"
     ]
    }
   ],
   "source": [
    "#1 \n",
    "print('이름을 입력하세요 >>')\n",
    "name = input()\n",
    "print('나이를 입력하세요 >>')\n",
    "age = int(input())\n",
    "print('{}님의 나이는 {}살 입니다'.format(name, age))"
   ]
  },
  {
   "cell_type": "code",
   "execution_count": 151,
   "id": "60e33b8e-1f92-4b9d-8b18-7c1fb502f17f",
   "metadata": {},
   "outputs": [
    {
     "name": "stdin",
     "output_type": "stream",
     "text": [
      "첫번째 수 10\n",
      "두번째 수 0\n"
     ]
    },
    {
     "name": "stdout",
     "output_type": "stream",
     "text": [
      "num1 + num2 =  10\n",
      "num1 - num2 =  10\n",
      "num1 * num2 =  0\n",
      "두번째 정수에 0을 넣으시면 안됩니다\n"
     ]
    }
   ],
   "source": [
    "num1 = int(input('첫번째 수'))\n",
    "num2 = int(input('두번째 수'))\n",
    "print('num1 + num2 = ', (num1+num2))\n",
    "print('num1 - num2 = ', (num1-num2))\n",
    "print('num1 * num2 = ', (num1*num2))\n",
    "try:\n",
    "    print('num1 / num2 = ', (num1/num2))\n",
    "    print('num1 // num2 = ', (num1//num2))\n",
    "    print('num1 % num2 = ', (num1%num2))\n",
    "except ZeroDivisionError:\n",
    "    print(\"두번째 정수에 0을 넣으시면 안됩니다\")"
   ]
  },
  {
   "cell_type": "code",
   "execution_count": 152,
   "id": "9382aca8-84b3-4183-9995-12f183269d8f",
   "metadata": {},
   "outputs": [
    {
     "name": "stdout",
     "output_type": "stream",
     "text": [
      "World Hello\n"
     ]
    }
   ],
   "source": [
    "str1 = 'Hello World'\n",
    "str2 = str1.split()\n",
    "print(str2[1], str2[0])"
   ]
  },
  {
   "cell_type": "code",
   "execution_count": 153,
   "id": "b182ca2a-0d99-4b8c-a820-4c79f8108eec",
   "metadata": {},
   "outputs": [
    {
     "name": "stdout",
     "output_type": "stream",
     "text": [
      "bcdefa\n"
     ]
    }
   ],
   "source": [
    "x = 'abcdef'\n",
    "print(x[1:]+x[0])"
   ]
  },
  {
   "cell_type": "code",
   "execution_count": 154,
   "id": "1608a975-e5ae-484e-8b8d-fd9a73cc001d",
   "metadata": {},
   "outputs": [
    {
     "name": "stdout",
     "output_type": "stream",
     "text": [
      "fedcba\n"
     ]
    }
   ],
   "source": [
    "x = 'abcdef'\n",
    "print(x[::-1])"
   ]
  },
  {
   "cell_type": "code",
   "execution_count": 155,
   "id": "8eed8a6f-3096-4185-adf5-429b80f1dce3",
   "metadata": {},
   "outputs": [
    {
     "name": "stdin",
     "output_type": "stream",
     "text": [
      "섭씨 온도를 입력하세요 10\n"
     ]
    },
    {
     "name": "stdout",
     "output_type": "stream",
     "text": [
      "섭씨 10도는 화씨온도로 바꾸면 50도입니다\n"
     ]
    }
   ],
   "source": [
    "c = int(input('섭씨 온도를 입력하세요'))\n",
    "f = (c*1.8)+32 \n",
    "if f==round(f):   # 온도가 정수면 소숫점 0자리까지만 출력\n",
    "    print('섭씨 {}도는 화씨온도로 바꾸면 {:.0f}도입니다'.format(c, f))\n",
    "else:\n",
    "    print('섭씨 {}도는 화씨온도로 바꾸면 {:.2f}도입니다'.format(c, f))"
   ]
  },
  {
   "cell_type": "code",
   "execution_count": 181,
   "id": "33b53b8a-4690-405d-a0ce-90134a1c32c1",
   "metadata": {},
   "outputs": [
    {
     "data": {
      "text/plain": [
       "[9, 7, 5, 3, 1]"
      ]
     },
     "execution_count": 181,
     "metadata": {},
     "output_type": "execute_result"
    }
   ],
   "source": [
    "ans = []\n",
    "n = 13579\n",
    "n = str(n)\n",
    "n = n[::-1]\n",
    "for i in n:\n",
    "    ans.append(int(i))\n",
    "ans"
   ]
  },
  {
   "cell_type": "code",
   "execution_count": null,
   "id": "75169ce9-e6b7-4eb6-83b5-293830e559b2",
   "metadata": {},
   "outputs": [],
   "source": []
  }
 ],
 "metadata": {
  "kernelspec": {
   "display_name": "Python 3 (ipykernel)",
   "language": "python",
   "name": "python3"
  },
  "language_info": {
   "codemirror_mode": {
    "name": "ipython",
    "version": 3
   },
   "file_extension": ".py",
   "mimetype": "text/x-python",
   "name": "python",
   "nbconvert_exporter": "python",
   "pygments_lexer": "ipython3",
   "version": "3.11.7"
  }
 },
 "nbformat": 4,
 "nbformat_minor": 5
}
