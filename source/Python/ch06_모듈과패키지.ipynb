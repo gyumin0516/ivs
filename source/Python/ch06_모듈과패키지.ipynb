{
 "cells": [
  {
   "cell_type": "markdown",
   "id": "8c1db6e7-e17d-4f7d-922a-d083ab47e774",
   "metadata": {},
   "source": [
    "<font color = \"white\" size = \"7\"><b> ch06 모듈과 패키지</b></font>"
   ]
  },
  {
   "cell_type": "markdown",
   "id": "7969be35-5bc7-49ab-827f-f6900025694b",
   "metadata": {
    "jp-MarkdownHeadingCollapsed": true
   },
   "source": [
    "# 1절 모듈 사용하기\n",
    "    - 모듈은 함수, 변수, 클래스가 담긴 파일(.py)\n",
    "    - 파이썬 표준 모듈 200여개 \n",
    "    - 표준 모듈 외의 모듈을 사용하려면 pip install 라이브러리명\n",
    "    - "
   ]
  },
  {
   "cell_type": "markdown",
   "id": "9b983a18-3567-4b6a-8194-cddfe901792f",
   "metadata": {},
   "source": [
    "# 2절 사용자 정의 모듈\n",
    "    - 모듈을 가져오는 순서 (1)표준모듈 (2)sys.path변수에 저장된 경로"
   ]
  },
  {
   "cell_type": "code",
   "execution_count": 5,
   "id": "bf68f0c3-74cd-464b-ae32-58547a6f8837",
   "metadata": {
    "scrolled": true
   },
   "outputs": [
    {
     "data": {
      "text/plain": [
       "['C:\\\\C_Python\\\\source\\\\Python',\n",
       " 'C:\\\\Users\\\\user\\\\anaconda3\\\\python311.zip',\n",
       " 'C:\\\\Users\\\\user\\\\anaconda3\\\\DLLs',\n",
       " 'C:\\\\Users\\\\user\\\\anaconda3\\\\Lib',\n",
       " 'C:\\\\Users\\\\user\\\\anaconda3',\n",
       " '',\n",
       " 'C:\\\\Users\\\\user\\\\anaconda3\\\\Lib\\\\site-packages',\n",
       " 'C:\\\\Users\\\\user\\\\anaconda3\\\\Lib\\\\site-packages\\\\win32',\n",
       " 'C:\\\\Users\\\\user\\\\anaconda3\\\\Lib\\\\site-packages\\\\win32\\\\lib',\n",
       " 'C:\\\\Users\\\\user\\\\anaconda3\\\\Lib\\\\site-packages\\\\Pythonwin',\n",
       " 'C:/C_Python/source/pylib',\n",
       " 'C:/C_Python/source/pylib']"
      ]
     },
     "execution_count": 5,
     "metadata": {},
     "output_type": "execute_result"
    }
   ],
   "source": [
    "import sys\n",
    "sys.path.append('C:/C_Python/source/pylib')  # 역슬래시 넣으면 안됨 슬래시로 넣어야함\n",
    "sys.path"
   ]
  },
  {
   "cell_type": "code",
   "execution_count": 7,
   "id": "545e977a-2204-4566-b5b7-d1cee98479fd",
   "metadata": {},
   "outputs": [
    {
     "data": {
      "text/plain": [
       "['C:\\\\C_Python\\\\source\\\\Python',\n",
       " 'C:\\\\Users\\\\user\\\\anaconda3\\\\python311.zip',\n",
       " 'C:\\\\Users\\\\user\\\\anaconda3\\\\DLLs',\n",
       " 'C:\\\\Users\\\\user\\\\anaconda3\\\\Lib',\n",
       " 'C:\\\\Users\\\\user\\\\anaconda3',\n",
       " '',\n",
       " 'C:\\\\Users\\\\user\\\\anaconda3\\\\Lib\\\\site-packages',\n",
       " 'C:\\\\Users\\\\user\\\\anaconda3\\\\Lib\\\\site-packages\\\\win32',\n",
       " 'C:\\\\Users\\\\user\\\\anaconda3\\\\Lib\\\\site-packages\\\\win32\\\\lib',\n",
       " 'C:\\\\Users\\\\user\\\\anaconda3\\\\Lib\\\\site-packages\\\\Pythonwin',\n",
       " 'C:/C_Python/source/pylib']"
      ]
     },
     "execution_count": 7,
     "metadata": {},
     "output_type": "execute_result"
    }
   ],
   "source": [
    "sys.path.remove('C:/C_Python/source/pylib')  \n",
    "sys.path"
   ]
  },
  {
   "cell_type": "markdown",
   "id": "1d9ede46-7809-4742-bf4e-4b2cedb71ee7",
   "metadata": {},
   "source": [
    "```\n",
    "1. import A         : A모듈을 가져옴\n",
    "2. import A as B    : A모듈을 B이름으로 가져옴\n",
    "3. from A import B  : A모듈 안에 B함수를 가져옴 \n",
    "4. from A import B as C : A모듈 안에 B함수를 C이름으로 가져옴\n",
    "5. from A.B import C : A패키지 안에 B모듈의 C함수를 가져옴\n",
    "6. from A.B import C, D : A패키지 안에 B모듈의 C, D함수를 가져옴\n",
    "```"
   ]
  },
  {
   "cell_type": "code",
   "execution_count": 8,
   "id": "4d343873-b88c-4cf5-ae3e-f3546ef3d280",
   "metadata": {},
   "outputs": [
    {
     "name": "stdout",
     "output_type": "stream",
     "text": [
      "0. 1. 1. 2. 3. 5. 8. 13. 21. 34. 55. 89. \n"
     ]
    }
   ],
   "source": [
    "import fibonacci\n",
    "fibonacci.fibonacci(100)"
   ]
  },
  {
   "cell_type": "code",
   "execution_count": 9,
   "id": "3aa77bd4-a083-457b-b635-10bbf8da703a",
   "metadata": {},
   "outputs": [],
   "source": [
    "del fibonacci"
   ]
  },
  {
   "cell_type": "code",
   "execution_count": 10,
   "id": "fcbed2d8-6180-4305-b3fc-4f654d4c1a6f",
   "metadata": {},
   "outputs": [
    {
     "name": "stdout",
     "output_type": "stream",
     "text": [
      "0. 1. 1. 2. 3. 5. 8. 13. 21. 34. 55. 89. \n"
     ]
    }
   ],
   "source": [
    "import fibonacci as fibo\n",
    "fibo.fibonacci(100)"
   ]
  },
  {
   "cell_type": "code",
   "execution_count": 11,
   "id": "527ee6fc-a029-491b-a362-ffe0ac96ee1f",
   "metadata": {},
   "outputs": [],
   "source": [
    "del fibo"
   ]
  },
  {
   "cell_type": "code",
   "execution_count": 15,
   "id": "4cfc013d-cba1-4d8b-b46a-cd15ac00db7d",
   "metadata": {},
   "outputs": [
    {
     "name": "stdout",
     "output_type": "stream",
     "text": [
      "0. 1. 1. 2. 3. 5. 8. 13. 21. 34. 55. 89. \n"
     ]
    }
   ],
   "source": [
    "from fibonacci import fibonacci as fibo\n",
    "fibo(100)"
   ]
  },
  {
   "cell_type": "code",
   "execution_count": 16,
   "id": "32137bed-8d2c-4008-9e4f-5d1de5e0f708",
   "metadata": {},
   "outputs": [],
   "source": [
    "del(fibo)"
   ]
  },
  {
   "cell_type": "code",
   "execution_count": null,
   "id": "71b07cf2-e6f6-42f9-8a9f-f3c2eb152618",
   "metadata": {},
   "outputs": [],
   "source": []
  }
 ],
 "metadata": {
  "kernelspec": {
   "display_name": "Python 3 (ipykernel)",
   "language": "python",
   "name": "python3"
  },
  "language_info": {
   "codemirror_mode": {
    "name": "ipython",
    "version": 3
   },
   "file_extension": ".py",
   "mimetype": "text/x-python",
   "name": "python",
   "nbconvert_exporter": "python",
   "pygments_lexer": "ipython3",
   "version": "3.11.7"
  }
 },
 "nbformat": 4,
 "nbformat_minor": 5
}
