{
 "cells": [
  {
   "cell_type": "markdown",
   "id": "b5e7cae3-25e1-41f5-a6bc-cf8f0a287bbc",
   "metadata": {},
   "source": [
    "<font color = \"white\" size = \"7\"><b> ch04 제어문</b></font>"
   ]
  },
  {
   "cell_type": "markdown",
   "id": "55458f15-5b7f-40e2-8c2c-7f0ebf438c8e",
   "metadata": {},
   "source": [
    "- if문, for-in문, while문"
   ]
  },
  {
   "cell_type": "markdown",
   "id": "d0729c4a-ae6a-4278-89dd-d1e6340207b0",
   "metadata": {},
   "source": [
    "# 1절 if문"
   ]
  },
  {
   "cell_type": "code",
   "execution_count": 2,
   "id": "09b3f455-1c1c-409d-ad31-a5984313beb2",
   "metadata": {},
   "outputs": [
    {
     "name": "stdin",
     "output_type": "stream",
     "text": [
      "홍길동님 Enter your score >> 94.787\n"
     ]
    },
    {
     "name": "stdout",
     "output_type": "stream",
     "text": [
      "입력하신 점수는 94.79점이고, A등급입니다\n"
     ]
    }
   ],
   "source": [
    "# 점수를 입력받아 학점 출력\n",
    "name = \"홍길동\"\n",
    "score = float(input(name + \"님 Enter your score >>\"))  # print 처럼 .format은 사용불가\n",
    "if 90<=score<=100:\n",
    "    grade = 'A'\n",
    "elif 80<=score<90:\n",
    "    grade = 'B'\n",
    "elif 70<=score<80:\n",
    "    grade = 'C'\n",
    "elif 60<=score<70:\n",
    "    grade = 'D'\n",
    "elif 0<=score<60:\n",
    "    grade = 'F'\n",
    "else: \n",
    "    grade = '유효하지 않은 점수'\n",
    "\n",
    "print('입력하신 점수는 {:.2f}점이고, {}등급입니다'.format(score, grade))\n",
    "        "
   ]
  },
  {
   "cell_type": "markdown",
   "id": "fa7b08f4-7b81-4fa8-b157-887ef46cf3fc",
   "metadata": {},
   "source": [
    "# 2절 for-in문\n",
    "```\n",
    "for 변수 in 나열이 가능한 자료형:\n",
    "    반복할 문장1\n",
    "    반복할 문장2\n",
    "else:\n",
    "    변수에 값이 할당되지 않은 경우 한번 실행할 문장(else구문 선택사항)\n",
    "    for문 안에 break가 있을 경우 else블럭 수행되지 않음\n",
    "```\n"
   ]
  },
  {
   "cell_type": "code",
   "execution_count": 7,
   "id": "2f972786-e3f5-476c-8d08-41aa3277abfa",
   "metadata": {},
   "outputs": [
    {
     "data": {
      "text/plain": [
       "[1, 3, 5, 7, 9]"
      ]
     },
     "execution_count": 7,
     "metadata": {},
     "output_type": "execute_result"
    }
   ],
   "source": [
    "list(range(1,10,2))  # range도 나열 가능한 자료"
   ]
  },
  {
   "cell_type": "code",
   "execution_count": 12,
   "id": "ea595856-3603-4439-8a66-bc1c170c95aa",
   "metadata": {},
   "outputs": [
    {
     "name": "stdout",
     "output_type": "stream",
     "text": [
      "1\t3\t5\t7\t9\t\n",
      "Done\n",
      "END\n"
     ]
    }
   ],
   "source": [
    "for i in range(1,10,2):\n",
    "    print(i, end='\\t')   # end를 빼면 print에 내장된 \\n이 자동으로 실행됨 (end = '\\n'이 default임)\n",
    "else:\n",
    "    print('\\nDone')\n",
    "print('END')"
   ]
  },
  {
   "cell_type": "code",
   "execution_count": 17,
   "id": "43a901ec-ef7e-4322-90be-c69ec2135475",
   "metadata": {},
   "outputs": [
    {
     "name": "stdout",
     "output_type": "stream",
     "text": [
      "1부터 100까지의 짝수의 합은 2550\n"
     ]
    }
   ],
   "source": [
    "# 1 ~ 100 까지 짝수의 합을 계산하고 출력하기\n",
    "tot = [i for i in range(1,101) if i%2==0]\n",
    "print('1부터 100까지의 짝수의 합은 {}'.format(sum(tot)))"
   ]
  },
  {
   "cell_type": "markdown",
   "id": "dba5038c-f52d-4b87-945d-2349f289ad45",
   "metadata": {},
   "source": [
    "# 3절 while문\n",
    "```\n",
    "while 조건:\n",
    "    반복문장1\n",
    "    반복문장2\n",
    "else:\n",
    "    조건이 거짓일 경우 한번 수행할 문장(else는 선택사항)\n",
    "    while문 내 break를 통해서 빠져 나올때는 else블럭은 수행하지 않음\n",
    "```"
   ]
  },
  {
   "cell_type": "code",
   "execution_count": 23,
   "id": "08f99a5b-9211-41b9-a24c-d3e533e83b23",
   "metadata": {},
   "outputs": [
    {
     "name": "stdin",
     "output_type": "stream",
     "text": [
      "첫번째 작은수를 입력하세요 3\n",
      "두번째 큰수를 입력하세요 5\n"
     ]
    },
    {
     "name": "stdout",
     "output_type": "stream",
     "text": [
      "3부터 5까지 홀수들의 누적합은 8입니다\n"
     ]
    }
   ],
   "source": [
    "#사용자에게 두수 입력받아 첫번째(작은수)부터 두번째(큰수)까지 홀수의 합을 누적해서 출력\n",
    "n1 = int(input('첫번째 작은수를 입력하세요'))\n",
    "n2 = int(input('두번째 큰수를 입력하세요'))\n",
    "tot = 0\n",
    "i = n1\n",
    "while i<=n2:\n",
    "    if i%2!=0:\n",
    "        tot+=i\n",
    "    i+=1\n",
    "print('{}부터 {}까지 홀수들의 누적합은 {}입니다'.format(n1, n2, tot))"
   ]
  },
  {
   "cell_type": "markdown",
   "id": "c9e36618-ff8b-43a1-9b73-cb7a5e1b7b0f",
   "metadata": {},
   "source": [
    "# 4절 break, continue"
   ]
  },
  {
   "cell_type": "code",
   "execution_count": 3,
   "id": "02496bdf-3e5f-43e8-8d02-e863311d5948",
   "metadata": {},
   "outputs": [
    {
     "name": "stdout",
     "output_type": "stream",
     "text": [
      "num = 1\tnum = 2\tnum = 4\tnum = 5\tnum = 6\tnum = 7\tnum = 8\tnum = 9\tnum = 10\tnum = 11\t"
     ]
    }
   ],
   "source": [
    "num = 0\n",
    "while num<=9:\n",
    "    num +=1\n",
    "    if num == 3:\n",
    "        continue\n",
    "        #break\n",
    "    print(\"num = {}\".format(num), end='\\t')"
   ]
  },
  {
   "cell_type": "markdown",
   "id": "bcb21add-e290-4c02-a2d8-f22a65723797",
   "metadata": {},
   "source": [
    "# 5절 이중 loop"
   ]
  },
  {
   "cell_type": "code",
   "execution_count": 8,
   "id": "a81d3f67-021d-416f-99d6-7acbd7ed7b12",
   "metadata": {},
   "outputs": [
    {
     "name": "stdout",
     "output_type": "stream",
     "text": [
      "2 X 1 =  2\t3 X 1 =  3\t4 X 1 =  4\t5 X 1 =  5\t6 X 1 =  6\t7 X 1 =  7\t8 X 1 =  8\t9 X 1 =  9\t\n",
      "2 X 2 =  4\t3 X 2 =  6\t4 X 2 =  8\t5 X 2 = 10\t6 X 2 = 12\t7 X 2 = 14\t8 X 2 = 16\t9 X 2 = 18\t\n",
      "2 X 3 =  6\t3 X 3 =  9\t4 X 3 = 12\t5 X 3 = 15\t6 X 3 = 18\t7 X 3 = 21\t8 X 3 = 24\t9 X 3 = 27\t\n",
      "2 X 4 =  8\t3 X 4 = 12\t4 X 4 = 16\t5 X 4 = 20\t6 X 4 = 24\t7 X 4 = 28\t8 X 4 = 32\t9 X 4 = 36\t\n",
      "2 X 5 = 10\t3 X 5 = 15\t4 X 5 = 20\t5 X 5 = 25\t6 X 5 = 30\t7 X 5 = 35\t8 X 5 = 40\t9 X 5 = 45\t\n",
      "2 X 6 = 12\t3 X 6 = 18\t4 X 6 = 24\t5 X 6 = 30\t6 X 6 = 36\t7 X 6 = 42\t8 X 6 = 48\t9 X 6 = 54\t\n",
      "2 X 7 = 14\t3 X 7 = 21\t4 X 7 = 28\t5 X 7 = 35\t6 X 7 = 42\t7 X 7 = 49\t8 X 7 = 56\t9 X 7 = 63\t\n",
      "2 X 8 = 16\t3 X 8 = 24\t4 X 8 = 32\t5 X 8 = 40\t6 X 8 = 48\t7 X 8 = 56\t8 X 8 = 64\t9 X 8 = 72\t\n",
      "2 X 9 = 18\t3 X 9 = 27\t4 X 9 = 36\t5 X 9 = 45\t6 X 9 = 54\t7 X 9 = 63\t8 X 9 = 72\t9 X 9 = 81\t\n"
     ]
    }
   ],
   "source": [
    "for i in range(1,10):\n",
    "    for j in range(2,10):\n",
    "        print('{} X {} = {:>2}\\t'.format(j, i, j*i), end = '')  # {:>2}는 오른쪽 정렬하겠다는 뜻\n",
    "    print() #줄바꿈 용도"
   ]
  },
  {
   "cell_type": "code",
   "execution_count": null,
   "id": "101c0877-d719-41bc-9c15-b472749ae918",
   "metadata": {},
   "outputs": [],
   "source": []
  },
  {
   "cell_type": "code",
   "execution_count": 21,
   "id": "a54c996b-4898-4acf-a937-259038d35f6d",
   "metadata": {},
   "outputs": [
    {
     "name": "stdout",
     "output_type": "stream",
     "text": [
      "14\n",
      "45\n",
      "54\n",
      "45\n"
     ]
    }
   ],
   "source": [
    "import random \n",
    "random.seed() # 똑같은 난수를 발생하게 함\n",
    "# 시드값을 같은 값으로 넣어주면 랜덤수 결과와 순서 동일\n",
    "print(random.randint(1,100))\n",
    "print(random.randint(1,100))\n",
    "print(random.randint(1,100))\n",
    "print(random.randint(1,100))"
   ]
  },
  {
   "cell_type": "code",
   "execution_count": 5,
   "id": "286efd09-0df6-445a-8da1-602a7e75002d",
   "metadata": {},
   "outputs": [],
   "source": [
    "# 1. 방법1 1~100까지 컴퓨터가 발생한 난수를 알아맞추기(최소값과 최대값을 줄여가며 범위 출력)"
   ]
  },
  {
   "cell_type": "code",
   "execution_count": 77,
   "id": "25c92958-f407-4e91-8909-f8300d791e23",
   "metadata": {},
   "outputs": [
    {
     "name": "stdin",
     "output_type": "stream",
     "text": [
      "1~100까지 수를 알아맞춰보세요 >> 50\n"
     ]
    },
    {
     "name": "stdout",
     "output_type": "stream",
     "text": [
      "50부터 100까지의 수를 입력하세요(남은기회 : 4번) >> \n"
     ]
    },
    {
     "name": "stdin",
     "output_type": "stream",
     "text": [
      " 25\n"
     ]
    },
    {
     "name": "stdout",
     "output_type": "stream",
     "text": [
      "수의 범위를 벗어났습니다.\n",
      "50부터 100까지의 수를 입력하세요(남은기회 : 3번) >> \n"
     ]
    },
    {
     "name": "stdin",
     "output_type": "stream",
     "text": [
      " 75\n"
     ]
    },
    {
     "name": "stdout",
     "output_type": "stream",
     "text": [
      "50부터 75까지의 수를 입력하세요(남은기회 : 2번) >> \n"
     ]
    },
    {
     "name": "stdin",
     "output_type": "stream",
     "text": [
      " 67\n"
     ]
    },
    {
     "name": "stdout",
     "output_type": "stream",
     "text": [
      "50부터 67까지의 수를 입력하세요(남은기회 : 1번) >> \n"
     ]
    },
    {
     "name": "stdin",
     "output_type": "stream",
     "text": [
      " 54\n"
     ]
    },
    {
     "name": "stdout",
     "output_type": "stream",
     "text": [
      "실패했습니다\n",
      "정답은 65입니다\n"
     ]
    }
   ],
   "source": [
    "# 1. 방법1 1~100까지 컴퓨터가 발생한 난수를 5번 이내로 알아맞추기(최소값과 최대값을 줄여가며 범위 출력)\n",
    "#     5번 기회 이내에 알아맞추지 않을 시 \"실패했습니다\" 출력\n",
    "import random \n",
    "random.seed() # 똑같은 난수를 발생하게 함\n",
    "# 시드값을 같은 값으로 넣어주면 랜덤수 결과와 순서 동일\n",
    "ans = random.randint(1,100)\n",
    "inp = int(input('1~100까지 수를 알아맞춰보세요 >>'))\n",
    "min_ = 1\n",
    "max_ = 100\n",
    "for i in range(4,0,-1):\n",
    "    if (inp<min_) | (max_<inp):\n",
    "        print('수의 범위를 벗어났습니다.')\n",
    "        print('{}부터 {}까지의 수를 입력하세요(남은기회 : {}번) >> '.format(min_, max_, i))\n",
    "        inp = int(input())\n",
    "    elif ans == inp:\n",
    "        print('정답입니다. {}번 만에 맞췄습니다'.format(i))\n",
    "        break\n",
    "    elif ans > inp:\n",
    "        min_ = inp\n",
    "        print('{}부터 {}까지의 수를 입력하세요(남은기회 : {}번) >> '.format(min_, max_, i))\n",
    "        inp = int(input())\n",
    "    elif ans < inp:\n",
    "        max_ = inp\n",
    "        print('{}부터 {}까지의 수를 입력하세요(남은기회 : {}번) >> '.format(min_, max_,i))\n",
    "        inp = int(input())\n",
    "else:\n",
    "    print('실패했습니다')\n",
    "    print('정답은 {}입니다'.format(ans))\n"
   ]
  },
  {
   "cell_type": "code",
   "execution_count": 75,
   "id": "3abdaaee-7193-4b14-a953-56a009edc44c",
   "metadata": {},
   "outputs": [
    {
     "name": "stdout",
     "output_type": "stream",
     "text": [
      "[12, 28, 30, 35, 37, 45]\n"
     ]
    }
   ],
   "source": [
    "# 2. 중복되지 않은 로또번호를 오름차순 정렬하여 출력\n",
    "#     (set.add(n))       (list함수를 이용해서 set을 list로 수정후 sort함수 사용)\n",
    "import random \n",
    "random.seed() # 똑같은 난수를 발생하게 함\n",
    "lotto = set()\n",
    "while(len(lotto)<6):\n",
    "    lotto.add(random.randint(1,45))\n",
    "\n",
    "lotto = list(lotto)\n",
    "lotto.sort()\n",
    "print(lotto)    "
   ]
  },
  {
   "cell_type": "code",
   "execution_count": null,
   "id": "4f049e29-0290-4a4a-876b-255e890f6bbf",
   "metadata": {},
   "outputs": [],
   "source": []
  }
 ],
 "metadata": {
  "kernelspec": {
   "display_name": "Python 3 (ipykernel)",
   "language": "python",
   "name": "python3"
  },
  "language_info": {
   "codemirror_mode": {
    "name": "ipython",
    "version": 3
   },
   "file_extension": ".py",
   "mimetype": "text/x-python",
   "name": "python",
   "nbconvert_exporter": "python",
   "pygments_lexer": "ipython3",
   "version": "3.11.7"
  }
 },
 "nbformat": 4,
 "nbformat_minor": 5
}
