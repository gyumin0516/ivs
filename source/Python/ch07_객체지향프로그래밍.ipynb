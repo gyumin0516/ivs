{
 "cells": [
  {
   "cell_type": "markdown",
   "id": "bbd25d14-04cc-4501-8266-df9290a0e799",
   "metadata": {},
   "source": [
    "<font color = \"white\" size = \"7\"><b> ch07 객체지향 프로그래밍</b></font>"
   ]
  },
  {
   "cell_type": "markdown",
   "id": "b6ed3b17-54e6-4db8-8f74-db4af4de3374",
   "metadata": {},
   "source": [
    "# 1절 객체와 클래스\n",
    "```\n",
    "class 클래스명(상속받을 클래스명):\n",
    "    변수나 함수들을 선언\n",
    "```"
   ]
  },
  {
   "cell_type": "code",
   "execution_count": 1,
   "id": "5f1ccbd1-8422-4b4d-9057-03914898729a",
   "metadata": {},
   "outputs": [],
   "source": [
    "# 클래스 이름은 무조건 대문자 \n",
    "class Person:\n",
    "    \"\"\"\n",
    "    Person 클래스는 어쩌구 저쩌구 여러줄 설명하는 독스트링\n",
    "    \"\"\"\n",
    "    pass\n",
    "p1 = Person()"
   ]
  },
  {
   "cell_type": "code",
   "execution_count": 26,
   "id": "77f0c45e-31e4-4541-ad27-5df31621cc02",
   "metadata": {},
   "outputs": [],
   "source": [
    "class Person:\n",
    "    'Person은 이름과 성별 멤버 변수가 있는 객체타입입니다'\n",
    "    def __init__(self, name='홍길동', gender='남자'):  # 생성자 함수: 객체가 만들어질때 자동으로 호출됨, 매개 변수 받음\n",
    "        self.name = name  # 내 객체 안에 있는 name에 지역변수로 받아온 name을 넣는다 \n",
    "        self.gender = gender\n",
    "        print(\"{}, {} Person 객체가 생성되었습니다\".format(self.name, self.gender))\n",
    "    def print_info(self):   # self를 꼭 넣어야 객체 안에 있는 함수로 작동함\n",
    "        print(\"{}님은 {}입니다\".format(self.name, self.gender), end = \"\\t\")\n",
    "    def print_cnt(self, cnt):\n",
    "        for i in range(cnt):\n",
    "            print(self.name, end=\"\\t\")        \n",
    "    def __str__(self):\n",
    "        return \"{}\\t 성별은 {}\".format(self.name, self.gender)    # 원래 클래스가 만들어질때 __str__을 상속받는데, 내가 다시 세팅하기"
   ]
  },
  {
   "cell_type": "code",
   "execution_count": 16,
   "id": "87e0893b-a40b-4f55-a97a-7b17669bf0ce",
   "metadata": {},
   "outputs": [
    {
     "name": "stdout",
     "output_type": "stream",
     "text": [
      "성춘향, 여자 Person 객체가 생성되었습니다\n"
     ]
    }
   ],
   "source": [
    "p1 = Person(\"성춘향\", \"여자\")"
   ]
  },
  {
   "cell_type": "code",
   "execution_count": 4,
   "id": "570f85ee-dd7a-4eeb-b7c5-059219210556",
   "metadata": {},
   "outputs": [
    {
     "name": "stdout",
     "output_type": "stream",
     "text": [
      "성춘향 여자\n"
     ]
    }
   ],
   "source": [
    "print(p1.name, p1.gender)"
   ]
  },
  {
   "cell_type": "code",
   "execution_count": 11,
   "id": "9a805331-4aee-4576-96ed-c7f262e7f51b",
   "metadata": {},
   "outputs": [
    {
     "name": "stdout",
     "output_type": "stream",
     "text": [
      "성춘향님은 여자입니다\n",
      "성춘향\t성춘향\t성춘향\t"
     ]
    }
   ],
   "source": [
    "p1.print_info() \n",
    "p1.print_cnt(3)"
   ]
  },
  {
   "cell_type": "code",
   "execution_count": 17,
   "id": "9fc0ddf7-d14a-4ca0-83d7-136cc08e754e",
   "metadata": {},
   "outputs": [
    {
     "name": "stdout",
     "output_type": "stream",
     "text": [
      "성춘향\t 성별은 여자\n"
     ]
    }
   ],
   "source": [
    "print(p1)   # print()는 __str__을 호출함, 위에서 다시 설정해주니 print 내용 바뀜"
   ]
  },
  {
   "cell_type": "markdown",
   "id": "1a8a0a12-7b65-48b0-b976-bf53a7cc2725",
   "metadata": {},
   "source": [
    "# 2절 상속과 재정의"
   ]
  },
  {
   "cell_type": "code",
   "execution_count": 35,
   "id": "3f70d71f-b2d5-4cbd-90b8-393a598eb1c3",
   "metadata": {},
   "outputs": [],
   "source": [
    "class Student(Person):\n",
    "    'name, gender, major 멤버변수를 갖는 student 타입'\n",
    "    def __init__(self, name, gender, major):\n",
    "        super().__init__(name,gender)  # 부모클래스의 생성자 함수로 name, gender 초기화\n",
    "        self.major = major\n",
    "    def print_info(self):\n",
    "        super().print_info()\n",
    "        print(\"그리고 전공은 {}입니다\".format(self.major))\n",
    "    def __str__(self):\n",
    "        return super().__str__() + \"\\t 그리고 전공은 {}\".format(self.major)"
   ]
  },
  {
   "cell_type": "code",
   "execution_count": 36,
   "id": "cd0b88b6-6bce-4e14-ac1a-c64c1e05a133",
   "metadata": {},
   "outputs": [
    {
     "name": "stdout",
     "output_type": "stream",
     "text": [
      "김철수, 남자 Person 객체가 생성되었습니다\n"
     ]
    }
   ],
   "source": [
    "s1 = Student('김철수', '남자', '컴공')"
   ]
  },
  {
   "cell_type": "code",
   "execution_count": 37,
   "id": "2c23ece1-a0b4-4f81-99bb-d479495292be",
   "metadata": {},
   "outputs": [
    {
     "name": "stdout",
     "output_type": "stream",
     "text": [
      "김철수\t김철수\t김철수\t김철수님은 남자입니다\t그리고 전공은 컴공입니다\n"
     ]
    }
   ],
   "source": [
    "s1.print_cnt(3)\n",
    "s1.print_info()"
   ]
  },
  {
   "cell_type": "code",
   "execution_count": 38,
   "id": "4ab39c67-67c8-4ed3-b531-29fe048552a9",
   "metadata": {},
   "outputs": [
    {
     "name": "stdout",
     "output_type": "stream",
     "text": [
      "김철수\t 성별은 남자\t 그리고 전공은 컴공\n"
     ]
    }
   ],
   "source": [
    "print(s1)"
   ]
  },
  {
   "cell_type": "markdown",
   "id": "3cb98185-c72c-46c6-a7cc-380a271b5a50",
   "metadata": {},
   "source": [
    "# 3절 연습문제"
   ]
  },
  {
   "cell_type": "code",
   "execution_count": 42,
   "id": "0579c983-150c-4758-820a-7fff0df02ce1",
   "metadata": {},
   "outputs": [],
   "source": [
    "class Shape:\n",
    "    def __init__(self, width=0, height=0):\n",
    "        self.width = width\n",
    "        self.height = height\n",
    "    def modify(self, width, height):\n",
    "        self.width = width\n",
    "        self.height = height\n",
    "    def cal_area(self):\n",
    "        return self.width*self.height\n",
    "    def __str__(self):\n",
    "        return \"width : {}, height : {}, area : {}\".format(self.width,self.height,self.cal_area())\n",
    "        \n",
    "        "
   ]
  },
  {
   "cell_type": "code",
   "execution_count": 43,
   "id": "ee29a1ba-2be6-4343-9792-a51294e00ec1",
   "metadata": {},
   "outputs": [
    {
     "name": "stdout",
     "output_type": "stream",
     "text": [
      "width : 10, height : 10, area : 100\n"
     ]
    }
   ],
   "source": [
    "s = Shape(10,10)\n",
    "print(s)"
   ]
  },
  {
   "cell_type": "code",
   "execution_count": 50,
   "id": "add0083d-815e-4c88-a11e-0e608fe88c7d",
   "metadata": {},
   "outputs": [],
   "source": [
    "class Triangle(Shape):\n",
    "    def __init__(self, width, height, x=0,y=0):\n",
    "        super().__init__(width, height)  \n",
    "        self.x = x\n",
    "        self.y = y\n",
    "    def modify(self, width, height,x,y):\n",
    "        super().modify(width,height)\n",
    "        self.x = x\n",
    "        self.y = y\n",
    "    def cal_area(self):\n",
    "        return self.width*self.height*0.5\n",
    "    def __str__(self):\n",
    "        return super().__str__() + \", x좌표 : {}, y좌표 : {},\".format(self.x,self.y)"
   ]
  },
  {
   "cell_type": "code",
   "execution_count": 51,
   "id": "87dec5db-0961-43c4-88ef-db3cbefc1d05",
   "metadata": {},
   "outputs": [
    {
     "name": "stdout",
     "output_type": "stream",
     "text": [
      "width : 10, height : 10, area : 50.0, x좌표 : 5, y좌표 : 8,\n"
     ]
    }
   ],
   "source": [
    "t1 = Triangle(10,10,5,8)\n",
    "print(t1)"
   ]
  },
  {
   "cell_type": "code",
   "execution_count": null,
   "id": "80991cbb-23ae-4a38-8364-deec12dbc06e",
   "metadata": {},
   "outputs": [],
   "source": []
  },
  {
   "cell_type": "code",
   "execution_count": null,
   "id": "2006e9d3-abaa-43e9-9a7f-055f81cf93c1",
   "metadata": {},
   "outputs": [],
   "source": []
  },
  {
   "cell_type": "code",
   "execution_count": null,
   "id": "1a0e2d21-13a2-4757-b286-40a1c7267810",
   "metadata": {},
   "outputs": [],
   "source": []
  },
  {
   "cell_type": "code",
   "execution_count": null,
   "id": "8d5f82af-3972-4d11-8bcc-afe855a146a8",
   "metadata": {},
   "outputs": [],
   "source": []
  },
  {
   "cell_type": "code",
   "execution_count": null,
   "id": "3e7d4e8b-9988-4a17-9eb6-0bb9852fbbdd",
   "metadata": {},
   "outputs": [],
   "source": []
  },
  {
   "cell_type": "code",
   "execution_count": null,
   "id": "3290c286-ea4e-4bfa-a9d3-f259033b9f01",
   "metadata": {},
   "outputs": [],
   "source": []
  },
  {
   "cell_type": "code",
   "execution_count": null,
   "id": "5e7e283b-51ac-4f8c-a397-ab8095a29a01",
   "metadata": {},
   "outputs": [],
   "source": []
  },
  {
   "cell_type": "code",
   "execution_count": null,
   "id": "6a632df1-a506-4913-a54c-0a143cbb58f2",
   "metadata": {},
   "outputs": [],
   "source": []
  },
  {
   "cell_type": "code",
   "execution_count": null,
   "id": "a7d6a450-c063-4789-9a0a-3f48e40ec41d",
   "metadata": {},
   "outputs": [],
   "source": []
  },
  {
   "cell_type": "code",
   "execution_count": null,
   "id": "c656a579-c6bf-4040-a3af-4f2f35c16e20",
   "metadata": {},
   "outputs": [],
   "source": []
  },
  {
   "cell_type": "code",
   "execution_count": null,
   "id": "46771563-9023-4bbe-9694-02efefda2980",
   "metadata": {},
   "outputs": [],
   "source": []
  }
 ],
 "metadata": {
  "kernelspec": {
   "display_name": "Python 3 (ipykernel)",
   "language": "python",
   "name": "python3"
  },
  "language_info": {
   "codemirror_mode": {
    "name": "ipython",
    "version": 3
   },
   "file_extension": ".py",
   "mimetype": "text/x-python",
   "name": "python",
   "nbconvert_exporter": "python",
   "pygments_lexer": "ipython3",
   "version": "3.11.7"
  }
 },
 "nbformat": 4,
 "nbformat_minor": 5
}
