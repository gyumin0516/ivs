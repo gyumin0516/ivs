{
 "cells": [
  {
   "cell_type": "markdown",
   "id": "91a92d12-1ee0-4378-97e0-f5eef2c4495c",
   "metadata": {},
   "source": [
    "<font color = \"white\" size = \"7\"><b> ch08 예외처리</b></font>"
   ]
  },
  {
   "cell_type": "markdown",
   "id": "9b0c15c5-73b8-4149-bc76-af766c85aba0",
   "metadata": {},
   "source": [
    "# 1절 예외처리\n",
    "- 예외가 날 가능성이 있는 부분을 미리 예상하고 그에 대한 처리를 프로그래밍 하는 것(이유 안정적으로 실행될 수 있도록 하기 위함)"
   ]
  },
  {
   "cell_type": "code",
   "execution_count": 3,
   "id": "25e971ef-934e-4354-b7cf-e915adac8c02",
   "metadata": {},
   "outputs": [
    {
     "name": "stdin",
     "output_type": "stream",
     "text": [
      "파일명 ch08.txt\n"
     ]
    },
    {
     "data": {
      "text/plain": [
       "['This is test file \\n', 'Hello, Python\\n', '테스트 파일입니다\\n']"
      ]
     },
     "execution_count": 3,
     "metadata": {},
     "output_type": "execute_result"
    }
   ],
   "source": [
    "# 있는 파일일 경우 예외 발생 안함\n",
    "filename = input('파일명')\n",
    "f = open('data/'+filename, 'r', encoding = 'UTF-8')  # encoding의 default 값은 cp949, UTF-8로 바꿔줘야함 \n",
    "f.readlines()"
   ]
  },
  {
   "cell_type": "code",
   "execution_count": 4,
   "id": "da778941-fef3-4b80-a220-758f7db2e324",
   "metadata": {},
   "outputs": [],
   "source": [
    "f.close()"
   ]
  },
  {
   "cell_type": "code",
   "execution_count": 5,
   "id": "2a2f08ce-d482-4bd1-958e-5b3bc6ece5d9",
   "metadata": {},
   "outputs": [
    {
     "name": "stdin",
     "output_type": "stream",
     "text": [
      "파일명 a.txt\n"
     ]
    },
    {
     "ename": "FileNotFoundError",
     "evalue": "[Errno 2] No such file or directory: 'data/a.txt'",
     "output_type": "error",
     "traceback": [
      "\u001b[1;31m---------------------------------------------------------------------------\u001b[0m",
      "\u001b[1;31mFileNotFoundError\u001b[0m                         Traceback (most recent call last)",
      "Cell \u001b[1;32mIn[5], line 3\u001b[0m\n\u001b[0;32m      1\u001b[0m \u001b[38;5;66;03m# 없는 파일일 경우 예외 발생 \u001b[39;00m\n\u001b[0;32m      2\u001b[0m filename \u001b[38;5;241m=\u001b[39m \u001b[38;5;28minput\u001b[39m(\u001b[38;5;124m'\u001b[39m\u001b[38;5;124m파일명\u001b[39m\u001b[38;5;124m'\u001b[39m)\n\u001b[1;32m----> 3\u001b[0m f \u001b[38;5;241m=\u001b[39m \u001b[38;5;28mopen\u001b[39m(\u001b[38;5;124m'\u001b[39m\u001b[38;5;124mdata/\u001b[39m\u001b[38;5;124m'\u001b[39m\u001b[38;5;241m+\u001b[39mfilename, \u001b[38;5;124m'\u001b[39m\u001b[38;5;124mr\u001b[39m\u001b[38;5;124m'\u001b[39m, encoding \u001b[38;5;241m=\u001b[39m \u001b[38;5;124m'\u001b[39m\u001b[38;5;124mUTF-8\u001b[39m\u001b[38;5;124m'\u001b[39m)  \u001b[38;5;66;03m# encoding의 default 값은 cp949, UTF-8로 바꿔줘야함 \u001b[39;00m\n\u001b[0;32m      4\u001b[0m f\u001b[38;5;241m.\u001b[39mreadlines()\n",
      "File \u001b[1;32m~\\anaconda3\\Lib\\site-packages\\IPython\\core\\interactiveshell.py:310\u001b[0m, in \u001b[0;36m_modified_open\u001b[1;34m(file, *args, **kwargs)\u001b[0m\n\u001b[0;32m    303\u001b[0m \u001b[38;5;28;01mif\u001b[39;00m file \u001b[38;5;129;01min\u001b[39;00m {\u001b[38;5;241m0\u001b[39m, \u001b[38;5;241m1\u001b[39m, \u001b[38;5;241m2\u001b[39m}:\n\u001b[0;32m    304\u001b[0m     \u001b[38;5;28;01mraise\u001b[39;00m \u001b[38;5;167;01mValueError\u001b[39;00m(\n\u001b[0;32m    305\u001b[0m         \u001b[38;5;124mf\u001b[39m\u001b[38;5;124m\"\u001b[39m\u001b[38;5;124mIPython won\u001b[39m\u001b[38;5;124m'\u001b[39m\u001b[38;5;124mt let you open fd=\u001b[39m\u001b[38;5;132;01m{\u001b[39;00mfile\u001b[38;5;132;01m}\u001b[39;00m\u001b[38;5;124m by default \u001b[39m\u001b[38;5;124m\"\u001b[39m\n\u001b[0;32m    306\u001b[0m         \u001b[38;5;124m\"\u001b[39m\u001b[38;5;124mas it is likely to crash IPython. If you know what you are doing, \u001b[39m\u001b[38;5;124m\"\u001b[39m\n\u001b[0;32m    307\u001b[0m         \u001b[38;5;124m\"\u001b[39m\u001b[38;5;124myou can use builtins\u001b[39m\u001b[38;5;124m'\u001b[39m\u001b[38;5;124m open.\u001b[39m\u001b[38;5;124m\"\u001b[39m\n\u001b[0;32m    308\u001b[0m     )\n\u001b[1;32m--> 310\u001b[0m \u001b[38;5;28;01mreturn\u001b[39;00m io_open(file, \u001b[38;5;241m*\u001b[39margs, \u001b[38;5;241m*\u001b[39m\u001b[38;5;241m*\u001b[39mkwargs)\n",
      "\u001b[1;31mFileNotFoundError\u001b[0m: [Errno 2] No such file or directory: 'data/a.txt'"
     ]
    }
   ],
   "source": [
    "# 없는 파일일 경우 예외 발생 \n",
    "filename = input('파일명')\n",
    "f = open('data/'+filename, 'r', encoding = 'UTF-8')  # encoding의 default 값은 cp949, UTF-8로 바꿔줘야함 \n",
    "f.readlines()\n",
    "\n",
    "# 예외 객체: FileNotFoundError, 예외 메시지 : [Errno 2] No such file or directory: 'data/a.txt'"
   ]
  },
  {
   "cell_type": "code",
   "execution_count": 7,
   "id": "0319ff46-d81a-419b-93fb-f32d30cbb0eb",
   "metadata": {},
   "outputs": [
    {
     "name": "stdin",
     "output_type": "stream",
     "text": [
      "나눌 숫자를 입력하세요 >>  0\n"
     ]
    },
    {
     "ename": "ZeroDivisionError",
     "evalue": "division by zero",
     "output_type": "error",
     "traceback": [
      "\u001b[1;31m---------------------------------------------------------------------------\u001b[0m",
      "\u001b[1;31mZeroDivisionError\u001b[0m                         Traceback (most recent call last)",
      "Cell \u001b[1;32mIn[7], line 4\u001b[0m\n\u001b[0;32m      1\u001b[0m \u001b[38;5;66;03m# ValueError 예외 객체 : 숫자가 아닌 문자를 입력했을때\u001b[39;00m\n\u001b[0;32m      2\u001b[0m \u001b[38;5;66;03m# ZeroDivisionError 예외 객체 : 0으로 나눠졌을 경우\u001b[39;00m\n\u001b[0;32m      3\u001b[0m num \u001b[38;5;241m=\u001b[39m \u001b[38;5;28mint\u001b[39m(\u001b[38;5;28minput\u001b[39m(\u001b[38;5;124m\"\u001b[39m\u001b[38;5;124m나눌 숫자를 입력하세요 >> \u001b[39m\u001b[38;5;124m\"\u001b[39m))\n\u001b[1;32m----> 4\u001b[0m \u001b[38;5;241m100\u001b[39m\u001b[38;5;241m/\u001b[39mnum\n",
      "\u001b[1;31mZeroDivisionError\u001b[0m: division by zero"
     ]
    }
   ],
   "source": [
    "# ValueError 예외 객체 : 숫자가 아닌 문자를 입력했을때\n",
    "# ZeroDivisionError 예외 객체 : 0으로 나눠졌을 경우\n",
    "num = int(input(\"나눌 숫자를 입력하세요 >> \"))\n",
    "100/num"
   ]
  },
  {
   "cell_type": "code",
   "execution_count": 8,
   "id": "f77cf666-47a7-4aae-ac2d-577746581ad1",
   "metadata": {},
   "outputs": [
    {
     "ename": "IndexError",
     "evalue": "list index out of range",
     "output_type": "error",
     "traceback": [
      "\u001b[1;31m---------------------------------------------------------------------------\u001b[0m",
      "\u001b[1;31mIndexError\u001b[0m                                Traceback (most recent call last)",
      "Cell \u001b[1;32mIn[8], line 3\u001b[0m\n\u001b[0;32m      1\u001b[0m \u001b[38;5;66;03m# 인덱스를 벗어났을 경우\u001b[39;00m\n\u001b[0;32m      2\u001b[0m a \u001b[38;5;241m=\u001b[39m[\u001b[38;5;241m1\u001b[39m,\u001b[38;5;241m2\u001b[39m,\u001b[38;5;241m3\u001b[39m]\n\u001b[1;32m----> 3\u001b[0m a[\u001b[38;5;241m3\u001b[39m]\n",
      "\u001b[1;31mIndexError\u001b[0m: list index out of range"
     ]
    }
   ],
   "source": [
    "# 인덱스를 벗어났을 경우(IndexError]\n",
    "a =[1,2,3]\n",
    "a[3]"
   ]
  },
  {
   "cell_type": "markdown",
   "id": "d0e80a42-0729-4931-a5c1-81dd54a26f54",
   "metadata": {},
   "source": [
    "# 2절 try~except로 예외 처리\n",
    "```\n",
    "try:\n",
    "    예외 발생할 가능성이 있는 명령어1\n",
    "    명령어....\n",
    "except [예외타입 [as 예외변수명]]:  # 예외 타입은 생략가능 \n",
    "    예외가 발생했을 경우 수행되는 명령어\n",
    "else :   # 거의 안씀\n",
    "    예외가 발생되지 않을 경우 수행 명령어    \n",
    "finally:  # 잘 안씀 \n",
    "    예외가 발생되든 아뇌든 반드시 실행할 명령어\n",
    "```"
   ]
  },
  {
   "cell_type": "code",
   "execution_count": 10,
   "id": "c239af0c-aa58-40cd-bf37-105aceb54864",
   "metadata": {},
   "outputs": [
    {
     "name": "stdin",
     "output_type": "stream",
     "text": [
      "100을 나눌 정수를 입력하세요 >>  s\n"
     ]
    },
    {
     "name": "stdout",
     "output_type": "stream",
     "text": [
      "유효한 정수가 아닙니다\n"
     ]
    }
   ],
   "source": [
    "# 100을 입력받은 정수값으로 나눠 출력한다\n",
    "# ValueError\n",
    "# ZeroDivisionError\n",
    "try:\n",
    "    x = int(input('100을 나눌 정수를 입력하세요 >> '))\n",
    "    print('입력한 수는 {}'.format(x))\n",
    "    print('100을 입력한 정수로 나누면 {:.2f}입니다'.format(100/x))\n",
    "except:\n",
    "    print('유효한 정수가 아닙니다')"
   ]
  },
  {
   "cell_type": "code",
   "execution_count": 16,
   "id": "aaff4150-4f4f-4efc-bdc3-c2bf7f66a897",
   "metadata": {},
   "outputs": [
    {
     "name": "stdin",
     "output_type": "stream",
     "text": [
      "100을 나눌 정수를 입력하세요 >>  s\n"
     ]
    },
    {
     "name": "stdout",
     "output_type": "stream",
     "text": [
      "0으로는 나눌 수 없습니다\n"
     ]
    }
   ],
   "source": [
    "# 에러마다 따로 지정\n",
    "try:\n",
    "    x = int(input('100을 나눌 정수를 입력하세요 >> '))\n",
    "    print('입력한 수는 {}'.format(x))\n",
    "    print('100을 입력한 정수로 나누면 {:.2f}입니다'.format(100/x))\n",
    "except ValueError:\n",
    "    print('유효한 숫자를 입력하세요')\n",
    "except ZeroDivionError:   \n",
    "    print('0으로는 나눌 수 없습니다')\n",
    "except Exception:   # Exceptoin이 value 에러보다 상위 에러이므로 제일 밑에 와야한다\n",
    "    print('알 수 없는 혹시 모를 에러입니다')"
   ]
  },
  {
   "cell_type": "code",
   "execution_count": 19,
   "id": "9ee97d34-50b1-41c7-a27f-75597437cf53",
   "metadata": {},
   "outputs": [
    {
     "name": "stdin",
     "output_type": "stream",
     "text": [
      "100을 나눌 정수를 입력하세요 >>  0\n"
     ]
    },
    {
     "name": "stdout",
     "output_type": "stream",
     "text": [
      "입력한 수는 0\n",
      "0으로는 나눌 수 없습니다\n"
     ]
    },
    {
     "name": "stdin",
     "output_type": "stream",
     "text": [
      "100을 나눌 정수를 입력하세요 >>  0\n"
     ]
    },
    {
     "name": "stdout",
     "output_type": "stream",
     "text": [
      "입력한 수는 0\n",
      "0으로는 나눌 수 없습니다\n"
     ]
    },
    {
     "name": "stdin",
     "output_type": "stream",
     "text": [
      "100을 나눌 정수를 입력하세요 >>  ㄴ\n"
     ]
    },
    {
     "name": "stdout",
     "output_type": "stream",
     "text": [
      "유효한 숫자를 입력하세요\n"
     ]
    },
    {
     "name": "stdin",
     "output_type": "stream",
     "text": [
      "100을 나눌 정수를 입력하세요 >>  3\n"
     ]
    },
    {
     "name": "stdout",
     "output_type": "stream",
     "text": [
      "입력한 수는 3\n",
      "100을 입력한 정수로 나누면 33.33입니다\n"
     ]
    }
   ],
   "source": [
    "# 유효한 숫자를 입력할 때까지 수를 입력받기\n",
    "while True:\n",
    "    try:\n",
    "        x = int(input('100을 나눌 정수를 입력하세요 >> '))\n",
    "        print('입력한 수는 {}'.format(x))\n",
    "        print('100을 입력한 정수로 나누면 {:.2f}입니다'.format(100/x))\n",
    "        break\n",
    "    except ValueError:\n",
    "        print('유효한 숫자를 입력하세요')\n",
    "    except ZeroDivisionError:   \n",
    "        print('0으로는 나눌 수 없습니다')\n",
    "    except Exception:   # Exceptoin이 value 에러보다 상위 에러이므로 제일 밑에 와야한다\n",
    "        print('알 수 없는 혹시 모를 에러입니다')"
   ]
  },
  {
   "cell_type": "code",
   "execution_count": 20,
   "id": "fa0fe9dd-80af-4955-931c-5a73e57fb0d0",
   "metadata": {},
   "outputs": [
    {
     "name": "stdin",
     "output_type": "stream",
     "text": [
      "100을 나눌 정수를 입력하세요 >>  0\n"
     ]
    },
    {
     "name": "stdout",
     "output_type": "stream",
     "text": [
      "입력한 수는 0\n",
      "division by zero\n",
      "예외 객체의 타입 : <class 'ZeroDivisionError'>\n",
      "예외 메세지 e.args : ('division by zero',)\n"
     ]
    },
    {
     "name": "stdin",
     "output_type": "stream",
     "text": [
      "100을 나눌 정수를 입력하세요 >>  s\n"
     ]
    },
    {
     "name": "stdout",
     "output_type": "stream",
     "text": [
      "invalid literal for int() with base 10: 's'\n",
      "예외 객체의 타입 : <class 'ValueError'>\n",
      "예외 메세지 e.args : (\"invalid literal for int() with base 10: 's'\",)\n"
     ]
    },
    {
     "name": "stdin",
     "output_type": "stream",
     "text": [
      "100을 나눌 정수를 입력하세요 >>  2\n"
     ]
    },
    {
     "name": "stdout",
     "output_type": "stream",
     "text": [
      "입력한 수는 2\n",
      "100을 입력한 정수로 나누면 50.00입니다\n"
     ]
    }
   ],
   "source": [
    "# 유효한 숫자를 입력할 때까지 수를 입력받기\n",
    "while True:\n",
    "    try:\n",
    "        x = int(input('100을 나눌 정수를 입력하세요 >> '))\n",
    "        print('입력한 수는 {}'.format(x))\n",
    "        print('100을 입력한 정수로 나누면 {:.2f}입니다'.format(100/x))\n",
    "        break\n",
    "    except (ValueError, ZeroDivisionError) as e:\n",
    "        print(e)  # print(e.__str__())\n",
    "        print('예외 객체의 타입 :', type(e))\n",
    "        print('예외 메세지 e.args :', e.args)"
   ]
  },
  {
   "cell_type": "code",
   "execution_count": 28,
   "id": "5ad4d6c3-4028-4e2a-bc73-c70c7bb39ade",
   "metadata": {},
   "outputs": [
    {
     "name": "stdout",
     "output_type": "stream",
     "text": [
      "This is test file \n",
      "Hello, Python\n",
      "테스트 파일입니다\n",
      "\n",
      "<class 'str'>\n"
     ]
    }
   ],
   "source": [
    "try:\n",
    "    f = open('data/ch08.txt', 'r', encoding = \"utf-8\")\n",
    "    data = f.read()  # 파일을 끝까지 텍스르 형태로 읽어서 반환\n",
    "    print(data)\n",
    "except FileNotFoundError as e:\n",
    "    print(e)\n",
    "else : \n",
    "    print(type(data))\n",
    "finally:\n",
    "    f.close  # 중요(파일에 쓸때 안닫으면 저장이 안됨)"
   ]
  },
  {
   "cell_type": "markdown",
   "id": "1a4e1358-2da6-4eb4-b3dd-bf99bc0e105e",
   "metadata": {},
   "source": [
    "# 3절 강제로 예외 발생(raise)"
   ]
  },
  {
   "cell_type": "code",
   "execution_count": 29,
   "id": "fa65ded3-7852-4429-a954-2a5f52d60f04",
   "metadata": {},
   "outputs": [
    {
     "ename": "Exception",
     "evalue": "예외가 발생했습니다",
     "output_type": "error",
     "traceback": [
      "\u001b[1;31m---------------------------------------------------------------------------\u001b[0m",
      "\u001b[1;31mException\u001b[0m                                 Traceback (most recent call last)",
      "Cell \u001b[1;32mIn[29], line 1\u001b[0m\n\u001b[1;32m----> 1\u001b[0m \u001b[38;5;28;01mraise\u001b[39;00m \u001b[38;5;167;01mException\u001b[39;00m(\u001b[38;5;124m\"\u001b[39m\u001b[38;5;124m예외가 발생했습니다\u001b[39m\u001b[38;5;124m\"\u001b[39m)\n",
      "\u001b[1;31mException\u001b[0m: 예외가 발생했습니다"
     ]
    }
   ],
   "source": [
    "raise Exception(\"예외가 발생했습니다\")"
   ]
  },
  {
   "cell_type": "code",
   "execution_count": 37,
   "id": "cde2c460-5052-41b8-9800-38bc3c574de2",
   "metadata": {},
   "outputs": [],
   "source": [
    "# 사용자 정의 예외 타입\n",
    "class LengthZeroError(Exception):\n",
    "    \"길이가 0일때 발생하는 예외\"\n",
    "    def __init__(self):    \n",
    "        super().__init__(\"매개변수 길이가 0이면 예외\")"
   ]
  },
  {
   "cell_type": "code",
   "execution_count": 38,
   "id": "07eff283-32b9-42fb-8cad-6d07616bb971",
   "metadata": {},
   "outputs": [
    {
     "ename": "LengthZeroError",
     "evalue": "매개변수 길이가 0이면 예외",
     "output_type": "error",
     "traceback": [
      "\u001b[1;31m---------------------------------------------------------------------------\u001b[0m",
      "\u001b[1;31mLengthZeroError\u001b[0m                           Traceback (most recent call last)",
      "Cell \u001b[1;32mIn[38], line 1\u001b[0m\n\u001b[1;32m----> 1\u001b[0m \u001b[38;5;28;01mraise\u001b[39;00m LengthZeroError()\n",
      "\u001b[1;31mLengthZeroError\u001b[0m: 매개변수 길이가 0이면 예외"
     ]
    }
   ],
   "source": [
    "raise LengthZeroError()"
   ]
  },
  {
   "cell_type": "code",
   "execution_count": 42,
   "id": "c56c6965-79b5-4d72-ad88-caba06d07515",
   "metadata": {},
   "outputs": [
    {
     "ename": "LengthZeroError",
     "evalue": "매개변수 길이가 0이면 예외",
     "output_type": "error",
     "traceback": [
      "\u001b[1;31m---------------------------------------------------------------------------\u001b[0m",
      "\u001b[1;31mLengthZeroError\u001b[0m                           Traceback (most recent call last)",
      "Cell \u001b[1;32mIn[42], line 7\u001b[0m\n\u001b[0;32m      5\u001b[0m         \u001b[38;5;28mprint\u001b[39m(item, end \u001b[38;5;241m=\u001b[39m \u001b[38;5;124m'\u001b[39m\u001b[38;5;130;01m\\t\u001b[39;00m\u001b[38;5;124m'\u001b[39m)\n\u001b[0;32m      6\u001b[0m     \u001b[38;5;28mprint\u001b[39m(\u001b[38;5;124m\"\u001b[39m\u001b[38;5;124m등을 입력하셨습니다\u001b[39m\u001b[38;5;124m\"\u001b[39m)\n\u001b[1;32m----> 7\u001b[0m insert()\n",
      "Cell \u001b[1;32mIn[42], line 3\u001b[0m, in \u001b[0;36minsert\u001b[1;34m(*data)\u001b[0m\n\u001b[0;32m      1\u001b[0m \u001b[38;5;28;01mdef\u001b[39;00m \u001b[38;5;21minsert\u001b[39m(\u001b[38;5;241m*\u001b[39mdata):\n\u001b[0;32m      2\u001b[0m     \u001b[38;5;28;01mif\u001b[39;00m \u001b[38;5;28mlen\u001b[39m(data)\u001b[38;5;241m==\u001b[39m\u001b[38;5;241m0\u001b[39m:\n\u001b[1;32m----> 3\u001b[0m         \u001b[38;5;28;01mraise\u001b[39;00m LengthZeroError()\n\u001b[0;32m      4\u001b[0m     \u001b[38;5;28;01mfor\u001b[39;00m item \u001b[38;5;129;01min\u001b[39;00m data:\n\u001b[0;32m      5\u001b[0m         \u001b[38;5;28mprint\u001b[39m(item, end \u001b[38;5;241m=\u001b[39m \u001b[38;5;124m'\u001b[39m\u001b[38;5;130;01m\\t\u001b[39;00m\u001b[38;5;124m'\u001b[39m)\n",
      "\u001b[1;31mLengthZeroError\u001b[0m: 매개변수 길이가 0이면 예외"
     ]
    }
   ],
   "source": [
    "def insert(*data):\n",
    "    if len(data)==0:\n",
    "        raise LengthZeroError()\n",
    "    for item in data:\n",
    "        print(item, end = '\\t')\n",
    "    print(\"등을 입력하셨습니다\")\n",
    "insert()"
   ]
  },
  {
   "cell_type": "markdown",
   "id": "eac77ed9-a67a-438e-a635-b841bcef9aa8",
   "metadata": {},
   "source": [
    "# 4절 파일 정리 작업(with 절 이용)"
   ]
  },
  {
   "cell_type": "code",
   "execution_count": 45,
   "id": "2b884a1e-4597-49b4-b7dc-d3cef23975ea",
   "metadata": {},
   "outputs": [
    {
     "name": "stdout",
     "output_type": "stream",
     "text": [
      "['This is test file \\n', 'Hello, Python\\n', '테스트 파일입니다\\n']\n",
      "<class 'list'>\n"
     ]
    }
   ],
   "source": [
    "# 파일을 입출력 시 자원 반납 필수(close)\n",
    "try :\n",
    "    f = open('data/ch08.txt', 'r', encoding = 'utf-8')\n",
    "    lines = f.readlines()  # 한줄한줄 모든 줄을 list형태로 반환\n",
    "    print(lines)\n",
    "    print(type(lines))\n",
    "except Exeption:\n",
    "    print('없는 파일이거나 encoding 확인 요망', e)\n",
    "finally:\n",
    "    f.close()"
   ]
  },
  {
   "cell_type": "code",
   "execution_count": 46,
   "id": "8281373b-07a8-48c8-8c56-278a0aad5323",
   "metadata": {},
   "outputs": [
    {
     "name": "stdout",
     "output_type": "stream",
     "text": [
      "['This is test file \\n', 'Hello, Python\\n', '테스트 파일입니다\\n']\n"
     ]
    }
   ],
   "source": [
    "# with 절 이용시 자동으로 close() 실행됨\n",
    "with open('data/ch08.txt', 'r', encoding = 'utf-8') as f:   # with 절 안에서만 f 사용 가능\n",
    "    lines = f.readlines()\n",
    "print(lines)"
   ]
  },
  {
   "cell_type": "markdown",
   "id": "5e7d7fa6-1e02-4c33-9ce9-4a41791dfcbd",
   "metadata": {},
   "source": [
    "# 5절 연습문제"
   ]
  },
  {
   "cell_type": "code",
   "execution_count": null,
   "id": "cef4d360-e9d2-4bba-b7e9-69cb1c7388eb",
   "metadata": {},
   "outputs": [],
   "source": []
  },
  {
   "cell_type": "code",
   "execution_count": null,
   "id": "82fca8c7-766b-4cb9-96ef-c4facf1d5b8b",
   "metadata": {},
   "outputs": [],
   "source": []
  },
  {
   "cell_type": "code",
   "execution_count": null,
   "id": "a54aac52-9a6f-42d2-be72-038a2d70dc5f",
   "metadata": {},
   "outputs": [],
   "source": []
  },
  {
   "cell_type": "code",
   "execution_count": null,
   "id": "8087410a-6107-40ae-a29a-e722c072096b",
   "metadata": {},
   "outputs": [],
   "source": []
  },
  {
   "cell_type": "code",
   "execution_count": null,
   "id": "60b78f61-3b99-446f-a00a-2a61f022ac77",
   "metadata": {},
   "outputs": [],
   "source": []
  },
  {
   "cell_type": "code",
   "execution_count": null,
   "id": "f993e283-690a-4f33-8c8d-6d34ea3b0130",
   "metadata": {},
   "outputs": [],
   "source": []
  },
  {
   "cell_type": "code",
   "execution_count": null,
   "id": "e6cb776c-8a30-45bb-83db-ef9fd525503d",
   "metadata": {},
   "outputs": [],
   "source": []
  },
  {
   "cell_type": "code",
   "execution_count": null,
   "id": "a99cb1ad-26fd-43bd-a7c4-71e114212b40",
   "metadata": {},
   "outputs": [],
   "source": []
  },
  {
   "cell_type": "code",
   "execution_count": null,
   "id": "ca015ac7-5e10-4220-b819-ef9bb485e6b9",
   "metadata": {},
   "outputs": [],
   "source": []
  },
  {
   "cell_type": "code",
   "execution_count": null,
   "id": "cbf244d3-47e7-45f9-8099-61ddb3207a81",
   "metadata": {},
   "outputs": [],
   "source": []
  },
  {
   "cell_type": "code",
   "execution_count": null,
   "id": "1ecce270-b549-4a03-8688-5a5916314aa8",
   "metadata": {},
   "outputs": [],
   "source": []
  },
  {
   "cell_type": "code",
   "execution_count": null,
   "id": "28cec4ac-e756-4964-aca9-f4383d331da5",
   "metadata": {},
   "outputs": [],
   "source": []
  },
  {
   "cell_type": "code",
   "execution_count": null,
   "id": "d44834a5-6369-4ef2-a5dd-88365c3e7c2d",
   "metadata": {},
   "outputs": [],
   "source": []
  },
  {
   "cell_type": "code",
   "execution_count": null,
   "id": "7e07d214-d1d7-435a-a496-2721319fe787",
   "metadata": {},
   "outputs": [],
   "source": []
  },
  {
   "cell_type": "code",
   "execution_count": null,
   "id": "afff2c61-5b25-48e8-b9c6-a56ae3ebb945",
   "metadata": {},
   "outputs": [],
   "source": []
  },
  {
   "cell_type": "code",
   "execution_count": null,
   "id": "e29b1db1-2d2a-4a9c-b0b2-154e18c29410",
   "metadata": {},
   "outputs": [],
   "source": []
  },
  {
   "cell_type": "code",
   "execution_count": null,
   "id": "16ac4431-ada0-4986-a69b-052a70f314f1",
   "metadata": {},
   "outputs": [],
   "source": []
  },
  {
   "cell_type": "code",
   "execution_count": null,
   "id": "b95306c6-008e-4070-85c3-a52bbffc8578",
   "metadata": {},
   "outputs": [],
   "source": []
  },
  {
   "cell_type": "code",
   "execution_count": null,
   "id": "8213820f-233b-4a7e-a80c-7ae989407c15",
   "metadata": {},
   "outputs": [],
   "source": []
  },
  {
   "cell_type": "code",
   "execution_count": null,
   "id": "ecb4ef6d-0475-4fe1-b6aa-aeeec42d6fcb",
   "metadata": {},
   "outputs": [],
   "source": []
  },
  {
   "cell_type": "code",
   "execution_count": null,
   "id": "ca69e916-88c7-4e04-87a7-3f7b30267550",
   "metadata": {},
   "outputs": [],
   "source": []
  },
  {
   "cell_type": "code",
   "execution_count": null,
   "id": "dfcf7204-3f05-4226-97d1-54de84b6817e",
   "metadata": {},
   "outputs": [],
   "source": []
  },
  {
   "cell_type": "code",
   "execution_count": null,
   "id": "2d2b7907-0676-44ad-8d98-44919e47aa04",
   "metadata": {},
   "outputs": [],
   "source": []
  },
  {
   "cell_type": "code",
   "execution_count": null,
   "id": "9baea35b-1280-45b9-8e7a-69918d20e789",
   "metadata": {},
   "outputs": [],
   "source": []
  },
  {
   "cell_type": "code",
   "execution_count": null,
   "id": "06493f05-0546-4438-836b-b3cbfdf253a8",
   "metadata": {},
   "outputs": [],
   "source": []
  },
  {
   "cell_type": "code",
   "execution_count": null,
   "id": "1d683bf5-22d0-4bfb-977b-1fd0d7d0b58c",
   "metadata": {},
   "outputs": [],
   "source": []
  },
  {
   "cell_type": "code",
   "execution_count": null,
   "id": "f7fb103e-541c-456d-b6a7-7e08c1541d15",
   "metadata": {},
   "outputs": [],
   "source": []
  },
  {
   "cell_type": "code",
   "execution_count": null,
   "id": "8fb90a74-44e2-490b-8581-af081484b4fe",
   "metadata": {},
   "outputs": [],
   "source": []
  },
  {
   "cell_type": "code",
   "execution_count": null,
   "id": "9e1d2841-de7f-43c9-a3fa-92ba9a77f3d8",
   "metadata": {},
   "outputs": [],
   "source": []
  },
  {
   "cell_type": "code",
   "execution_count": null,
   "id": "2417910e-c780-4d61-bd9f-01a2cb6c099d",
   "metadata": {},
   "outputs": [],
   "source": []
  },
  {
   "cell_type": "code",
   "execution_count": null,
   "id": "ab085e36-de65-41ea-b62e-147f0ed4336a",
   "metadata": {},
   "outputs": [],
   "source": []
  },
  {
   "cell_type": "code",
   "execution_count": null,
   "id": "415acef8-eee4-4b8d-9994-aee27ebe966b",
   "metadata": {},
   "outputs": [],
   "source": []
  },
  {
   "cell_type": "code",
   "execution_count": null,
   "id": "528f2711-2070-4407-9b64-b7b38043dd3c",
   "metadata": {},
   "outputs": [],
   "source": []
  },
  {
   "cell_type": "code",
   "execution_count": null,
   "id": "f29ba3be-c6a5-4c4e-9617-7c13b852d6f6",
   "metadata": {},
   "outputs": [],
   "source": []
  },
  {
   "cell_type": "code",
   "execution_count": null,
   "id": "707ccb9a-a84d-4082-9016-3a1c3ca60907",
   "metadata": {},
   "outputs": [],
   "source": []
  },
  {
   "cell_type": "code",
   "execution_count": null,
   "id": "93975223-4214-41d7-8bc1-f7858620c87d",
   "metadata": {},
   "outputs": [],
   "source": []
  },
  {
   "cell_type": "code",
   "execution_count": null,
   "id": "ca2c17dd-e9b6-48e6-b47d-235ca1eef0a9",
   "metadata": {},
   "outputs": [],
   "source": []
  },
  {
   "cell_type": "code",
   "execution_count": null,
   "id": "86f7af6d-bdd2-4811-9f48-d682561bdc81",
   "metadata": {},
   "outputs": [],
   "source": []
  },
  {
   "cell_type": "code",
   "execution_count": null,
   "id": "9d9b9323-0764-4e56-ac2d-2c3bc4a1c669",
   "metadata": {},
   "outputs": [],
   "source": []
  },
  {
   "cell_type": "code",
   "execution_count": null,
   "id": "13de9837-d6a0-45a8-bcf3-7146b4a1232f",
   "metadata": {},
   "outputs": [],
   "source": []
  },
  {
   "cell_type": "code",
   "execution_count": null,
   "id": "995b6ebb-c4d7-4848-9ea9-c019a8285623",
   "metadata": {},
   "outputs": [],
   "source": []
  },
  {
   "cell_type": "code",
   "execution_count": null,
   "id": "b1261689-5cd8-4615-ae08-387a0e9cf24b",
   "metadata": {},
   "outputs": [],
   "source": []
  },
  {
   "cell_type": "code",
   "execution_count": null,
   "id": "2afe0304-ae59-47e1-a49d-87954c4461db",
   "metadata": {},
   "outputs": [],
   "source": []
  },
  {
   "cell_type": "code",
   "execution_count": null,
   "id": "d824e35e-4486-42d7-8542-e0d74acbc1b9",
   "metadata": {},
   "outputs": [],
   "source": []
  },
  {
   "cell_type": "code",
   "execution_count": null,
   "id": "0d1849d8-baba-4d7e-bf3f-943e795b38d5",
   "metadata": {},
   "outputs": [],
   "source": []
  },
  {
   "cell_type": "code",
   "execution_count": null,
   "id": "87aa78fa-ab05-4a19-ad51-64b8cc1d9c8e",
   "metadata": {},
   "outputs": [],
   "source": []
  },
  {
   "cell_type": "code",
   "execution_count": null,
   "id": "ad0c66ba-7467-4864-8d3f-ab66187e35e2",
   "metadata": {},
   "outputs": [],
   "source": []
  },
  {
   "cell_type": "code",
   "execution_count": null,
   "id": "58f3e211-6e40-46b7-ac9b-45ed15b1f597",
   "metadata": {},
   "outputs": [],
   "source": []
  },
  {
   "cell_type": "code",
   "execution_count": null,
   "id": "c2b7e032-b3d8-4951-98c3-7c693c571303",
   "metadata": {},
   "outputs": [],
   "source": []
  },
  {
   "cell_type": "code",
   "execution_count": null,
   "id": "d34ae9fe-ec3d-464e-bfd7-265af7dc1191",
   "metadata": {},
   "outputs": [],
   "source": []
  },
  {
   "cell_type": "code",
   "execution_count": null,
   "id": "f784fde7-76b4-4137-8389-4f0f872795e2",
   "metadata": {},
   "outputs": [],
   "source": []
  },
  {
   "cell_type": "code",
   "execution_count": null,
   "id": "cd6ce287-2b22-432c-bf0c-dbb8198239c2",
   "metadata": {},
   "outputs": [],
   "source": []
  },
  {
   "cell_type": "code",
   "execution_count": null,
   "id": "8c58b71c-c556-4d97-8e9a-66e106af4868",
   "metadata": {},
   "outputs": [],
   "source": []
  },
  {
   "cell_type": "code",
   "execution_count": null,
   "id": "c06eb574-1eeb-47b4-b363-708f1a474b96",
   "metadata": {},
   "outputs": [],
   "source": []
  },
  {
   "cell_type": "code",
   "execution_count": null,
   "id": "b68f69bb-709d-496d-a234-d201cd23963e",
   "metadata": {},
   "outputs": [],
   "source": []
  },
  {
   "cell_type": "code",
   "execution_count": null,
   "id": "868058e0-ae1c-45c3-9672-f69bc2b4093c",
   "metadata": {},
   "outputs": [],
   "source": []
  },
  {
   "cell_type": "code",
   "execution_count": null,
   "id": "c69f0dbc-e042-477b-9cb2-2d4edff848e7",
   "metadata": {},
   "outputs": [],
   "source": []
  },
  {
   "cell_type": "code",
   "execution_count": null,
   "id": "d2fd5ba9-93d2-49cf-bafb-3e05a3d3a503",
   "metadata": {},
   "outputs": [],
   "source": []
  },
  {
   "cell_type": "code",
   "execution_count": null,
   "id": "a3a8f41e-3d9b-4d60-8c8b-798e9c9f0e13",
   "metadata": {},
   "outputs": [],
   "source": []
  },
  {
   "cell_type": "code",
   "execution_count": null,
   "id": "2945bed6-6420-496f-8bb9-d9f739685e5b",
   "metadata": {},
   "outputs": [],
   "source": []
  },
  {
   "cell_type": "code",
   "execution_count": null,
   "id": "062f6fe7-419e-4635-9d3a-982123217b24",
   "metadata": {},
   "outputs": [],
   "source": []
  },
  {
   "cell_type": "code",
   "execution_count": null,
   "id": "a6385b15-3816-4f5f-8308-060fd53e19fe",
   "metadata": {},
   "outputs": [],
   "source": []
  },
  {
   "cell_type": "code",
   "execution_count": null,
   "id": "132a88b9-56fe-4c62-a2dc-a68bcaef6504",
   "metadata": {},
   "outputs": [],
   "source": []
  },
  {
   "cell_type": "code",
   "execution_count": null,
   "id": "f1d32353-0082-4bb6-9e48-32df2e774f88",
   "metadata": {},
   "outputs": [],
   "source": []
  }
 ],
 "metadata": {
  "kernelspec": {
   "display_name": "Python 3 (ipykernel)",
   "language": "python",
   "name": "python3"
  },
  "language_info": {
   "codemirror_mode": {
    "name": "ipython",
    "version": 3
   },
   "file_extension": ".py",
   "mimetype": "text/x-python",
   "name": "python",
   "nbconvert_exporter": "python",
   "pygments_lexer": "ipython3",
   "version": "3.11.7"
  }
 },
 "nbformat": 4,
 "nbformat_minor": 5
}
