{
 "cells": [
  {
   "cell_type": "markdown",
   "id": "82dd32c6-bec6-4e4d-9f73-9b2f6fe81943",
   "metadata": {},
   "source": [
    "<font color = \"white\" size = \"7\"><b> ch09 파일 입출력</b></font>"
   ]
  },
  {
   "cell_type": "markdown",
   "id": "38433919-8a1b-4cce-92ae-a929b2390dac",
   "metadata": {},
   "source": [
    "# 1절 파일에 데이터 저장하고 불러오기"
   ]
  },
  {
   "cell_type": "code",
   "execution_count": 7,
   "id": "03925e49-e50c-4c0a-905a-618b13312502",
   "metadata": {},
   "outputs": [
    {
     "name": "stdout",
     "output_type": "stream",
     "text": [
      "True\n"
     ]
    }
   ],
   "source": [
    "# w : 있는 파일은 기존의 파일에 덮어쓰고 없는 파일은 생성(쓰기 전용)\n",
    "# a : 있는 파일은 추가 / 없는 파일은 생성(쓰기 전용)\n",
    "# r : 읽기 전용\n",
    "f = open('data/ch09.txt', 'w')\n",
    "print(f.writable())"
   ]
  },
  {
   "cell_type": "code",
   "execution_count": 8,
   "id": "0df11cee-135b-4f2c-9f13-285f2a37538f",
   "metadata": {},
   "outputs": [
    {
     "data": {
      "text/plain": [
       "25"
      ]
     },
     "execution_count": 8,
     "metadata": {},
     "output_type": "execute_result"
    }
   ],
   "source": [
    "f.write('Hello\\nWorld\\nHello\\nPython\\n')  # 한글은 cp949로 저장됨"
   ]
  },
  {
   "cell_type": "code",
   "execution_count": 9,
   "id": "28f95b31-9c85-47da-8d5a-30052cf9fbc7",
   "metadata": {},
   "outputs": [],
   "source": [
    "f.close()"
   ]
  },
  {
   "cell_type": "code",
   "execution_count": 12,
   "id": "65731861-7ed3-4cc1-b18f-af4a50cc251b",
   "metadata": {},
   "outputs": [],
   "source": [
    "with open('data/ch09.txt', 'a') as f:\n",
    "    print(\"Python is easy\\n\", file = f)"
   ]
  },
  {
   "cell_type": "code",
   "execution_count": 3,
   "id": "ed01249a-cea0-4d16-8a2c-8f135e9de1b0",
   "metadata": {},
   "outputs": [
    {
     "name": "stdout",
     "output_type": "stream",
     "text": [
      "홍길동,20,hong@hong.com,서울시 강동구\n",
      "박길서,33,park@hong.com,서울시 강서구\n",
      "박길남,23,gil@hong.com,서울시 강남구\n",
      "김길북,20,kim@hong.com,서울시 강북구\n",
      "신길서,40,park@hong.com,서울시 강서구\n",
      "신길동,28,park@hong.com,서울시 강서구"
     ]
    }
   ],
   "source": [
    "# UTF-8로 인코딩된 csv파일을 read\n",
    "with open('data/ch09_member1.csv','r', encoding = \"utf-8\") as f:\n",
    "    data = f.readlines()\n",
    "    for row in data:\n",
    "        print(row, end = '')"
   ]
  },
  {
   "cell_type": "code",
   "execution_count": 14,
   "id": "4e3b23da-fb74-47d4-a8ad-fbe0eb96502b",
   "metadata": {},
   "outputs": [
    {
     "data": {
      "text/html": [
       "<div>\n",
       "<style scoped>\n",
       "    .dataframe tbody tr th:only-of-type {\n",
       "        vertical-align: middle;\n",
       "    }\n",
       "\n",
       "    .dataframe tbody tr th {\n",
       "        vertical-align: top;\n",
       "    }\n",
       "\n",
       "    .dataframe thead th {\n",
       "        text-align: right;\n",
       "    }\n",
       "</style>\n",
       "<table border=\"1\" class=\"dataframe\">\n",
       "  <thead>\n",
       "    <tr style=\"text-align: right;\">\n",
       "      <th></th>\n",
       "      <th>name</th>\n",
       "      <th>age</th>\n",
       "      <th>email</th>\n",
       "      <th>address</th>\n",
       "    </tr>\n",
       "  </thead>\n",
       "  <tbody>\n",
       "    <tr>\n",
       "      <th>0</th>\n",
       "      <td>홍길동</td>\n",
       "      <td>20</td>\n",
       "      <td>hong@hong.com</td>\n",
       "      <td>서울시 강동구</td>\n",
       "    </tr>\n",
       "    <tr>\n",
       "      <th>1</th>\n",
       "      <td>박길서</td>\n",
       "      <td>33</td>\n",
       "      <td>park@hong.com</td>\n",
       "      <td>서울시 강서구</td>\n",
       "    </tr>\n",
       "    <tr>\n",
       "      <th>2</th>\n",
       "      <td>박길남</td>\n",
       "      <td>23</td>\n",
       "      <td>gil@hong.com</td>\n",
       "      <td>서울시 강남구</td>\n",
       "    </tr>\n",
       "    <tr>\n",
       "      <th>3</th>\n",
       "      <td>김길북</td>\n",
       "      <td>20</td>\n",
       "      <td>kim@hong.com</td>\n",
       "      <td>서울시 강북구</td>\n",
       "    </tr>\n",
       "    <tr>\n",
       "      <th>4</th>\n",
       "      <td>신길서</td>\n",
       "      <td>40</td>\n",
       "      <td>park@hong.com</td>\n",
       "      <td>서울시 강서구</td>\n",
       "    </tr>\n",
       "    <tr>\n",
       "      <th>5</th>\n",
       "      <td>신길동</td>\n",
       "      <td>28</td>\n",
       "      <td>park@hong.com</td>\n",
       "      <td>서울시 강서구</td>\n",
       "    </tr>\n",
       "  </tbody>\n",
       "</table>\n",
       "</div>"
      ],
      "text/plain": [
       "  name  age          email  address\n",
       "0  홍길동   20  hong@hong.com  서울시 강동구\n",
       "1  박길서   33  park@hong.com  서울시 강서구\n",
       "2  박길남   23   gil@hong.com  서울시 강남구\n",
       "3  김길북   20   kim@hong.com  서울시 강북구\n",
       "4  신길서   40  park@hong.com  서울시 강서구\n",
       "5  신길동   28  park@hong.com  서울시 강서구"
      ]
     },
     "execution_count": 14,
     "metadata": {},
     "output_type": "execute_result"
    }
   ],
   "source": [
    "import pandas as pd \n",
    "member1 = pd.read_csv('data/ch09_member1.csv', header=None)   # 그냥 불러오면 맨 첫번째 줄을 무조건 헤더로 인식해서 header=None 해줌 \n",
    "member1.columns = ['name','age', 'email', 'address']  # 헤더를 직접 지정해줌\n",
    "member1"
   ]
  },
  {
   "cell_type": "code",
   "execution_count": 15,
   "id": "916b9f75-8af0-475a-ab8d-d80398274827",
   "metadata": {},
   "outputs": [
    {
     "data": {
      "text/html": [
       "<div>\n",
       "<style scoped>\n",
       "    .dataframe tbody tr th:only-of-type {\n",
       "        vertical-align: middle;\n",
       "    }\n",
       "\n",
       "    .dataframe tbody tr th {\n",
       "        vertical-align: top;\n",
       "    }\n",
       "\n",
       "    .dataframe thead th {\n",
       "        text-align: right;\n",
       "    }\n",
       "</style>\n",
       "<table border=\"1\" class=\"dataframe\">\n",
       "  <thead>\n",
       "    <tr style=\"text-align: right;\">\n",
       "      <th></th>\n",
       "      <th>name</th>\n",
       "      <th>age</th>\n",
       "      <th>email</th>\n",
       "      <th>address</th>\n",
       "    </tr>\n",
       "  </thead>\n",
       "  <tbody>\n",
       "    <tr>\n",
       "      <th>0</th>\n",
       "      <td>홍길동</td>\n",
       "      <td>20</td>\n",
       "      <td>hong@hong.com</td>\n",
       "      <td>서울시 강동구</td>\n",
       "    </tr>\n",
       "    <tr>\n",
       "      <th>1</th>\n",
       "      <td>박길서</td>\n",
       "      <td>33</td>\n",
       "      <td>park@hong.com</td>\n",
       "      <td>서울시 강서구</td>\n",
       "    </tr>\n",
       "    <tr>\n",
       "      <th>2</th>\n",
       "      <td>박길남</td>\n",
       "      <td>23</td>\n",
       "      <td>gil@hong.com</td>\n",
       "      <td>서울시 강남구</td>\n",
       "    </tr>\n",
       "  </tbody>\n",
       "</table>\n",
       "</div>"
      ],
      "text/plain": [
       "  name  age          email  address\n",
       "0  홍길동   20  hong@hong.com  서울시 강동구\n",
       "1  박길서   33  park@hong.com  서울시 강서구\n",
       "2  박길남   23   gil@hong.com  서울시 강남구"
      ]
     },
     "execution_count": 15,
     "metadata": {},
     "output_type": "execute_result"
    }
   ],
   "source": [
    "member2 = pd.read_csv('data/ch09_member2.csv', nrows = 3)  # nrows는 3줄만 열라는 뜻    \n",
    "member2"
   ]
  },
  {
   "cell_type": "code",
   "execution_count": 16,
   "id": "f221994d-fef0-49cc-a740-25f2be85b94f",
   "metadata": {},
   "outputs": [
    {
     "data": {
      "text/html": [
       "<div>\n",
       "<style scoped>\n",
       "    .dataframe tbody tr th:only-of-type {\n",
       "        vertical-align: middle;\n",
       "    }\n",
       "\n",
       "    .dataframe tbody tr th {\n",
       "        vertical-align: top;\n",
       "    }\n",
       "\n",
       "    .dataframe thead th {\n",
       "        text-align: right;\n",
       "    }\n",
       "</style>\n",
       "<table border=\"1\" class=\"dataframe\">\n",
       "  <thead>\n",
       "    <tr style=\"text-align: right;\">\n",
       "      <th></th>\n",
       "      <th>name</th>\n",
       "      <th>age</th>\n",
       "      <th>email</th>\n",
       "      <th>address</th>\n",
       "    </tr>\n",
       "  </thead>\n",
       "  <tbody>\n",
       "    <tr>\n",
       "      <th>0</th>\n",
       "      <td>홍길동</td>\n",
       "      <td>20</td>\n",
       "      <td>hong@hong.com</td>\n",
       "      <td>서울시 강동구</td>\n",
       "    </tr>\n",
       "    <tr>\n",
       "      <th>1</th>\n",
       "      <td>박길서</td>\n",
       "      <td>33</td>\n",
       "      <td>park@hong.com</td>\n",
       "      <td>서울시 강서구</td>\n",
       "    </tr>\n",
       "    <tr>\n",
       "      <th>2</th>\n",
       "      <td>박길남</td>\n",
       "      <td>23</td>\n",
       "      <td>gil@hong.com</td>\n",
       "      <td>서울시 강남구</td>\n",
       "    </tr>\n",
       "    <tr>\n",
       "      <th>3</th>\n",
       "      <td>김길북</td>\n",
       "      <td>20</td>\n",
       "      <td>kim@hong.com</td>\n",
       "      <td>서울시 강북구</td>\n",
       "    </tr>\n",
       "    <tr>\n",
       "      <th>4</th>\n",
       "      <td>신길서</td>\n",
       "      <td>40</td>\n",
       "      <td>park@hong.com</td>\n",
       "      <td>서울시 강서구</td>\n",
       "    </tr>\n",
       "    <tr>\n",
       "      <th>5</th>\n",
       "      <td>신길동</td>\n",
       "      <td>28</td>\n",
       "      <td>park@hong.com</td>\n",
       "      <td>서울시 강서구</td>\n",
       "    </tr>\n",
       "    <tr>\n",
       "      <th>0</th>\n",
       "      <td>홍길동</td>\n",
       "      <td>20</td>\n",
       "      <td>hong@hong.com</td>\n",
       "      <td>서울시 강동구</td>\n",
       "    </tr>\n",
       "    <tr>\n",
       "      <th>1</th>\n",
       "      <td>박길서</td>\n",
       "      <td>33</td>\n",
       "      <td>park@hong.com</td>\n",
       "      <td>서울시 강서구</td>\n",
       "    </tr>\n",
       "    <tr>\n",
       "      <th>2</th>\n",
       "      <td>박길남</td>\n",
       "      <td>23</td>\n",
       "      <td>gil@hong.com</td>\n",
       "      <td>서울시 강남구</td>\n",
       "    </tr>\n",
       "  </tbody>\n",
       "</table>\n",
       "</div>"
      ],
      "text/plain": [
       "  name  age          email  address\n",
       "0  홍길동   20  hong@hong.com  서울시 강동구\n",
       "1  박길서   33  park@hong.com  서울시 강서구\n",
       "2  박길남   23   gil@hong.com  서울시 강남구\n",
       "3  김길북   20   kim@hong.com  서울시 강북구\n",
       "4  신길서   40  park@hong.com  서울시 강서구\n",
       "5  신길동   28  park@hong.com  서울시 강서구\n",
       "0  홍길동   20  hong@hong.com  서울시 강동구\n",
       "1  박길서   33  park@hong.com  서울시 강서구\n",
       "2  박길남   23   gil@hong.com  서울시 강남구"
      ]
     },
     "execution_count": 16,
     "metadata": {},
     "output_type": "execute_result"
    }
   ],
   "source": [
    "pd.concat([member1,member2])"
   ]
  },
  {
   "cell_type": "code",
   "execution_count": null,
   "id": "e1889de9-a793-43af-a921-2e31153e2f21",
   "metadata": {},
   "outputs": [],
   "source": []
  },
  {
   "cell_type": "code",
   "execution_count": null,
   "id": "2e93cf12-48ca-40d9-afb9-8237ff54ef65",
   "metadata": {},
   "outputs": [],
   "source": []
  },
  {
   "cell_type": "code",
   "execution_count": null,
   "id": "bd9722f1-315a-4996-abf5-928b4754e0e1",
   "metadata": {},
   "outputs": [],
   "source": []
  },
  {
   "cell_type": "code",
   "execution_count": null,
   "id": "7a9a6f7f-6cd2-4105-9669-704efe9bb411",
   "metadata": {},
   "outputs": [],
   "source": []
  },
  {
   "cell_type": "code",
   "execution_count": null,
   "id": "a06c8860-fd5b-4251-94a5-704baef4cd8a",
   "metadata": {},
   "outputs": [],
   "source": []
  },
  {
   "cell_type": "code",
   "execution_count": null,
   "id": "ada0adba-b5ac-4711-92df-74c164bebe91",
   "metadata": {},
   "outputs": [],
   "source": []
  },
  {
   "cell_type": "code",
   "execution_count": null,
   "id": "88ba59b2-6d0f-442b-8b0c-c66a211a439c",
   "metadata": {},
   "outputs": [],
   "source": []
  },
  {
   "cell_type": "code",
   "execution_count": null,
   "id": "89880263-01ad-4d5c-93cb-ef6e0e637d0e",
   "metadata": {},
   "outputs": [],
   "source": []
  },
  {
   "cell_type": "code",
   "execution_count": null,
   "id": "32d462e8-a909-4fdd-b630-8a737e024da4",
   "metadata": {},
   "outputs": [],
   "source": []
  },
  {
   "cell_type": "code",
   "execution_count": null,
   "id": "b9983694-0e97-496e-8fb1-97c2ce87c90d",
   "metadata": {},
   "outputs": [],
   "source": []
  },
  {
   "cell_type": "code",
   "execution_count": null,
   "id": "69043896-a874-43f0-a037-19175c522ac4",
   "metadata": {},
   "outputs": [],
   "source": []
  },
  {
   "cell_type": "code",
   "execution_count": null,
   "id": "9eaa4891-48a2-4404-9efc-ae2e40a60609",
   "metadata": {},
   "outputs": [],
   "source": []
  },
  {
   "cell_type": "code",
   "execution_count": null,
   "id": "944d0108-3772-4ff9-8e69-5a8a0f4f61dc",
   "metadata": {},
   "outputs": [],
   "source": []
  },
  {
   "cell_type": "code",
   "execution_count": null,
   "id": "1b57734f-c1a4-4012-9c0e-18abdc0df6aa",
   "metadata": {},
   "outputs": [],
   "source": []
  },
  {
   "cell_type": "code",
   "execution_count": null,
   "id": "9422c1e7-c8b4-4538-916f-f05461628eaa",
   "metadata": {},
   "outputs": [],
   "source": []
  },
  {
   "cell_type": "code",
   "execution_count": null,
   "id": "b91b4185-0069-4af6-a32d-fea99211a96f",
   "metadata": {},
   "outputs": [],
   "source": []
  },
  {
   "cell_type": "code",
   "execution_count": null,
   "id": "a5caf60b-017e-43b9-8369-da07e87cd607",
   "metadata": {},
   "outputs": [],
   "source": []
  },
  {
   "cell_type": "code",
   "execution_count": null,
   "id": "dcb16f46-ff4f-4936-bd2a-f52c998d5def",
   "metadata": {},
   "outputs": [],
   "source": []
  },
  {
   "cell_type": "code",
   "execution_count": null,
   "id": "5c98fd73-d4c9-4afe-8d6a-70bd4aa060ef",
   "metadata": {},
   "outputs": [],
   "source": []
  },
  {
   "cell_type": "code",
   "execution_count": null,
   "id": "47b0fa69-6d32-4f32-b3a1-3802d30d01da",
   "metadata": {},
   "outputs": [],
   "source": []
  },
  {
   "cell_type": "code",
   "execution_count": null,
   "id": "735772eb-de92-45d0-8777-23704fdb0e45",
   "metadata": {},
   "outputs": [],
   "source": []
  },
  {
   "cell_type": "code",
   "execution_count": null,
   "id": "5e9d4d99-82dc-4797-91af-be112135d3f1",
   "metadata": {},
   "outputs": [],
   "source": []
  },
  {
   "cell_type": "code",
   "execution_count": null,
   "id": "17756a71-6a3a-4d87-84cc-29271e5ac57a",
   "metadata": {},
   "outputs": [],
   "source": []
  },
  {
   "cell_type": "code",
   "execution_count": null,
   "id": "27aba1a3-aec0-4e52-93fa-6de9cabd91ea",
   "metadata": {},
   "outputs": [],
   "source": []
  },
  {
   "cell_type": "code",
   "execution_count": null,
   "id": "b09beb72-9140-48e2-a582-add84a974043",
   "metadata": {},
   "outputs": [],
   "source": []
  },
  {
   "cell_type": "code",
   "execution_count": null,
   "id": "a1aaf9d4-89ab-403f-bb8b-00a344aba43d",
   "metadata": {},
   "outputs": [],
   "source": []
  },
  {
   "cell_type": "code",
   "execution_count": null,
   "id": "572f3624-45ad-4a9d-9232-149e688b0c90",
   "metadata": {},
   "outputs": [],
   "source": []
  },
  {
   "cell_type": "code",
   "execution_count": null,
   "id": "b7671f0a-d330-49ee-9b1e-87b0cab06388",
   "metadata": {},
   "outputs": [],
   "source": []
  },
  {
   "cell_type": "code",
   "execution_count": null,
   "id": "ff5c38f4-4f6a-4a5f-97bb-2c90673364cc",
   "metadata": {},
   "outputs": [],
   "source": []
  },
  {
   "cell_type": "code",
   "execution_count": null,
   "id": "d5a08d16-dc72-4ceb-9dc5-58bf788af31b",
   "metadata": {},
   "outputs": [],
   "source": []
  },
  {
   "cell_type": "code",
   "execution_count": null,
   "id": "4fb674d8-5c48-4d9c-94a9-f14dca9f5821",
   "metadata": {},
   "outputs": [],
   "source": []
  },
  {
   "cell_type": "code",
   "execution_count": null,
   "id": "2d1408d0-3bca-4256-ab60-5ab0698fdd35",
   "metadata": {},
   "outputs": [],
   "source": []
  },
  {
   "cell_type": "code",
   "execution_count": null,
   "id": "3a5368a5-421c-42f3-8ed3-c55873994762",
   "metadata": {},
   "outputs": [],
   "source": []
  },
  {
   "cell_type": "code",
   "execution_count": null,
   "id": "c0fb6c00-cc41-4b5e-8bad-7e6ff7ed7618",
   "metadata": {},
   "outputs": [],
   "source": []
  },
  {
   "cell_type": "code",
   "execution_count": null,
   "id": "8c5e7ad1-b139-408c-b913-e87374b64e30",
   "metadata": {},
   "outputs": [],
   "source": []
  },
  {
   "cell_type": "code",
   "execution_count": null,
   "id": "093d9e31-84a0-43b5-b046-78a432b4d92a",
   "metadata": {},
   "outputs": [],
   "source": []
  },
  {
   "cell_type": "code",
   "execution_count": null,
   "id": "ffdf9d22-805f-4629-b739-fabfda734a6b",
   "metadata": {},
   "outputs": [],
   "source": []
  },
  {
   "cell_type": "code",
   "execution_count": null,
   "id": "8db24227-f376-4ffc-9b07-ca9ab9ee6d99",
   "metadata": {},
   "outputs": [],
   "source": []
  },
  {
   "cell_type": "code",
   "execution_count": null,
   "id": "2ac5af1c-d2f6-492d-af07-3e40fd8a56a4",
   "metadata": {},
   "outputs": [],
   "source": []
  },
  {
   "cell_type": "code",
   "execution_count": null,
   "id": "b791a89f-4757-4feb-bfde-1253d3ac930a",
   "metadata": {},
   "outputs": [],
   "source": []
  },
  {
   "cell_type": "code",
   "execution_count": null,
   "id": "800768ec-c5ba-4e34-bf2b-8cb1138c70eb",
   "metadata": {},
   "outputs": [],
   "source": []
  },
  {
   "cell_type": "code",
   "execution_count": null,
   "id": "0197b7fd-ae1f-49be-bd0d-b77bb759d806",
   "metadata": {},
   "outputs": [],
   "source": []
  },
  {
   "cell_type": "code",
   "execution_count": null,
   "id": "a41915da-ca2f-4ba6-8622-dd9a7fd752f8",
   "metadata": {},
   "outputs": [],
   "source": []
  },
  {
   "cell_type": "code",
   "execution_count": null,
   "id": "7c4674d2-6053-4902-a254-51cc2082cd40",
   "metadata": {},
   "outputs": [],
   "source": []
  },
  {
   "cell_type": "code",
   "execution_count": null,
   "id": "2a8a5b41-0723-4a2d-a44f-e4ad69eea183",
   "metadata": {},
   "outputs": [],
   "source": []
  },
  {
   "cell_type": "code",
   "execution_count": null,
   "id": "c239ed07-cbf3-4adb-902f-3370a264a52a",
   "metadata": {},
   "outputs": [],
   "source": []
  },
  {
   "cell_type": "code",
   "execution_count": null,
   "id": "20b76682-0517-430c-ba62-6d0cab80f544",
   "metadata": {},
   "outputs": [],
   "source": []
  },
  {
   "cell_type": "code",
   "execution_count": null,
   "id": "a4820061-ece8-4112-b7b7-cb8155d2a90c",
   "metadata": {},
   "outputs": [],
   "source": []
  },
  {
   "cell_type": "code",
   "execution_count": null,
   "id": "8aeaf236-4469-4a76-8ca1-b13fa8a97207",
   "metadata": {},
   "outputs": [],
   "source": []
  },
  {
   "cell_type": "code",
   "execution_count": null,
   "id": "7cbd77c5-721b-4001-a0fa-01cc07710e20",
   "metadata": {},
   "outputs": [],
   "source": []
  },
  {
   "cell_type": "code",
   "execution_count": null,
   "id": "4e9a8bf5-72eb-4b38-a0c7-7257d02127e5",
   "metadata": {},
   "outputs": [],
   "source": []
  },
  {
   "cell_type": "code",
   "execution_count": null,
   "id": "0b536b98-359f-4d1e-9253-0a12f19b8cdf",
   "metadata": {},
   "outputs": [],
   "source": []
  },
  {
   "cell_type": "code",
   "execution_count": null,
   "id": "5a9749ad-1e00-4a42-8620-223c1926aab7",
   "metadata": {},
   "outputs": [],
   "source": []
  },
  {
   "cell_type": "code",
   "execution_count": null,
   "id": "01331b10-dadb-45b9-843f-8aaea0bfcb1c",
   "metadata": {},
   "outputs": [],
   "source": []
  },
  {
   "cell_type": "code",
   "execution_count": null,
   "id": "81aceb01-eb5a-459b-a4aa-32b88c9306c7",
   "metadata": {},
   "outputs": [],
   "source": []
  },
  {
   "cell_type": "code",
   "execution_count": null,
   "id": "f0942a80-f485-4b78-b72c-52f6c62fcd61",
   "metadata": {},
   "outputs": [],
   "source": []
  },
  {
   "cell_type": "code",
   "execution_count": null,
   "id": "110296fa-9b66-4607-87f3-0550380606ba",
   "metadata": {},
   "outputs": [],
   "source": []
  },
  {
   "cell_type": "code",
   "execution_count": null,
   "id": "ca821835-4729-48e1-ab17-88c9b91b1ee7",
   "metadata": {},
   "outputs": [],
   "source": []
  },
  {
   "cell_type": "code",
   "execution_count": null,
   "id": "714ec21c-562b-4f6e-88b7-a59699e2678e",
   "metadata": {},
   "outputs": [],
   "source": []
  },
  {
   "cell_type": "code",
   "execution_count": null,
   "id": "1f9ff88b-1661-4744-8776-bec742fdee5a",
   "metadata": {},
   "outputs": [],
   "source": []
  },
  {
   "cell_type": "code",
   "execution_count": null,
   "id": "61fd3a24-f80c-4796-af22-44cfc9894f3b",
   "metadata": {},
   "outputs": [],
   "source": []
  },
  {
   "cell_type": "code",
   "execution_count": null,
   "id": "6d0f191b-3559-44be-9f12-fd9125683ad8",
   "metadata": {},
   "outputs": [],
   "source": []
  },
  {
   "cell_type": "code",
   "execution_count": null,
   "id": "e3b960ff-6e0f-4828-9f27-8d36872755e2",
   "metadata": {},
   "outputs": [],
   "source": []
  }
 ],
 "metadata": {
  "kernelspec": {
   "display_name": "Python 3 (ipykernel)",
   "language": "python",
   "name": "python3"
  },
  "language_info": {
   "codemirror_mode": {
    "name": "ipython",
    "version": 3
   },
   "file_extension": ".py",
   "mimetype": "text/x-python",
   "name": "python",
   "nbconvert_exporter": "python",
   "pygments_lexer": "ipython3",
   "version": "3.11.7"
  }
 },
 "nbformat": 4,
 "nbformat_minor": 5
}
