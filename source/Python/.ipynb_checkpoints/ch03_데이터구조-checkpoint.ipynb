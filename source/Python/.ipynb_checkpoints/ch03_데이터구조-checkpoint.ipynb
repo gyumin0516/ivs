{
 "cells": [
  {
   "cell_type": "markdown",
   "id": "c77b21ec-d1b3-40b0-8e7e-09f8f0350de5",
   "metadata": {},
   "source": [
    "<font color = \"white\" size = \"7\"><b> ch01 파이썬 개요 및 환경설정</b></font>\n",
    "   "
   ]
  },
  {
   "cell_type": "markdown",
   "id": "a2d69fe4-a666-499a-92d4-acd0f108ad8b",
   "metadata": {},
   "source": [
    " - 리스트 [], 튜플 (), 딕셔너리{구조체와 유사}, 셋(집합)"
   ]
  },
  {
   "cell_type": "markdown",
   "id": "f381d117-722d-4686-9716-2b675b83b725",
   "metadata": {},
   "source": [
    "# 1절 리스트\n",
    "## 1.1 리스트 만들기\n",
    "    - [] 이용\n",
    "    - 인덱스: 0부터 시작, -1은 맨 마지막 인덱스\n",
    "    - 슬라이싱: [from:to:step]을 이용하여 추출\n",
    " "
   ]
  },
  {
   "cell_type": "code",
   "execution_count": 5,
   "id": "6c152a7c-e8d8-42d1-a62e-c02cf808349d",
   "metadata": {},
   "outputs": [
    {
     "data": {
      "text/plain": [
       "list"
      ]
     },
     "execution_count": 5,
     "metadata": {},
     "output_type": "execute_result"
    }
   ],
   "source": [
    "fruits = ['banana', 'apple', 'orange', 0]\n",
    "type(fruits)"
   ]
  },
  {
   "cell_type": "code",
   "execution_count": 6,
   "id": "751178f3-1e98-41c7-9d96-ccfd0672e358",
   "metadata": {},
   "outputs": [
    {
     "name": "stdout",
     "output_type": "stream",
     "text": [
      "['banana', 'apple', 'orange', 0]\n"
     ]
    }
   ],
   "source": [
    "print(fruits)"
   ]
  },
  {
   "cell_type": "code",
   "execution_count": 7,
   "id": "1ff4d0f5-10dc-4886-901e-cc1966e870f4",
   "metadata": {},
   "outputs": [
    {
     "name": "stdout",
     "output_type": "stream",
     "text": [
      "['mango', 'apple', 'orange', 0]\n"
     ]
    }
   ],
   "source": [
    "fruits[0] = 'mango'\n",
    "print(fruits)"
   ]
  },
  {
   "cell_type": "code",
   "execution_count": 8,
   "id": "54672597-33ec-489e-9c1c-5310d9f7b24c",
   "metadata": {},
   "outputs": [
    {
     "name": "stdout",
     "output_type": "stream",
     "text": [
      "mango\n",
      "apple\n",
      "orange\n",
      "0\n"
     ]
    }
   ],
   "source": [
    "for i in fruits:\n",
    "    print(i)"
   ]
  },
  {
   "cell_type": "code",
   "execution_count": 12,
   "id": "3d80be6e-b577-4f38-8dcd-ec954b37997a",
   "metadata": {},
   "outputs": [
    {
     "name": "stdout",
     "output_type": "stream",
     "text": [
      "0번째 과일은 mango\n",
      "1번째 과일은 apple\n",
      "2번째 과일은 orange\n",
      "3번째 과일은 0\n"
     ]
    }
   ],
   "source": [
    "# 별로 안좋은 방법\n",
    "for i in range(len(fruits)):\n",
    "    print('{}번째 과일은 {}'.format(i, fruits[i]))"
   ]
  },
  {
   "cell_type": "code",
   "execution_count": 13,
   "id": "b0fefadc-12cd-4c00-87dc-b1194ec1f516",
   "metadata": {},
   "outputs": [
    {
     "name": "stdout",
     "output_type": "stream",
     "text": [
      "0번째 과일은 mango\n",
      "1번째 과일은 apple\n",
      "2번째 과일은 orange\n",
      "3번째 과일은 0\n"
     ]
    }
   ],
   "source": [
    "# 좋은 방법\n",
    "for idx, value in enumerate(fruits):\n",
    "    print('{}번째 과일은 {}'.format(idx, value))"
   ]
  },
  {
   "cell_type": "markdown",
   "id": "367dc45b-a7f7-47bc-918a-4f0c1b230e32",
   "metadata": {},
   "source": [
    "## 1.2 기본정보 조회"
   ]
  },
  {
   "cell_type": "code",
   "execution_count": 14,
   "id": "9d9bdbb4-248a-4f7f-b5b9-53077e77cd6a",
   "metadata": {
    "scrolled": true
   },
   "outputs": [
    {
     "name": "stdout",
     "output_type": "stream",
     "text": [
      "요소의 수 : 5\n",
      "최솟값 : 1\n",
      "최댓값 : 5\n"
     ]
    }
   ],
   "source": [
    "#list 기본 내장 함수\n",
    "numbers = [1,2,3,4,5]\n",
    "print('요소의 수 :', len(numbers))\n",
    "print('최솟값 :', min(numbers))\n",
    "print('최댓값 :', max(numbers))"
   ]
  },
  {
   "cell_type": "markdown",
   "id": "93cfeda8-3dae-4093-ab71-89ab1994b2cb",
   "metadata": {},
   "source": [
    "## 1.3 요소추가"
   ]
  },
  {
   "cell_type": "code",
   "execution_count": 15,
   "id": "e1e2ce81-081f-47f6-a39e-febcf80a6364",
   "metadata": {},
   "outputs": [],
   "source": [
    "#     +    :두 리스트르 연결\n",
    "# 리스트*n : 리스트 n만큼 반복\n",
    "# append() : 요소 뒤에 추가\n",
    "# extend() : 리스트의 요소별로 뒤에 추가"
   ]
  },
  {
   "cell_type": "code",
   "execution_count": 16,
   "id": "46e83fb7-b19d-493d-a442-f60434ecaf89",
   "metadata": {},
   "outputs": [
    {
     "data": {
      "text/plain": [
       "[1, 2, 3, 1, 2, 3]"
      ]
     },
     "execution_count": 16,
     "metadata": {},
     "output_type": "execute_result"
    }
   ],
   "source": [
    "numbers = [1,2,3]\n",
    "numbers = numbers+numbers\n",
    "numbers"
   ]
  },
  {
   "cell_type": "code",
   "execution_count": 17,
   "id": "3ca3a8e9-bf78-4168-8a63-68f778db1cc4",
   "metadata": {},
   "outputs": [
    {
     "name": "stdout",
     "output_type": "stream",
     "text": [
      "[1, 2, 3, 1, 2, 3, 1, 2, 3]\n"
     ]
    }
   ],
   "source": [
    "numbers = [1,2,3]\n",
    "print(numbers*3)"
   ]
  },
  {
   "cell_type": "code",
   "execution_count": 18,
   "id": "b21672f5-02df-4208-a1fe-d485b6a6b45a",
   "metadata": {},
   "outputs": [
    {
     "data": {
      "text/plain": [
       "[1, 2, 3, 4]"
      ]
     },
     "execution_count": 18,
     "metadata": {},
     "output_type": "execute_result"
    }
   ],
   "source": [
    "numbers = [1,2,3]\n",
    "numbers.append(4)\n",
    "numbers"
   ]
  },
  {
   "cell_type": "code",
   "execution_count": 20,
   "id": "4cdb1ff4-bbee-4177-b471-1b697b618f95",
   "metadata": {},
   "outputs": [
    {
     "data": {
      "text/plain": [
       "[1, 2, 3, 4, [5, 6]]"
      ]
     },
     "execution_count": 20,
     "metadata": {},
     "output_type": "execute_result"
    }
   ],
   "source": [
    "numbers = [1,2,3,4]\n",
    "num = [5,6]\n",
    "numbers.append(num)\n",
    "print(numbers)"
   ]
  },
  {
   "cell_type": "code",
   "execution_count": 21,
   "id": "01e926d2-de17-4f40-877e-50ffd6f80e34",
   "metadata": {},
   "outputs": [
    {
     "name": "stdout",
     "output_type": "stream",
     "text": [
      "[1, 2, 3, 4, 5, 6]\n"
     ]
    }
   ],
   "source": [
    "numbers = [1,2,3,4]\n",
    "num = [5,6]\n",
    "numbers.extend(num)  # +와 기능 유사\n",
    "print(numbers)"
   ]
  },
  {
   "cell_type": "code",
   "execution_count": 23,
   "id": "3dc2c7d2-3e1d-4581-8636-4113825513ff",
   "metadata": {},
   "outputs": [
    {
     "name": "stdout",
     "output_type": "stream",
     "text": [
      "[1, 2, 3, 4, 'h', 'e', 'l', 'l', 'o']\n"
     ]
    }
   ],
   "source": [
    "numbers = [1,2,3,4]\n",
    "numbers.extend('hello') \n",
    "print(numbers)"
   ]
  },
  {
   "cell_type": "markdown",
   "id": "4306329c-d3a9-4abc-8d86-92a32282a061",
   "metadata": {},
   "source": [
    "## 1.4 인덱싱\n",
    "    - index(찾고자하는 값, 1): 찾고자하는 값이 1번 인덱스부터 찾아 그 위치를 반환\n",
    "    - count(찾고자하는 값): 찾고자하는 값이 몇번 나오는지 세서 반환"
   ]
  },
  {
   "cell_type": "code",
   "execution_count": 29,
   "id": "e98c176b-b059-43ab-97c2-4333fbe1e6d6",
   "metadata": {},
   "outputs": [
    {
     "name": "stdout",
     "output_type": "stream",
     "text": [
      "2가 몇개인지 : 2\n",
      "4가 몇개인지 : 0\n"
     ]
    }
   ],
   "source": [
    "numbers = [1,2,3,[1,2,3],1,2,3]\n",
    "print('2가 몇개인지 : {}'.format(numbers.count(2)))\n",
    "print('4가 몇개인지 : {}'.format(numbers.count(4)))"
   ]
  },
  {
   "cell_type": "code",
   "execution_count": 30,
   "id": "5666f2a1-d41f-4c42-9047-17b02a08304b",
   "metadata": {},
   "outputs": [
    {
     "data": {
      "text/plain": [
       "True"
      ]
     },
     "execution_count": 30,
     "metadata": {},
     "output_type": "execute_result"
    }
   ],
   "source": [
    "2 in numbers  # numbers 안에 2가 있는지 여부"
   ]
  },
  {
   "cell_type": "code",
   "execution_count": 31,
   "id": "b3648487-61d7-4fc5-b445-9ffbbfb5b153",
   "metadata": {},
   "outputs": [
    {
     "data": {
      "text/plain": [
       "5"
      ]
     },
     "execution_count": 31,
     "metadata": {},
     "output_type": "execute_result"
    }
   ],
   "source": [
    "numbers.index(2,3)  #3번째 인덱스부터 2가 처음 나오는 인덱스를 반환 "
   ]
  },
  {
   "cell_type": "markdown",
   "id": "360241f1-39cf-43d7-a8c2-3f1b56e2625d",
   "metadata": {},
   "source": [
    "## 1.5 리스트의 원하는 내용만 추출\n",
    "    - 슬라이싱 : 원하는 인덱스의 값 추출\n",
    "    - 리스트 컴프리헨션  : 원하는 데이터만 추출"
   ]
  },
  {
   "cell_type": "code",
   "execution_count": 34,
   "id": "4a1a14be-7f40-4f6a-a268-3afcb738dc76",
   "metadata": {},
   "outputs": [
    {
     "data": {
      "text/plain": [
       "[20, 19, 18, 13, 12, 10, 9, 5, 3, 1]"
      ]
     },
     "execution_count": 34,
     "metadata": {},
     "output_type": "execute_result"
    }
   ],
   "source": [
    "numbers = [1, 3, 5, 9, 10 ,12, 13, 18, 19, 20]\n",
    "numbers[::-1]"
   ]
  },
  {
   "cell_type": "code",
   "execution_count": 35,
   "id": "d396ab71-691d-4d48-a522-4964d204e22c",
   "metadata": {},
   "outputs": [
    {
     "name": "stdout",
     "output_type": "stream",
     "text": [
      "[1, 5, 10, 13, 19]\n"
     ]
    }
   ],
   "source": [
    "print(numbers[::2]) # 인덱스가 짝수인 값들 추출"
   ]
  },
  {
   "cell_type": "code",
   "execution_count": 36,
   "id": "1a059119-4d13-4866-aeb4-afced062de54",
   "metadata": {},
   "outputs": [
    {
     "data": {
      "text/plain": [
       "[10, 12, 18, 20]"
      ]
     },
     "execution_count": 36,
     "metadata": {},
     "output_type": "execute_result"
    }
   ],
   "source": [
    "#값이 짝수인 데이터만 추출\n",
    "result = []\n",
    "for num in numbers: \n",
    "    if num%2 == 0:\n",
    "        result.append(num)\n",
    "result"
   ]
  },
  {
   "cell_type": "code",
   "execution_count": 37,
   "id": "b14e704f-7e15-46fa-9939-2a89302eb3ab",
   "metadata": {},
   "outputs": [
    {
     "data": {
      "text/plain": [
       "[10, 12, 18, 20]"
      ]
     },
     "execution_count": 37,
     "metadata": {},
     "output_type": "execute_result"
    }
   ],
   "source": [
    "#리스트 컴프리헨션\n",
    "result = [num for num in numbers if num%2==0]  # numbers의 요소 중에 짝수만 result에 넣기\n",
    "result"
   ]
  },
  {
   "cell_type": "code",
   "execution_count": 38,
   "id": "eadf8f87-6d8b-4b2d-980e-8a560d733ecd",
   "metadata": {},
   "outputs": [
    {
     "data": {
      "text/plain": [
       "[1, 9, 25]"
      ]
     },
     "execution_count": 38,
     "metadata": {},
     "output_type": "execute_result"
    }
   ],
   "source": [
    "# numbers 리스트의 제곱값을 리스트로 생성하여라(컴프리헨션 이용)\n",
    "numbers = [1,3,5]\n",
    "result = [num**2 for num in numbers]\n",
    "result"
   ]
  },
  {
   "cell_type": "code",
   "execution_count": 39,
   "id": "2ce66945-6c9f-4f45-8d7d-a6d6c6bfa70b",
   "metadata": {},
   "outputs": [
    {
     "data": {
      "text/plain": [
       "['orange', 'apple', 'mango']"
      ]
     },
     "execution_count": 39,
     "metadata": {},
     "output_type": "execute_result"
    }
   ],
   "source": [
    "# 과일의 글자가 5글자 이상인 과일을 추춯하세요\n",
    "fruits = ['orange', 'apple', 'mango', 'kiwi']\n",
    "[fruit for fruit in fruits if len(fruit)>=5]"
   ]
  },
  {
   "cell_type": "code",
   "execution_count": 40,
   "id": "978dee22-f2a9-44c5-92dd-838dc265a747",
   "metadata": {},
   "outputs": [
    {
     "data": {
      "text/plain": [
       "[6, 5, 5]"
      ]
     },
     "execution_count": 40,
     "metadata": {},
     "output_type": "execute_result"
    }
   ],
   "source": [
    "# 과일의 글자가 5글자 이상인 과일의 글자수를 출력하세요\n",
    "[len(f) for f in fruits if len(f)>=5]"
   ]
  },
  {
   "cell_type": "markdown",
   "id": "897ed3ef-2aad-40d9-92a9-f56edb0c566f",
   "metadata": {},
   "source": [
    "## 1.6 삭제하기\n",
    "    - remove(data) : 해당 data가 제거 \n",
    "    - del 리스트[idx] : idx 번째 요소 제거\n",
    "    - pop() : 가장 마지막 인덱스 요소가 return되고 삭제됨"
   ]
  },
  {
   "cell_type": "code",
   "execution_count": 48,
   "id": "f1b94b78-c328-4c24-bb9b-c652a8c795fc",
   "metadata": {},
   "outputs": [
    {
     "name": "stdout",
     "output_type": "stream",
     "text": [
      "6\n",
      "[1, 2, 3, 4, 5]\n"
     ]
    }
   ],
   "source": [
    "numbers = [1,2,3,4,5,6]\n",
    "print(numbers.pop())\n",
    "print(numbers)"
   ]
  },
  {
   "cell_type": "code",
   "execution_count": 49,
   "id": "84362f89-bce2-424f-aa71-23c74dbac2f2",
   "metadata": {},
   "outputs": [
    {
     "data": {
      "text/plain": [
       "[2, 3, 4, 5]"
      ]
     },
     "execution_count": 49,
     "metadata": {},
     "output_type": "execute_result"
    }
   ],
   "source": [
    "numbers.remove(1)\n",
    "numbers"
   ]
  },
  {
   "cell_type": "code",
   "execution_count": 50,
   "id": "3c39c83e-48b9-4b3c-b140-a5796a146556",
   "metadata": {},
   "outputs": [
    {
     "data": {
      "text/plain": [
       "[2, 4, 5]"
      ]
     },
     "execution_count": 50,
     "metadata": {},
     "output_type": "execute_result"
    }
   ],
   "source": [
    "del numbers[1]\n",
    "numbers"
   ]
  },
  {
   "cell_type": "markdown",
   "id": "ff5f05b7-d935-426f-82f5-d599794db493",
   "metadata": {},
   "source": [
    "## 1.7 정렬하기"
   ]
  },
  {
   "cell_type": "code",
   "execution_count": 51,
   "id": "744c9a7f-1c46-414e-8a41-e4983bf09bc2",
   "metadata": {},
   "outputs": [
    {
     "data": {
      "text/plain": [
       "[1, 5, 6, 9, 10]"
      ]
     },
     "execution_count": 51,
     "metadata": {},
     "output_type": "execute_result"
    }
   ],
   "source": [
    "numbers = [9,10,1,5,6]\n",
    "numbers.sort()\n",
    "numbers"
   ]
  },
  {
   "cell_type": "code",
   "execution_count": 52,
   "id": "61e037de-c02a-4027-8c28-2493c994ba00",
   "metadata": {},
   "outputs": [
    {
     "data": {
      "text/plain": [
       "[10, 9, 6, 5, 1]"
      ]
     },
     "execution_count": 52,
     "metadata": {},
     "output_type": "execute_result"
    }
   ],
   "source": [
    "numbers = [9,10,1,5,6]\n",
    "numbers.sort(reverse = True) #내림차순 정렬\n",
    "numbers"
   ]
  },
  {
   "cell_type": "markdown",
   "id": "46aba7cf-e838-4800-a8bf-4d9d10d71e23",
   "metadata": {},
   "source": [
    "## 1.8 리스트 복제"
   ]
  },
  {
   "cell_type": "code",
   "execution_count": 54,
   "id": "434ea8ab-14ff-4ec6-a5c5-568271e8fe49",
   "metadata": {},
   "outputs": [
    {
     "name": "stdout",
     "output_type": "stream",
     "text": [
      "정렬전 데이터: [1, 2, 6]\n",
      "정렬후 데이터: [1, 2, 6]\n"
     ]
    }
   ],
   "source": [
    "numbers = [6,1,2]  # numbers는 주소값이 들어있음\n",
    "new_numbers = numbers  # 얕은 복사는 주소값을 복사함, numbers의 값이 바뀌면 new_numbers도 바뀜\n",
    "numbers.sort()\n",
    "print('정렬전 데이터:', new_numbers)\n",
    "print('정렬후 데이터:', numbers)"
   ]
  },
  {
   "cell_type": "code",
   "execution_count": 55,
   "id": "612f7aad-18b3-4290-b48f-59059ffa9130",
   "metadata": {},
   "outputs": [
    {
     "name": "stdout",
     "output_type": "stream",
     "text": [
      "정렬전 데이터: [6, 1, 2]\n",
      "정렬후 데이터: [1, 2, 6]\n"
     ]
    }
   ],
   "source": [
    "numbers = [6,1,2]  \n",
    "new_numbers = numbers.copy()  # 깊은 복사는 새로운 배열을 numbers와 똑같이 만들고 새로운 주소를 부여함 \n",
    "numbers.sort()\n",
    "print('정렬전 데이터:', new_numbers)\n",
    "print('정렬후 데이터:', numbers)"
   ]
  },
  {
   "cell_type": "markdown",
   "id": "701a4ac1-51c4-47cf-b66c-fdfa1cfd1e71",
   "metadata": {},
   "source": [
    "# 2절 튜플\n",
    "    - 리스트와 유사하지만 읽기 전용\n",
    "    - ()이용해서 생성"
   ]
  },
  {
   "cell_type": "code",
   "execution_count": 56,
   "id": "8c4d522e-4ba7-4460-96f0-6d561b3be341",
   "metadata": {},
   "outputs": [
    {
     "name": "stdout",
     "output_type": "stream",
     "text": [
      "<class 'tuple'>\n",
      "('서울', '부산', '광주', '대전')\n"
     ]
    }
   ],
   "source": [
    "city = ('서울', '부산', '광주', '대전')\n",
    "print(type(city))\n",
    "print(city)"
   ]
  },
  {
   "cell_type": "code",
   "execution_count": 57,
   "id": "d3b11af1-255f-4fd9-8846-5f738097bce1",
   "metadata": {},
   "outputs": [
    {
     "data": {
      "text/plain": [
       "'서울~부산~광주~대전'"
      ]
     },
     "execution_count": 57,
     "metadata": {},
     "output_type": "execute_result"
    }
   ],
   "source": [
    "'~'.join(city)"
   ]
  },
  {
   "cell_type": "code",
   "execution_count": 59,
   "id": "2f561963-e507-4804-ae1e-405ecf1cd270",
   "metadata": {},
   "outputs": [
    {
     "data": {
      "text/plain": [
       "list"
      ]
     },
     "execution_count": 59,
     "metadata": {},
     "output_type": "execute_result"
    }
   ],
   "source": [
    "list_ = ['서울']\n",
    "type(list_)"
   ]
  },
  {
   "cell_type": "code",
   "execution_count": 62,
   "id": "53edf751-ce9f-4619-b5fc-4c1a9a69fe0a",
   "metadata": {},
   "outputs": [
    {
     "data": {
      "text/plain": [
       "tuple"
      ]
     },
     "execution_count": 62,
     "metadata": {},
     "output_type": "execute_result"
    }
   ],
   "source": [
    "t= ('서울', )\n",
    "type(t)"
   ]
  },
  {
   "cell_type": "markdown",
   "id": "c7aa0276-ea80-4411-be42-7c0d467a5230",
   "metadata": {},
   "source": [
    "# 3절 딕셔너리\n",
    "    - 구조체와 유사\n",
    "    - {}를 이용해서 생성, key-value쌍으로 구성\n",
    "    - 값은 중복 가능하나, key는 중복 불가\n",
    "    - index를 이용한 참조 불가 "
   ]
  },
  {
   "cell_type": "code",
   "execution_count": 64,
   "id": "510772f8-b022-4247-b73f-b0f5bc1a53f0",
   "metadata": {},
   "outputs": [
    {
     "name": "stdout",
     "output_type": "stream",
     "text": [
      "<class 'dict'>\n",
      "{'name': '홍길동', 'address': '서울시 금천구'}\n"
     ]
    }
   ],
   "source": [
    "dic = {'name': '홍길동', 'address': '서울시 금천구'}\n",
    "print(type(dic))\n",
    "print(dic)"
   ]
  },
  {
   "cell_type": "code",
   "execution_count": 68,
   "id": "5d297614-080a-4493-9050-b16002e4dc33",
   "metadata": {},
   "outputs": [
    {
     "data": {
      "text/plain": [
       "('홍길동', '서울시 금천구')"
      ]
     },
     "execution_count": 68,
     "metadata": {},
     "output_type": "execute_result"
    }
   ],
   "source": [
    "dic['name'], dic['address']"
   ]
  },
  {
   "cell_type": "code",
   "execution_count": 70,
   "id": "8f9408fd-1129-4482-92f9-ab7561f5cfea",
   "metadata": {},
   "outputs": [
    {
     "data": {
      "text/plain": [
       "('홍길동', None)"
      ]
     },
     "execution_count": 70,
     "metadata": {},
     "output_type": "execute_result"
    }
   ],
   "source": [
    "dic.get('name'), dic.get('score')  # get 함수는 key값이 없어도 에러가 나지 않고 none 반환"
   ]
  },
  {
   "cell_type": "code",
   "execution_count": 77,
   "id": "f55cd66b-1171-4286-908d-2d8a749d5e27",
   "metadata": {},
   "outputs": [
    {
     "name": "stdout",
     "output_type": "stream",
     "text": [
      "{'name': '홍길동', 'address': '서울시 금천구', 'score': 100, 'sport': 'sleep'}\n"
     ]
    }
   ],
   "source": [
    "# dictionary 수정\n",
    "dic['score'] = 100\n",
    "dic['sport'] = 'sleep'\n",
    "print(dic)"
   ]
  },
  {
   "cell_type": "code",
   "execution_count": 78,
   "id": "395f0bf8-9b9d-4307-bb20-42c06b2c465f",
   "metadata": {},
   "outputs": [
    {
     "data": {
      "text/plain": [
       "{'name': '홍길동', 'address': '서울시 금천구', 'score': 100}"
      ]
     },
     "execution_count": 78,
     "metadata": {},
     "output_type": "execute_result"
    }
   ],
   "source": [
    "dic.pop('sport')\n",
    "dic"
   ]
  },
  {
   "cell_type": "code",
   "execution_count": 83,
   "id": "3244c5ec-dfff-42c1-92f7-94d8f05cb969",
   "metadata": {},
   "outputs": [
    {
     "name": "stdout",
     "output_type": "stream",
     "text": [
      "name\n",
      "address\n",
      "score\n"
     ]
    }
   ],
   "source": [
    "# 리스트(튜플, 셋) 에서 출력하듯이 for 문 사용하면 key 값만 나옴\n",
    "for key in dic:\n",
    "    print(key)"
   ]
  },
  {
   "cell_type": "code",
   "execution_count": 84,
   "id": "93c6620a-62b3-4b4b-9e54-93728bcd1492",
   "metadata": {},
   "outputs": [
    {
     "data": {
      "text/plain": [
       "dict_keys(['name', 'address', 'score'])"
      ]
     },
     "execution_count": 84,
     "metadata": {},
     "output_type": "execute_result"
    }
   ],
   "source": [
    "dic.keys()"
   ]
  },
  {
   "cell_type": "code",
   "execution_count": 85,
   "id": "a3611334-b45d-4d23-9c3b-7198442a662d",
   "metadata": {},
   "outputs": [
    {
     "data": {
      "text/plain": [
       "dict_values(['홍길동', '서울시 금천구', 100])"
      ]
     },
     "execution_count": 85,
     "metadata": {},
     "output_type": "execute_result"
    }
   ],
   "source": [
    "dic.values()"
   ]
  },
  {
   "cell_type": "code",
   "execution_count": 86,
   "id": "c8c48f73-1e98-418b-a2e1-bcf1498baaf2",
   "metadata": {},
   "outputs": [
    {
     "data": {
      "text/plain": [
       "dict_items([('name', '홍길동'), ('address', '서울시 금천구'), ('score', 100)])"
      ]
     },
     "execution_count": 86,
     "metadata": {},
     "output_type": "execute_result"
    }
   ],
   "source": [
    "dic.items()  # 많이 쓰임 "
   ]
  },
  {
   "cell_type": "code",
   "execution_count": 88,
   "id": "36d37e85-2420-4a95-bdb5-d056fbae1d5d",
   "metadata": {},
   "outputs": [
    {
     "name": "stdout",
     "output_type": "stream",
     "text": [
      "name : 홍길동\n",
      "address : 서울시 금천구\n",
      "score : 100\n"
     ]
    }
   ],
   "source": [
    "for key, value in dic.items():\n",
    "    print ('{} : {}'.format(key, value))"
   ]
  },
  {
   "cell_type": "code",
   "execution_count": 89,
   "id": "e7181190-2d76-4af7-9cad-0ad6f723852c",
   "metadata": {},
   "outputs": [
    {
     "data": {
      "text/plain": [
       "True"
      ]
     },
     "execution_count": 89,
     "metadata": {},
     "output_type": "execute_result"
    }
   ],
   "source": [
    "l = ['a', 'b', 'c']\n",
    "'c' in l"
   ]
  },
  {
   "cell_type": "code",
   "execution_count": 90,
   "id": "bc2aa217-0369-4e28-a713-63438ef1d58d",
   "metadata": {},
   "outputs": [
    {
     "data": {
      "text/plain": [
       "True"
      ]
     },
     "execution_count": 90,
     "metadata": {},
     "output_type": "execute_result"
    }
   ],
   "source": [
    "dic = {'name': '홍길동', 'score':100}\n",
    "'name' in dic"
   ]
  },
  {
   "cell_type": "code",
   "execution_count": 92,
   "id": "622e4c9c-513d-402e-963c-cf07eb0584b6",
   "metadata": {},
   "outputs": [
    {
     "data": {
      "text/plain": [
       "False"
      ]
     },
     "execution_count": 92,
     "metadata": {},
     "output_type": "execute_result"
    }
   ],
   "source": [
    "'홍길동' in dic  # key 값에 있어야만 True"
   ]
  },
  {
   "cell_type": "code",
   "execution_count": 93,
   "id": "05877bcc-a079-4a58-9984-dd3322b078d9",
   "metadata": {},
   "outputs": [
    {
     "data": {
      "text/plain": [
       "2"
      ]
     },
     "execution_count": 93,
     "metadata": {},
     "output_type": "execute_result"
    }
   ],
   "source": [
    "len(dic)"
   ]
  },
  {
   "cell_type": "markdown",
   "id": "2c181c41-f7cc-4f08-8bab-60b84f8c27e0",
   "metadata": {},
   "source": [
    "# 4절 셋\n",
    "    - 중복을 허용하지 않는 리스트(집합)\n",
    "    - 순서가 없다(인덱스가 없다)"
   ]
  },
  {
   "cell_type": "code",
   "execution_count": 104,
   "id": "ef253aca-b892-4be5-9922-0f778ab57c81",
   "metadata": {},
   "outputs": [
    {
     "name": "stdout",
     "output_type": "stream",
     "text": [
      "{0, 3, 'banana', 'apple', 'orange'}\n",
      "<class 'set'>\n"
     ]
    }
   ],
   "source": [
    "fruits = {'apple', 'orange', 'banana', 'banana', 0, 0, 3,3, 'apple'}\n",
    "print(fruits)\n",
    "print(type(fruits))"
   ]
  },
  {
   "cell_type": "code",
   "execution_count": 107,
   "id": "1fcca707-70b1-4429-874c-5423ef68d2b4",
   "metadata": {},
   "outputs": [
    {
     "name": "stdout",
     "output_type": "stream",
     "text": [
      "{0, 3, 'banana', 'apple', 'orange', 'kiwi'}\n",
      "{0, 3, 'banana', 'apple', 'orange', 'kiwi'}\n"
     ]
    }
   ],
   "source": [
    "fruits.add('kiwi')\n",
    "print(fruits)\n",
    "fruits.add('banana')\n",
    "print(fruits)   # 원래 있는건 추가안됨"
   ]
  },
  {
   "cell_type": "code",
   "execution_count": 108,
   "id": "017660c5-83ca-4afe-a278-89004e11ce57",
   "metadata": {},
   "outputs": [
    {
     "name": "stdout",
     "output_type": "stream",
     "text": [
      "0\n",
      "3\n",
      "banana\n",
      "apple\n",
      "orange\n",
      "kiwi\n"
     ]
    }
   ],
   "source": [
    "for data in fruits:\n",
    "    print(data)    "
   ]
  },
  {
   "cell_type": "markdown",
   "id": "c083ce8b-c87d-4a21-8ae5-c71539d6178b",
   "metadata": {},
   "source": [
    "# 5절 연습문제"
   ]
  },
  {
   "cell_type": "code",
   "execution_count": 121,
   "id": "b3f225a8-28f9-416c-b76b-899805c57c15",
   "metadata": {},
   "outputs": [],
   "source": [
    "numbers = [1,2,3,4,5,6,7,8,9,10]"
   ]
  },
  {
   "cell_type": "code",
   "execution_count": 110,
   "id": "159ef7de-f804-4ee1-8820-2b3fb24bd76f",
   "metadata": {},
   "outputs": [
    {
     "data": {
      "text/plain": [
       "[1, 2, 3, 4, 5, 6, 7, 8, 9, 10, 100]"
      ]
     },
     "execution_count": 110,
     "metadata": {},
     "output_type": "execute_result"
    }
   ],
   "source": [
    "numbers.append(100)\n",
    "numbers"
   ]
  },
  {
   "cell_type": "code",
   "execution_count": 111,
   "id": "472894fb-c2d1-430c-9856-0155d3ad36f5",
   "metadata": {},
   "outputs": [
    {
     "data": {
      "text/plain": [
       "[1, 2, 3, 4, 5, 6, 7, 8, 9, 10, 100, 200, 300, 400, 500]"
      ]
     },
     "execution_count": 111,
     "metadata": {},
     "output_type": "execute_result"
    }
   ],
   "source": [
    "data = [200, 300, 400, 500]\n",
    "numbers+=data\n",
    "numbers"
   ]
  },
  {
   "cell_type": "code",
   "execution_count": 113,
   "id": "e5717983-cd2d-4435-8f52-3bb835b1c5f3",
   "metadata": {},
   "outputs": [
    {
     "name": "stdout",
     "output_type": "stream",
     "text": [
      "[1, 2, 3, 4, 5]\n"
     ]
    }
   ],
   "source": [
    "print(numbers[:5])"
   ]
  },
  {
   "cell_type": "code",
   "execution_count": 115,
   "id": "0ed37c64-defe-415e-9f10-9852deeeb209",
   "metadata": {},
   "outputs": [
    {
     "name": "stdout",
     "output_type": "stream",
     "text": [
      "[2, 4, 6, 8, 10, 200, 400]\n"
     ]
    }
   ],
   "source": [
    "print(numbers[1::2])"
   ]
  },
  {
   "cell_type": "code",
   "execution_count": 122,
   "id": "5b51cc38-0237-4bd0-933d-003542d2b719",
   "metadata": {},
   "outputs": [
    {
     "name": "stdout",
     "output_type": "stream",
     "text": [
      "[1, 0, 3, 0, 5, 0, 7, 0, 9, 0]\n"
     ]
    }
   ],
   "source": [
    "for idx, value in enumerate(numbers):\n",
    "    if (idx+1)%2==0:\n",
    "        numbers[idx] = 0 \n",
    "print(numbers)"
   ]
  },
  {
   "cell_type": "code",
   "execution_count": 123,
   "id": "ec336220-a5e9-4839-b974-edfaa65cabb4",
   "metadata": {},
   "outputs": [
    {
     "name": "stdout",
     "output_type": "stream",
     "text": [
      "[0, 9, 0, 7, 0, 5, 0, 3, 0, 1]\n"
     ]
    }
   ],
   "source": [
    "numbers = numbers[::-1]\n",
    "print(numbers)"
   ]
  },
  {
   "cell_type": "code",
   "execution_count": 126,
   "id": "fa28d3e3-3924-48c8-adf5-9f5744fd9ce3",
   "metadata": {},
   "outputs": [
    {
     "name": "stdout",
     "output_type": "stream",
     "text": [
      "서울시 금천구\n"
     ]
    }
   ],
   "source": [
    "member = {'name': '홍길동', 'age': 20, 'address': '서울시 금천구', 'score':90}\n",
    "print(member['address'])"
   ]
  },
  {
   "cell_type": "code",
   "execution_count": 130,
   "id": "a862ccd2-3dff-4596-b470-5359f838a2bc",
   "metadata": {},
   "outputs": [
    {
     "data": {
      "text/plain": [
       "90"
      ]
     },
     "execution_count": 130,
     "metadata": {},
     "output_type": "execute_result"
    }
   ],
   "source": [
    "member.pop('score')"
   ]
  },
  {
   "cell_type": "code",
   "execution_count": 132,
   "id": "b81a172d-b0e5-4a20-9ca0-7e1b8b37b75b",
   "metadata": {},
   "outputs": [
    {
     "name": "stdout",
     "output_type": "stream",
     "text": [
      "{'name': '홍길동', 'age': 20, 'address': '서울시 서대문구'}\n"
     ]
    }
   ],
   "source": [
    "member['address'] = '서울시 서대문구'\n",
    "print(member)"
   ]
  },
  {
   "cell_type": "code",
   "execution_count": null,
   "id": "3fe501ef-01ef-4c08-a4b6-a456eb0f8761",
   "metadata": {},
   "outputs": [],
   "source": []
  },
  {
   "cell_type": "code",
   "execution_count": null,
   "id": "b6d125cb-c994-4065-80e6-3ec35a24ad76",
   "metadata": {},
   "outputs": [],
   "source": []
  },
  {
   "cell_type": "code",
   "execution_count": null,
   "id": "e4aa03b4-8863-4229-85e7-35af97cf768f",
   "metadata": {},
   "outputs": [],
   "source": []
  },
  {
   "cell_type": "code",
   "execution_count": null,
   "id": "3222a2fe-506e-4d3a-927b-e80ec4e77a4a",
   "metadata": {},
   "outputs": [],
   "source": []
  },
  {
   "cell_type": "code",
   "execution_count": null,
   "id": "2366466b-d8be-4888-a867-b77bc3ca5218",
   "metadata": {},
   "outputs": [],
   "source": []
  },
  {
   "cell_type": "code",
   "execution_count": null,
   "id": "6ae3b226-0def-4f0f-b4f0-d572757d7ee7",
   "metadata": {},
   "outputs": [],
   "source": []
  },
  {
   "cell_type": "code",
   "execution_count": null,
   "id": "65ceb0ac-8b9b-4af9-8971-7cf22cfc51c5",
   "metadata": {},
   "outputs": [],
   "source": []
  },
  {
   "cell_type": "code",
   "execution_count": null,
   "id": "ada255ee-9cc8-46d8-9f3e-37daf58b169d",
   "metadata": {},
   "outputs": [],
   "source": []
  },
  {
   "cell_type": "code",
   "execution_count": null,
   "id": "3f3d29b2-60b4-4119-8555-a0c8b55dcc1b",
   "metadata": {},
   "outputs": [],
   "source": []
  },
  {
   "cell_type": "code",
   "execution_count": null,
   "id": "abee38b3-11a9-44bc-9e56-25c4d0dba83e",
   "metadata": {},
   "outputs": [],
   "source": []
  },
  {
   "cell_type": "code",
   "execution_count": null,
   "id": "3e1fc98c-3614-4cdb-b9cd-01804f3bda10",
   "metadata": {},
   "outputs": [],
   "source": []
  },
  {
   "cell_type": "code",
   "execution_count": null,
   "id": "bbdd5e1e-41c2-4e78-a969-3c2508c5cfd6",
   "metadata": {},
   "outputs": [],
   "source": []
  },
  {
   "cell_type": "code",
   "execution_count": null,
   "id": "a0096ff7-a3eb-4d34-a6f7-f0f7cf88c1ab",
   "metadata": {},
   "outputs": [],
   "source": []
  },
  {
   "cell_type": "code",
   "execution_count": null,
   "id": "809e3375-701b-4205-ba6f-734d08ed2600",
   "metadata": {},
   "outputs": [],
   "source": []
  }
 ],
 "metadata": {
  "kernelspec": {
   "display_name": "Python 3 (ipykernel)",
   "language": "python",
   "name": "python3"
  },
  "language_info": {
   "codemirror_mode": {
    "name": "ipython",
    "version": 3
   },
   "file_extension": ".py",
   "mimetype": "text/x-python",
   "name": "python",
   "nbconvert_exporter": "python",
   "pygments_lexer": "ipython3",
   "version": "3.11.7"
  }
 },
 "nbformat": 4,
 "nbformat_minor": 5
}
