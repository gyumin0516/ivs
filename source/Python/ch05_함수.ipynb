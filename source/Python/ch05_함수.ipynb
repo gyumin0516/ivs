{
 "cells": [
  {
   "cell_type": "markdown",
   "id": "cb5d3c85-5df9-4b47-8767-02687c86ed47",
   "metadata": {},
   "source": [
    "<font color = \"white\" size = \"7\"><b> ch05 함수</b></font>\n",
    "    \n",
    "    - 반복해서 사용할 코드를 묶어서 구현\n",
    "    - 같은 이름의 함수는 덮어씀(오버로딩 불가)\n",
    "    - 함수 정의(구현)\n",
    "    \n",
    "    ```\n",
    "        def 함수명([인수(매개변수)1, 인수2,...]):\n",
    "            명령어 1\n",
    "            명령어 2        \n",
    "    ```"
   ]
  },
  {
   "cell_type": "markdown",
   "id": "ab323578-a251-42de-9cea-5fed782f4324",
   "metadata": {},
   "source": [
    "# 1절 함수의 정의 및 사용(호출)\n",
    "## 1.1 함수정의"
   ]
  },
  {
   "cell_type": "code",
   "execution_count": 3,
   "id": "6d7ff58a-e3b8-4caa-b5c2-4868495f7f05",
   "metadata": {},
   "outputs": [],
   "source": [
    "def my_hello(x, msg):  # 함수 정의\n",
    "    for i in range(x):\n",
    "        print(i, msg)"
   ]
  },
  {
   "cell_type": "code",
   "execution_count": 4,
   "id": "38dccaac-4b65-471e-a8c4-12f9a0ec54d4",
   "metadata": {},
   "outputs": [
    {
     "name": "stdout",
     "output_type": "stream",
     "text": [
      "0 쉬는 시간입니다\n",
      "1 쉬는 시간입니다\n",
      "2 쉬는 시간입니다\n"
     ]
    }
   ],
   "source": [
    "my_hello(3, '쉬는 시간입니다')"
   ]
  },
  {
   "cell_type": "markdown",
   "id": "fb5d1e8d-1051-41d6-ab7c-4361265433d2",
   "metadata": {},
   "source": [
    "- 함수는 변수다"
   ]
  },
  {
   "cell_type": "code",
   "execution_count": 5,
   "id": "eb1f0e7f-a1a1-4f00-9c75-d69d702b63fe",
   "metadata": {},
   "outputs": [
    {
     "data": {
      "text/plain": [
       "function"
      ]
     },
     "execution_count": 5,
     "metadata": {},
     "output_type": "execute_result"
    }
   ],
   "source": [
    "type(my_hello)"
   ]
  },
  {
   "cell_type": "code",
   "execution_count": 6,
   "id": "9bf6b84f-3839-44ef-93fb-05e96454ccec",
   "metadata": {},
   "outputs": [
    {
     "ename": "TypeError",
     "evalue": "'int' object is not callable",
     "output_type": "error",
     "traceback": [
      "\u001b[1;31m---------------------------------------------------------------------------\u001b[0m",
      "\u001b[1;31mTypeError\u001b[0m                                 Traceback (most recent call last)",
      "Cell \u001b[1;32mIn[6], line 2\u001b[0m\n\u001b[0;32m      1\u001b[0m my_hello \u001b[38;5;241m=\u001b[39m \u001b[38;5;241m10\u001b[39m\n\u001b[1;32m----> 2\u001b[0m my_hello(\u001b[38;5;241m3\u001b[39m, \u001b[38;5;124m'\u001b[39m\u001b[38;5;124m쉬는 시간입니다\u001b[39m\u001b[38;5;124m'\u001b[39m)\n",
      "\u001b[1;31mTypeError\u001b[0m: 'int' object is not callable"
     ]
    }
   ],
   "source": [
    "my_hello = 10\n",
    "my_hello(3, '쉬는 시간입니다')"
   ]
  },
  {
   "cell_type": "code",
   "execution_count": 7,
   "id": "8a099edb-43e0-431d-862b-8187db0b442e",
   "metadata": {},
   "outputs": [],
   "source": [
    "def my_hello(x):  # 앞써 정의한 함수를 덮어씀\n",
    "    for i in range(x):\n",
    "        print(i, '함수는 복습필수')"
   ]
  },
  {
   "cell_type": "code",
   "execution_count": 9,
   "id": "56c3c0ab-3537-4219-b42d-6b6a3a79de98",
   "metadata": {},
   "outputs": [
    {
     "name": "stdout",
     "output_type": "stream",
     "text": [
      "0 함수는 복습필수\n",
      "1 함수는 복습필수\n",
      "2 함수는 복습필수\n"
     ]
    }
   ],
   "source": [
    "my_hello(3)"
   ]
  },
  {
   "cell_type": "code",
   "execution_count": 11,
   "id": "8d0c186a-aca6-41fe-b45f-1ef5cbf8c36d",
   "metadata": {},
   "outputs": [
    {
     "name": "stdout",
     "output_type": "stream",
     "text": [
      "6\n",
      "3\n"
     ]
    }
   ],
   "source": [
    "def my_add(num1, num2, num3=0):  # num3은 기본값을 갖는 인수\n",
    "                                 # 기본값을 갖는 인수는 순서인수 뒤에 와야한다\n",
    "        # (num1, num2=0, num3):  이렇게 하면 안됨\n",
    "    return num1 + num2 + num3\n",
    "print(my_add(1,2,3))\n",
    "print(my_add(1,2))    "
   ]
  },
  {
   "cell_type": "markdown",
   "id": "23c1a320-6ab1-4700-9d5d-edc0b026e3b4",
   "metadata": {},
   "source": [
    "## 1.2 docstring\n",
    "    - 함수 도움말(shift+tab로 볼 수 있음)"
   ]
  },
  {
   "cell_type": "code",
   "execution_count": 19,
   "id": "49b15c96-e74a-46c0-8013-6c6cd439f4e8",
   "metadata": {},
   "outputs": [],
   "source": [
    "def fibonacci(n):\n",
    "    \"\"\"\n",
    "    매개변수(인수)로 들어온 n값 미만의 피보나치 수열을 출력하는 함수\n",
    "    ex. 인수로 10 : 0 1 1 2 3 5 8 \n",
    "    ex. 인수로 5  : 0 1 1 2 3 \n",
    "    \"\"\"\n",
    "    a, b = 0, 1\n",
    "    while a<n:\n",
    "        print(a, end='. ')\n",
    "        a, b = b, a+b\n",
    "    print()  # 개행        "
   ]
  },
  {
   "cell_type": "code",
   "execution_count": 20,
   "id": "492eeb82-63e1-4c44-ae47-c03a8ff6eeab",
   "metadata": {},
   "outputs": [
    {
     "name": "stdout",
     "output_type": "stream",
     "text": [
      "0. 1. 1. 2. 3. 5. 8. \n"
     ]
    }
   ],
   "source": [
    "fibonacci(10)"
   ]
  },
  {
   "cell_type": "code",
   "execution_count": 21,
   "id": "2c721238-f953-4f47-b773-bdcfb6d2caa9",
   "metadata": {},
   "outputs": [
    {
     "data": {
      "text/plain": [
       "function"
      ]
     },
     "execution_count": 21,
     "metadata": {},
     "output_type": "execute_result"
    }
   ],
   "source": [
    "type(fibonacci)"
   ]
  },
  {
   "cell_type": "code",
   "execution_count": 22,
   "id": "5a84a53c-be02-44d0-8250-a53ae9f53804",
   "metadata": {},
   "outputs": [
    {
     "data": {
      "text/plain": [
       "<function __main__.fibonacci(n)>"
      ]
     },
     "execution_count": 22,
     "metadata": {},
     "output_type": "execute_result"
    }
   ],
   "source": [
    "fibonacci"
   ]
  },
  {
   "cell_type": "code",
   "execution_count": 23,
   "id": "6271268d-3ae3-4f1e-a0c9-596f85f827dd",
   "metadata": {},
   "outputs": [
    {
     "name": "stdout",
     "output_type": "stream",
     "text": [
      "0. 1. 1. 2. 3. 5. 8. 13. 21. 34. 55. 89. \n"
     ]
    }
   ],
   "source": [
    "if __name__ == '__main__':\n",
    "    fibonacci(100)"
   ]
  },
  {
   "cell_type": "code",
   "execution_count": 27,
   "id": "a77ba66c-d5e4-4255-9201-4216b5ac666c",
   "metadata": {},
   "outputs": [
    {
     "name": "stdout",
     "output_type": "stream",
     "text": [
      "0. 1. 1. 2. 3. 5. 8. 13. 21. 34. 55. 89. \n"
     ]
    }
   ],
   "source": [
    "import fibonacci as fi\n",
    "fi.fibonacci(100)"
   ]
  },
  {
   "cell_type": "markdown",
   "id": "62890892-b70e-41d1-81a8-7dd143cc96de",
   "metadata": {},
   "source": [
    "## 1.3 지역변수(local var)와 전역변수(global var)"
   ]
  },
  {
   "cell_type": "code",
   "execution_count": 32,
   "id": "b1346912-363c-4803-84b9-71b131de7641",
   "metadata": {},
   "outputs": [
    {
     "name": "stdout",
     "output_type": "stream",
     "text": [
      "100\n",
      "100\n"
     ]
    }
   ],
   "source": [
    "global_var = 100 # 전역변수\n",
    "def func1():\n",
    "    print(global_var)\n",
    "\n",
    "func1()\n",
    "print(global_var)"
   ]
  },
  {
   "cell_type": "code",
   "execution_count": 33,
   "id": "7514b71c-115b-4621-8b3f-eee295ff5063",
   "metadata": {},
   "outputs": [
    {
     "name": "stdout",
     "output_type": "stream",
     "text": [
      "100\n"
     ]
    },
    {
     "ename": "NameError",
     "evalue": "name 'local_var' is not defined",
     "output_type": "error",
     "traceback": [
      "\u001b[1;31m---------------------------------------------------------------------------\u001b[0m",
      "\u001b[1;31mNameError\u001b[0m                                 Traceback (most recent call last)",
      "Cell \u001b[1;32mIn[33], line 5\u001b[0m\n\u001b[0;32m      3\u001b[0m     \u001b[38;5;28mprint\u001b[39m(local_var)\n\u001b[0;32m      4\u001b[0m func2()\n\u001b[1;32m----> 5\u001b[0m \u001b[38;5;28mprint\u001b[39m(local_var)\n",
      "\u001b[1;31mNameError\u001b[0m: name 'local_var' is not defined"
     ]
    }
   ],
   "source": [
    "def func2():\n",
    "    local_var = 100  # 지역변수 : 함수내에서만 사용 가능한 변수    \n",
    "    print(local_var)\n",
    "func2()\n",
    "print(local_var)"
   ]
  },
  {
   "cell_type": "code",
   "execution_count": 37,
   "id": "a35235dd-9b24-46c6-b87b-c04e9dd5497e",
   "metadata": {},
   "outputs": [
    {
     "name": "stdout",
     "output_type": "stream",
     "text": [
      "200\n",
      "100\n"
     ]
    }
   ],
   "source": [
    "g_var = 100 # 전역변수\n",
    "def func3():\n",
    "    g_var = 200  # 지역변수로 새로 선언한 변수(함수가 끝나면 지워짐)\n",
    "    print(g_var)\n",
    "func3()\n",
    "print(g_var)"
   ]
  },
  {
   "cell_type": "markdown",
   "id": "67915f3d-805f-4aaf-8639-572b33b8bde7",
   "metadata": {},
   "source": [
    "## 1.4 Lexical 특성"
   ]
  },
  {
   "cell_type": "code",
   "execution_count": 38,
   "id": "7be13a89-6bcf-4dd9-b644-c13a73293122",
   "metadata": {},
   "outputs": [
    {
     "ename": "UnboundLocalError",
     "evalue": "cannot access local variable 'g_var' where it is not associated with a value",
     "output_type": "error",
     "traceback": [
      "\u001b[1;31m---------------------------------------------------------------------------\u001b[0m",
      "\u001b[1;31mUnboundLocalError\u001b[0m                         Traceback (most recent call last)",
      "Cell \u001b[1;32mIn[38], line 6\u001b[0m\n\u001b[0;32m      4\u001b[0m     g_var \u001b[38;5;241m=\u001b[39m \u001b[38;5;241m200\u001b[39m  \u001b[38;5;66;03m# 지역변수로 새로 선언한 변수(함수가 끝나면 지워짐)\u001b[39;00m\n\u001b[0;32m      5\u001b[0m     \u001b[38;5;28mprint\u001b[39m(g_var)\n\u001b[1;32m----> 6\u001b[0m func3()\n\u001b[0;32m      7\u001b[0m \u001b[38;5;28mprint\u001b[39m(g_var)\n",
      "Cell \u001b[1;32mIn[38], line 3\u001b[0m, in \u001b[0;36mfunc3\u001b[1;34m()\u001b[0m\n\u001b[0;32m      2\u001b[0m \u001b[38;5;28;01mdef\u001b[39;00m \u001b[38;5;21mfunc3\u001b[39m():\n\u001b[1;32m----> 3\u001b[0m     \u001b[38;5;28mprint\u001b[39m(g_var)\n\u001b[0;32m      4\u001b[0m     g_var \u001b[38;5;241m=\u001b[39m \u001b[38;5;241m200\u001b[39m  \u001b[38;5;66;03m# 지역변수로 새로 선언한 변수(함수가 끝나면 지워짐)\u001b[39;00m\n\u001b[0;32m      5\u001b[0m     \u001b[38;5;28mprint\u001b[39m(g_var)\n",
      "\u001b[1;31mUnboundLocalError\u001b[0m: cannot access local variable 'g_var' where it is not associated with a value"
     ]
    }
   ],
   "source": [
    "\n",
    "g_var = 100 # 전역변수\n",
    "def func3():\n",
    "    print(g_var)  \n",
    "    g_var = 200  \n",
    "    print(g_var)\n",
    "func3()\n",
    "print(g_var)"
   ]
  },
  {
   "cell_type": "markdown",
   "id": "6888ceef-3758-43d5-961c-9cec4a5e2cc6",
   "metadata": {},
   "source": [
    "## 1.5 전역변수 수정"
   ]
  },
  {
   "cell_type": "code",
   "execution_count": 39,
   "id": "b6cac3b3-f1e7-4a53-be58-d5bbed1f970d",
   "metadata": {},
   "outputs": [
    {
     "name": "stdout",
     "output_type": "stream",
     "text": [
      "100\n",
      "200\n",
      "200\n"
     ]
    }
   ],
   "source": [
    "g_var = 100 # 전역변수\n",
    "def func3():\n",
    "    global g_var # 함수내에서의 g_var는 전역변수를 쓸거야\n",
    "    print(g_var) \n",
    "    g_var = 200  \n",
    "    print(g_var)\n",
    "func3()\n",
    "print(g_var)"
   ]
  },
  {
   "cell_type": "markdown",
   "id": "dcdf8350-de33-4979-9a4c-265efeef2293",
   "metadata": {},
   "source": [
    "## 1.6 값에 의한 호출 (call by value)\n",
    "    - 함수에 인수로 전달되는 변수가 스칼라 변수(숫자, 문자, 논리)일 경우\n",
    "    "
   ]
  },
  {
   "cell_type": "code",
   "execution_count": 40,
   "id": "be8f26fc-9777-41e9-80ba-c8b9f5887a88",
   "metadata": {},
   "outputs": [
    {
     "data": {
      "text/plain": [
       "2111225534832"
      ]
     },
     "execution_count": 40,
     "metadata": {},
     "output_type": "execute_result"
    }
   ],
   "source": [
    "foo = 'ab'  # 스칼라 변수\n",
    "id(foo)"
   ]
  },
  {
   "cell_type": "code",
   "execution_count": 42,
   "id": "b833fc6a-28da-4c11-8fe1-77f74d8fb3a9",
   "metadata": {},
   "outputs": [
    {
     "name": "stdout",
     "output_type": "stream",
     "text": [
      "Before : ab의 주소는 2111225534832\n",
      "After : ababab의 주소는 2111290521200\n",
      "함수 호출 후 foo : ab의 주소는 2111225534832\n"
     ]
    }
   ],
   "source": [
    "def func1(f):\n",
    "    print(\"Before : {}의 주소는 {}\".format(f,id(f)))\n",
    "    f *= 3  # 매개변수는 지역변수\n",
    "    print(\"After : {}의 주소는 {}\".format(f,id(f)))\n",
    "func1(foo)\n",
    "print(\"함수 호출 후 foo : {}의 주소는 {}\".format(foo, id(foo)))"
   ]
  },
  {
   "cell_type": "markdown",
   "id": "8c2e7e37-3b3c-425b-b392-4c0d93c6e036",
   "metadata": {},
   "source": [
    "## 1.7 참조에 의한 호출 (call by reference)\n",
    "    - 함수에 전달되는 인수가 리스트, 딕셔너리, 셋일 경우"
   ]
  },
  {
   "cell_type": "code",
   "execution_count": 43,
   "id": "201ab9ab-37df-4ed0-8c40-b11df7f87cd4",
   "metadata": {},
   "outputs": [
    {
     "name": "stdout",
     "output_type": "stream",
     "text": [
      "L의 내용은 [1, 2, 3], 주소는 2111304138048\n"
     ]
    }
   ],
   "source": [
    "L = [1,2,3]\n",
    "print(\"L의 내용은 {}, 주소는 {}\".format(L, id(L)))"
   ]
  },
  {
   "cell_type": "code",
   "execution_count": 46,
   "id": "961efeba-5216-4258-84cf-a4605c922d26",
   "metadata": {},
   "outputs": [
    {
     "name": "stdout",
     "output_type": "stream",
     "text": [
      "함수 내 before : L의 내용은 [1, 2, 3] 주소는 2111304138048\n",
      "함수 내 before : L의 내용은 [1, 2, 3, 4] 주소는 2111304138048\n",
      "L의 내용은 [1, 2, 3, 4], 주소는 2111304138048\n"
     ]
    }
   ],
   "source": [
    "# 변수가 스칼라 값이 아니면 전부 call by reference 함수임 \n",
    "def func2(f):\n",
    "    print(\"함수 내 before : L의 내용은 {} 주소는 {}\".format(L, id(L)))\n",
    "    f.append(4)\n",
    "    print(\"함수 내 after : L의 내용은 {} 주소는 {}\".format(L, id(L)))\n",
    "func2(L)\n",
    "print(\"L의 내용은 {}, 주소는 {}\".format(L, id(L)))"
   ]
  },
  {
   "cell_type": "markdown",
   "id": "6395e79c-c72d-4101-97d0-96327e63f8b1",
   "metadata": {},
   "source": [
    "# 2절 함수의 실행결과를 반환하는 return\n",
    "    - 여러개의 값을 반환할 수 있다(하나의 튜플로 반환)"
   ]
  },
  {
   "cell_type": "code",
   "execution_count": 47,
   "id": "96c9a507-a278-4ff1-9e55-029d0a3bad5c",
   "metadata": {},
   "outputs": [],
   "source": [
    "# 여러값을 return\n",
    "def swap(a,b):\n",
    "    return b, a"
   ]
  },
  {
   "cell_type": "code",
   "execution_count": 51,
   "id": "479b4467-bc46-4bac-9bc3-55f61eca5246",
   "metadata": {},
   "outputs": [
    {
     "name": "stdout",
     "output_type": "stream",
     "text": [
      "함수 실행 전 x=5, y=10\n",
      "함수 실행 후 x=10, y=5\n"
     ]
    }
   ],
   "source": [
    "x, y = 5, 10  # 자동적으로 (5, 10)으로 인식함\n",
    "print(\"함수 실행 전 x={}, y={}\".format(x,y))\n",
    "x, y = swap(x,y)\n",
    "print(\"함수 실행 후 x={}, y={}\".format(x,y))"
   ]
  },
  {
   "cell_type": "markdown",
   "id": "58e4fca8-4d33-4f42-ab43-b1c4b63d34c3",
   "metadata": {},
   "source": [
    "# 3절 함수의 매개변수\n",
    "## 3.1 기본값을 갖는 매개변수"
   ]
  },
  {
   "cell_type": "code",
   "execution_count": 52,
   "id": "1c97897a-aac6-4f2b-a80b-2e26dc2c60ac",
   "metadata": {},
   "outputs": [],
   "source": [
    "# 반드시 순서인수(기본값이 없는 인수), 기본값을 갖는 인수(키워드 인수 아님) 순으로 와야함\n",
    "def make_url(ip, port=80):\n",
    "    return \"http://{}:{}\".format(ip,port)    "
   ]
  },
  {
   "cell_type": "code",
   "execution_count": 54,
   "id": "43cf1740-a9cf-4eb2-a015-c62343ab246c",
   "metadata": {},
   "outputs": [
    {
     "name": "stdout",
     "output_type": "stream",
     "text": [
      "http://localhost:80\n",
      "http://localhost:8090\n",
      "http://localhost:8090\n"
     ]
    }
   ],
   "source": [
    "print(make_url(\"localhost\"))\n",
    "print(make_url(\"localhost\", 8090))\n",
    "print(make_url(port=8090, ip=\"localhost\"))"
   ]
  },
  {
   "cell_type": "markdown",
   "id": "02c72ce0-6111-4b11-a72a-0d5fe32998a4",
   "metadata": {},
   "source": [
    "## 3.2 튜플 매개변수를 이용한 가변인수(인수갯수가 가변) 설정"
   ]
  },
  {
   "cell_type": "code",
   "execution_count": 55,
   "id": "3c301982-9ec3-4914-9c98-f1e2d94020e3",
   "metadata": {},
   "outputs": [
    {
     "name": "stdout",
     "output_type": "stream",
     "text": [
      "Hello world\n"
     ]
    }
   ],
   "source": [
    "print('Hello', 'world')  # 인수의 갯수가 변해도 됨 : 가변인수"
   ]
  },
  {
   "cell_type": "code",
   "execution_count": 60,
   "id": "70fb2441-1124-48e6-b0a3-579b7c53187d",
   "metadata": {},
   "outputs": [],
   "source": [
    "# args앞에 * : args가 튜플로 전달 : 튜플 매개변수\n",
    "# 매개변수를 몇개를 받던 튜플을 만들어서 받음\n",
    "def add(*args):\n",
    "    # print(\"전달받은 args : \", args)\n",
    "    # print(type(args))\n",
    "    sum = 0\n",
    "    for num in args:\n",
    "        sum += num\n",
    "    return sum"
   ]
  },
  {
   "cell_type": "code",
   "execution_count": 57,
   "id": "c3a0c946-fbb8-420b-86b3-9db3b12f1e35",
   "metadata": {},
   "outputs": [
    {
     "name": "stdout",
     "output_type": "stream",
     "text": [
      "전달받은 args :  (1, 2, 3)\n",
      "<class 'tuple'>\n"
     ]
    }
   ],
   "source": [
    "add(1,2,3)"
   ]
  },
  {
   "cell_type": "code",
   "execution_count": 62,
   "id": "5aed4451-80f9-43f2-86af-364d53d11b79",
   "metadata": {},
   "outputs": [
    {
     "name": "stdout",
     "output_type": "stream",
     "text": [
      "15\n",
      "1\n",
      "6\n"
     ]
    }
   ],
   "source": [
    "print(add( 1,2,3,4,5 ))\n",
    "print(add(1))\n",
    "print(add(1,2,3))"
   ]
  },
  {
   "cell_type": "code",
   "execution_count": 63,
   "id": "77e8b095-8a33-4bf4-94b6-3a36348278d3",
   "metadata": {},
   "outputs": [
    {
     "ename": "TypeError",
     "evalue": "concat() missing 1 required keyword-only argument: 'sep'",
     "output_type": "error",
     "traceback": [
      "\u001b[1;31m---------------------------------------------------------------------------\u001b[0m",
      "\u001b[1;31mTypeError\u001b[0m                                 Traceback (most recent call last)",
      "Cell \u001b[1;32mIn[63], line 3\u001b[0m\n\u001b[0;32m      1\u001b[0m \u001b[38;5;28;01mdef\u001b[39;00m \u001b[38;5;21mconcat\u001b[39m(\u001b[38;5;241m*\u001b[39margs, sep):\n\u001b[0;32m      2\u001b[0m     \u001b[38;5;28;01mreturn\u001b[39;00m sep\u001b[38;5;241m.\u001b[39mjoin(args) \n\u001b[1;32m----> 3\u001b[0m concat(\u001b[38;5;124m\"\u001b[39m\u001b[38;5;124mC\u001b[39m\u001b[38;5;124m\"\u001b[39m , \u001b[38;5;124m\"\u001b[39m\u001b[38;5;124mPython\u001b[39m\u001b[38;5;124m\"\u001b[39m, \u001b[38;5;124m\"\u001b[39m\u001b[38;5;124mOracle\u001b[39m\u001b[38;5;124m\"\u001b[39m, \u001b[38;5;124m\"\u001b[39m\u001b[38;5;124m~\u001b[39m\u001b[38;5;124m\"\u001b[39m)\n",
      "\u001b[1;31mTypeError\u001b[0m: concat() missing 1 required keyword-only argument: 'sep'"
     ]
    }
   ],
   "source": [
    "# 튜플이 모든 매개변수를 앞에서 받아감\n",
    "def concat(*args, sep):\n",
    "    return sep.join(args) \n",
    "concat(\"C\" , \"Python\", \"Oracle\", \"~\")"
   ]
  },
  {
   "cell_type": "code",
   "execution_count": 64,
   "id": "c33830cd-f1ab-4920-bdd8-c3d4f2853a3c",
   "metadata": {},
   "outputs": [
    {
     "data": {
      "text/plain": [
       "'C~Python~Oracle'"
      ]
     },
     "execution_count": 64,
     "metadata": {},
     "output_type": "execute_result"
    }
   ],
   "source": [
    "# 해결책 1 \n",
    "def concat(*args, sep):\n",
    "    return sep.join(args) \n",
    "concat(\"C\" , \"Python\", \"Oracle\", sep = \"~\")"
   ]
  },
  {
   "cell_type": "code",
   "execution_count": 65,
   "id": "2fa5d9a5-7c6d-414d-9f9e-7c19b281833d",
   "metadata": {},
   "outputs": [
    {
     "data": {
      "text/plain": [
       "'C~Python~Oracle'"
      ]
     },
     "execution_count": 65,
     "metadata": {},
     "output_type": "execute_result"
    }
   ],
   "source": [
    "# 해결책 2 -> 반드시 이 방법을 따라야함\n",
    "# 순서인수를 튜플인수 앞에 써야함 \n",
    "def concat(sep, *args):    # 기본값을 받는 인수는 튜플인수 뒤에옴\n",
    "    return sep.join(args) \n",
    "concat(\"~\", \"C\" , \"Python\", \"Oracle\")"
   ]
  },
  {
   "cell_type": "code",
   "execution_count": 68,
   "id": "f5775ac2-203c-4e0a-8f1a-2efe7e683860",
   "metadata": {},
   "outputs": [
    {
     "data": {
      "text/plain": [
       "'C~Python~Oracle'"
      ]
     },
     "execution_count": 68,
     "metadata": {},
     "output_type": "execute_result"
    }
   ],
   "source": [
    "# 해결책 3\n",
    "def concat(*args, sep = \"/\"):  # 순서:  순서인수 > 튜플인수 > 키워드 인수\n",
    "    return sep.join(args) \n",
    "# 키워드 인수를 사용할 때는 무조건 sep = \"~\"을 해줘야함\n",
    "concat(\"C\" , \"Python\", \"Oracle\", sep = \"~\")"
   ]
  },
  {
   "cell_type": "markdown",
   "id": "71fc9db3-5a83-4c76-9b3f-041c2b452b52",
   "metadata": {},
   "source": [
    "## 3.3 딕셔너리 매개변수"
   ]
  },
  {
   "cell_type": "code",
   "execution_count": 70,
   "id": "aeaa55ca-8b2c-4942-b659-a6fd768885f4",
   "metadata": {},
   "outputs": [
    {
     "name": "stdout",
     "output_type": "stream",
     "text": [
      "{'name': '홍길동', 'age': 20}\n",
      "<class 'dict'>\n"
     ]
    }
   ],
   "source": [
    "def func(**args):  # **은 args가 딕셔너리로 전달 \n",
    "    print(args)\n",
    "    print(type(args))\n",
    "func(name = \"홍길동\", age = 20)"
   ]
  },
  {
   "cell_type": "code",
   "execution_count": 72,
   "id": "04000409-5f8b-412a-a78d-039c89f1bf7f",
   "metadata": {},
   "outputs": [
    {
     "name": "stdout",
     "output_type": "stream",
     "text": [
      "name : 홍길동\n",
      "age : 20\n"
     ]
    }
   ],
   "source": [
    "def func(**args):  # **은 args가 딕셔너리로 전달 \n",
    "    for key, value in args.items():\n",
    "        print(\"{} : {}\".format(key, value))\n",
    "func(name = \"홍길동\", age = 20)"
   ]
  },
  {
   "cell_type": "code",
   "execution_count": 73,
   "id": "13c7f83d-4d62-4b2a-b92a-fa7de443b83f",
   "metadata": {},
   "outputs": [
    {
     "name": "stdout",
     "output_type": "stream",
     "text": [
      "game_name : 서바이벌c\n",
      "year : 2024\n",
      "price : 33000\n"
     ]
    }
   ],
   "source": [
    "func(game_name = \"서바이벌c\", year = 2024, price = 33000)"
   ]
  },
  {
   "cell_type": "markdown",
   "id": "801edd22-a5d7-4492-be86-571ae0ee8c70",
   "metadata": {},
   "source": [
    "## 3.4 함수 정의 시 매개변수의 순서\n",
    "    - 순서인수 > 튜플인수(*) > 키워드 인수(매개변수 이름을 명시) > 딕셔너리 인수(**)"
   ]
  },
  {
   "cell_type": "code",
   "execution_count": 74,
   "id": "38f9ae4e-8008-4bcb-a1d1-5a2923c405c2",
   "metadata": {},
   "outputs": [],
   "source": [
    "def func(a, b, c, *d, e=10, **f):\n",
    "    print('a = ', a)\n",
    "    print('b = ', b)\n",
    "    print('c = ', c)\n",
    "    print('d = ', d)\n",
    "    print('e = ', e)\n",
    "    print('f = ', f)\n",
    "    "
   ]
  },
  {
   "cell_type": "code",
   "execution_count": 75,
   "id": "63ab27e0-f85c-48cf-8cb2-dcce2cfd85f3",
   "metadata": {},
   "outputs": [
    {
     "name": "stdout",
     "output_type": "stream",
     "text": [
      "a =  10\n",
      "b =  20\n",
      "c =  30\n",
      "d =  (1, 2, 3, 4, 5)\n",
      "e =  100\n",
      "f =  {'height': 180, 'name': '홍길동', 'address': '서울시'}\n"
     ]
    }
   ],
   "source": [
    "func(10,20,30,1,2,3,4,5,e=100, height=180, name=\"홍길동\", address=\"서울시\")"
   ]
  },
  {
   "cell_type": "code",
   "execution_count": 76,
   "id": "3b501e24-17ad-4d82-8979-05e12e93bd75",
   "metadata": {},
   "outputs": [
    {
     "name": "stdout",
     "output_type": "stream",
     "text": [
      "a =  10\n",
      "b =  20\n",
      "c =  30\n",
      "d =  (1, 2, 3, 4, 5)\n",
      "e =  10\n",
      "f =  {'height': 180, 'name': '홍길동', 'address': '서울시'}\n"
     ]
    }
   ],
   "source": [
    "func(10,20,30,1,2,3,4,5, height=180, name=\"홍길동\", address=\"서울시\")"
   ]
  },
  {
   "cell_type": "markdown",
   "id": "da27fde0-dd97-465c-9e63-af63d68b4a58",
   "metadata": {},
   "source": [
    "## 3.5 인수의 언패킹\n",
    "### * 튜플 인수 언패킹"
   ]
  },
  {
   "cell_type": "code",
   "execution_count": null,
   "id": "55b34f8a-22a1-456c-b69a-58f521cb0dd3",
   "metadata": {},
   "outputs": [],
   "source": [
    "def add(*args):\n",
    "    sum = 0\n",
    "    for num in args:\n",
    "        sum += num\n",
    "    return sum"
   ]
  },
  {
   "cell_type": "code",
   "execution_count": 79,
   "id": "225d52a2-d3ad-43bb-a482-9ec38e3ae13e",
   "metadata": {},
   "outputs": [
    {
     "data": {
      "text/plain": [
       "21"
      ]
     },
     "execution_count": 79,
     "metadata": {},
     "output_type": "execute_result"
    }
   ],
   "source": [
    "data = (1,2,3,4,5,6)\n",
    "add(*data)  #data 가 이미 tuple 변수이므로 *data 해주면 튜플이 풀림 "
   ]
  },
  {
   "cell_type": "markdown",
   "id": "6dc1106a-fbe9-4507-ab83-a9e2d0a67fbe",
   "metadata": {},
   "source": [
    "### * 딕셔너리 인수 언패킹"
   ]
  },
  {
   "cell_type": "code",
   "execution_count": 80,
   "id": "0874c680-1991-4294-991d-464133006ffd",
   "metadata": {},
   "outputs": [
    {
     "name": "stdout",
     "output_type": "stream",
     "text": [
      "name : 홍길동\n",
      "age : 20\n"
     ]
    }
   ],
   "source": [
    "def func(**args):  # **은 args가 딕셔너리로 전달 \n",
    "    for key, value in args.items():\n",
    "        print(\"{} : {}\".format(key, value))\n",
    "func(name = \"홍길동\", age = 20)"
   ]
  },
  {
   "cell_type": "code",
   "execution_count": 83,
   "id": "b4c530cc-7920-4ec0-ba03-d483e1dd9496",
   "metadata": {},
   "outputs": [
    {
     "name": "stdout",
     "output_type": "stream",
     "text": [
      "name : 홍길동\n",
      "age : 30\n"
     ]
    }
   ],
   "source": [
    "dic = {\"name\" : \"홍길동\", \"age\" : 30}\n",
    "func(**dic)"
   ]
  },
  {
   "cell_type": "markdown",
   "id": "5d0321b7-8a0d-450e-a90b-7afc426cf489",
   "metadata": {},
   "source": [
    "# 4절 람다식\n",
    "    - 람다식은 작은 익명함수를 의미함\n",
    "    - 실행할 문장을 한문장만 작성할 수 있음\n",
    "    - 리스트 컴프리헨션과 같이 참조해서 학습 추천\n",
    "    - map(), filter()에서 사용할 예정"
   ]
  },
  {
   "cell_type": "code",
   "execution_count": 86,
   "id": "65f0e041-2c2d-405e-b0f9-dabab4157b34",
   "metadata": {},
   "outputs": [
    {
     "data": {
      "text/plain": [
       "8"
      ]
     },
     "execution_count": 86,
     "metadata": {},
     "output_type": "execute_result"
    }
   ],
   "source": [
    "# 일반함수 \n",
    "def add(a, b):\n",
    "    return a+b\n",
    "add(3,5)"
   ]
  },
  {
   "cell_type": "code",
   "execution_count": 87,
   "id": "65896a9d-70db-425e-92b7-bb02a19db519",
   "metadata": {},
   "outputs": [
    {
     "data": {
      "text/plain": [
       "function"
      ]
     },
     "execution_count": 87,
     "metadata": {},
     "output_type": "execute_result"
    }
   ],
   "source": [
    "type(add)"
   ]
  },
  {
   "cell_type": "code",
   "execution_count": 90,
   "id": "8642a88d-e321-42a6-ba73-0d510df4bacb",
   "metadata": {},
   "outputs": [
    {
     "data": {
      "text/plain": [
       "8"
      ]
     },
     "execution_count": 90,
     "metadata": {},
     "output_type": "execute_result"
    }
   ],
   "source": [
    "#람다식\n",
    "add_l = lambda a, b : a+b  # 이름을 지정하려고 변수에 할당한 것\n",
    "add_l(3,5)"
   ]
  },
  {
   "cell_type": "code",
   "execution_count": 91,
   "id": "e18b2738-0bc2-46dc-9cae-1e215b4b208b",
   "metadata": {},
   "outputs": [
    {
     "data": {
      "text/plain": [
       "function"
      ]
     },
     "execution_count": 91,
     "metadata": {},
     "output_type": "execute_result"
    }
   ],
   "source": [
    "type(add_l)"
   ]
  },
  {
   "cell_type": "code",
   "execution_count": 92,
   "id": "422875d1-c77f-49b8-8309-73353f270702",
   "metadata": {},
   "outputs": [
    {
     "data": {
      "text/plain": [
       "11"
      ]
     },
     "execution_count": 92,
     "metadata": {},
     "output_type": "execute_result"
    }
   ],
   "source": [
    "(lambda a, b : a+b)(5,6)  # 함수 이름을 따로 지정안해도됨"
   ]
  },
  {
   "cell_type": "markdown",
   "id": "86b45d5f-0f2b-403d-98cf-d96f38cefc61",
   "metadata": {},
   "source": [
    "## * 매개변수로 람다식 이용"
   ]
  },
  {
   "cell_type": "code",
   "execution_count": 93,
   "id": "896d9f15-3c87-4a9f-98de-6592dfed486b",
   "metadata": {},
   "outputs": [
    {
     "data": {
      "text/plain": [
       "9"
      ]
     },
     "execution_count": 93,
     "metadata": {},
     "output_type": "execute_result"
    }
   ],
   "source": [
    "f = lambda x : x**2\n",
    "f(3)"
   ]
  },
  {
   "cell_type": "code",
   "execution_count": 94,
   "id": "47aeeba6-7ee2-470c-a0ca-d0915666b026",
   "metadata": {},
   "outputs": [],
   "source": [
    "def map_template(func, L=[]):\n",
    "    result = []\n",
    "    for data in L:\n",
    "        result.append(func(data))\n",
    "    return result"
   ]
  },
  {
   "cell_type": "code",
   "execution_count": 95,
   "id": "5529d97b-6f7a-4e2e-b40e-d91a24fa1d05",
   "metadata": {},
   "outputs": [
    {
     "data": {
      "text/plain": [
       "[1, 4, 9, 16, 25]"
      ]
     },
     "execution_count": 95,
     "metadata": {},
     "output_type": "execute_result"
    }
   ],
   "source": [
    "l_data = [1,2,3,4,5]\n",
    "map_template(lambda x:x**2, l_data) "
   ]
  },
  {
   "cell_type": "code",
   "execution_count": 98,
   "id": "ee685e9f-b3cd-48be-9d6e-82cf6d7476d9",
   "metadata": {},
   "outputs": [
    {
     "data": {
      "text/plain": [
       "[1, 4, 9, 16, 25]"
      ]
     },
     "execution_count": 98,
     "metadata": {},
     "output_type": "execute_result"
    }
   ],
   "source": [
    "list(map(lambda x:x**2, l_data))  # 앞에서 만든 map_template와 똑같은 일을 하는 내장함수 map이 존재 "
   ]
  },
  {
   "cell_type": "code",
   "execution_count": 100,
   "id": "05588fe3-47c8-44f0-9dee-b6fb9ad91c86",
   "metadata": {},
   "outputs": [
    {
     "data": {
      "text/plain": [
       "[1, 4, 9, 16, 25]"
      ]
     },
     "execution_count": 100,
     "metadata": {},
     "output_type": "execute_result"
    }
   ],
   "source": [
    "# 리스트 컴프리헨션이용\n",
    "[x**2 for x in l_data]"
   ]
  },
  {
   "cell_type": "code",
   "execution_count": 101,
   "id": "18b4563c-2a19-4e42-b284-96d4ef3246a7",
   "metadata": {},
   "outputs": [],
   "source": [
    "l_data = [1,2,3,4,5]"
   ]
  },
  {
   "cell_type": "code",
   "execution_count": 102,
   "id": "53856946-4bb4-4254-906b-e676357fe1ef",
   "metadata": {},
   "outputs": [],
   "source": [
    "def filter_template(func, L=[]):\n",
    "    result  = []\n",
    "    for data in L:\n",
    "        if func(data):\n",
    "            result.append(data)\n",
    "    return result\n"
   ]
  },
  {
   "cell_type": "code",
   "execution_count": 107,
   "id": "0273c5f7-9bb4-43ca-932c-a402f02ea898",
   "metadata": {},
   "outputs": [
    {
     "data": {
      "text/plain": [
       "[2, 4]"
      ]
     },
     "execution_count": 107,
     "metadata": {},
     "output_type": "execute_result"
    }
   ],
   "source": [
    "filter_template(lambda x:x%2==0, l_data)"
   ]
  },
  {
   "cell_type": "code",
   "execution_count": 108,
   "id": "8566d40d-17d2-40e0-8826-9b4b4ea36467",
   "metadata": {},
   "outputs": [
    {
     "data": {
      "text/plain": [
       "[2, 4]"
      ]
     },
     "execution_count": 108,
     "metadata": {},
     "output_type": "execute_result"
    }
   ],
   "source": [
    "list(filter(lambda x:x%2==0, l_data)) # list(filter()) 해주면 앞서 만든 함수와 같은 일을 함 "
   ]
  },
  {
   "cell_type": "markdown",
   "id": "b35fe559-db2f-4d46-b4ab-d0eade2f6e62",
   "metadata": {},
   "source": [
    "# 5절 파이썬 내장함수\n",
    "    - print 처럼 import 하지 않고 쓸 수 있는 함수"
   ]
  },
  {
   "cell_type": "markdown",
   "id": "1fc1a567-bbe4-4e15-a218-b5e7b6d19520",
   "metadata": {},
   "source": [
    "# 연습문제"
   ]
  },
  {
   "cell_type": "code",
   "execution_count": 109,
   "id": "1002e51d-3699-439c-9253-d1f49eca2538",
   "metadata": {},
   "outputs": [
    {
     "data": {
      "text/plain": [
       "(1, 16)"
      ]
     },
     "execution_count": 109,
     "metadata": {},
     "output_type": "execute_result"
    }
   ],
   "source": [
    "#함수의 인자로 리스트를 받은 후, 리스트 내에 있는 모든 정수값에 대하여 \n",
    "#최대값과 최소값을 return하는 함수 get_max_min(data_list)를 구현하고 호출하시오\n",
    "def get_max_min(L=[]):\n",
    "    return max(L), min(L) \n",
    "\n",
    "list_= [1,4,7,9,16,5,6]\n",
    "get_max_min(list_)"
   ]
  },
  {
   "cell_type": "code",
   "execution_count": 115,
   "id": "f8e41b4f-3a4b-4bad-91cd-fa694b29f64d",
   "metadata": {},
   "outputs": [
    {
     "name": "stdout",
     "output_type": "stream",
     "text": [
      "[1, 13, 15, 20, 40, 41]\n"
     ]
    }
   ],
   "source": [
    "#1~45사이의 로또번호 6개를 반환하는 make_lotto()함수를 정의하고 호출하시오\n",
    "import random\n",
    "random.seed()\n",
    "\n",
    "lotto = set()\n",
    "while (len(lotto)<6):\n",
    "    num = random.randint(1,45)\n",
    "    lotto.add(num)\n",
    "lotto = list(lotto)\n",
    "lotto.sort()\n",
    "print(lotto)"
   ]
  },
  {
   "cell_type": "code",
   "execution_count": 127,
   "id": "2b24618d-378e-4635-819c-2ab7ad5228bb",
   "metadata": {},
   "outputs": [
    {
     "name": "stdout",
     "output_type": "stream",
     "text": [
      "[1, 2, '짝', 4, 5, '짝', 7, 8, '짝', '짝', 20, '짝짝']\n"
     ]
    }
   ],
   "source": [
    "#369게임을 시뮬레이션하는 함수를 정의하라\n",
    "#1단계 : game_369([1,2,3,4,5,6,7,8,9,13,20,33])\n",
    "#- 결과 : [1,2, ‘짝’, 4,5, ‘짝’,7,8, ‘짝’, ‘짝’, 20,‘짝짝’]\n",
    "\n",
    "def game_369(L):\n",
    "    result = []\n",
    "    for data in L:\n",
    "        str_data = list(str(data))\n",
    "        clap = ''\n",
    "        for val in str_data:\n",
    "            if (\"3\"==val) | (\"6\"==val) | (\"9\"==val):\n",
    "                clap += '짝'\n",
    "        if clap=='':\n",
    "            result.append(data)\n",
    "        else:\n",
    "            result.append(clap)\n",
    "    print(result)\n",
    "    #return result_list\n",
    "game_369([1,2,3,4,5,6,7,8,9,13,20,33])"
   ]
  },
  {
   "cell_type": "code",
   "execution_count": 125,
   "id": "adb0d154-c2b6-45cc-86bf-125e268c4283",
   "metadata": {},
   "outputs": [
    {
     "name": "stdout",
     "output_type": "stream",
     "text": [
      "[1, 2, '짝', 4, 5, '짝', 7, 8, '짝', '짝', 20, '짝']\n"
     ]
    }
   ],
   "source": [
    "#2단계 : game_369(1,2,3,4,5,6,7,8,9,13,20,33) #튜플인수이용\n",
    "#- 결과 : [1,2, ‘짝’, 4,5, ‘짝’,7,8, ‘짝’, ‘짝’, 20,‘짝짝’]\n",
    "# 선생님 방법\n",
    "def game_369(*l):\n",
    "    result = []\n",
    "    \n",
    "    for data in l:\n",
    "        data_str = str(data) # '13'\n",
    "        datastr_list = list(data_str) # ['1','3']\n",
    "        clap = ''\n",
    "        for s in datastr_list:\n",
    "            if int(s)!=0 and int(s)%3 == 0: #3의 배수\n",
    "                clap += '짝'\n",
    "        if(clap==''):\n",
    "            result.append(data)\n",
    "        else:\n",
    "            result.append(clap)\n",
    "    return result\n",
    "        \n",
    "game_369(1, 2, 3, 4, 5, 6, 13, 20, 33)"
   ]
  },
  {
   "cell_type": "code",
   "execution_count": 50,
   "id": "52acad10-f8ed-414b-9384-e127b6914de9",
   "metadata": {},
   "outputs": [
    {
     "data": {
      "text/plain": [
       "'E'"
      ]
     },
     "execution_count": 50,
     "metadata": {},
     "output_type": "execute_result"
    }
   ],
   "source": [
    "x = [\"E 2\",\"S 2\",\"W 1\"]\t\n",
    "type(x[0])\n",
    "a, b = x[0].split()\n",
    "a"
   ]
  },
  {
   "cell_type": "code",
   "execution_count": 69,
   "id": "6119627b-0672-424f-926c-7e304e1d26de",
   "metadata": {},
   "outputs": [
    {
     "data": {
      "text/plain": [
       "['O', 'O']"
      ]
     },
     "execution_count": 69,
     "metadata": {},
     "output_type": "execute_result"
    }
   ],
   "source": [
    "s = [\"SOO\",\"OOO\",\"OOO\", \"OOO\"]\n",
    "[i[0] for i in s[1:3]]"
   ]
  },
  {
   "cell_type": "code",
   "execution_count": null,
   "id": "988f5598-d0ec-47b5-a485-6d29a51abc66",
   "metadata": {},
   "outputs": [],
   "source": []
  },
  {
   "cell_type": "code",
   "execution_count": null,
   "id": "9025cd2a-1110-45d9-a6ec-d2c5e0b7e57e",
   "metadata": {},
   "outputs": [],
   "source": []
  },
  {
   "cell_type": "code",
   "execution_count": null,
   "id": "3fb5cd47-70ff-40ea-891d-cd5b3e0bc111",
   "metadata": {},
   "outputs": [],
   "source": []
  }
 ],
 "metadata": {
  "kernelspec": {
   "display_name": "Python 3 (ipykernel)",
   "language": "python",
   "name": "python3"
  },
  "language_info": {
   "codemirror_mode": {
    "name": "ipython",
    "version": 3
   },
   "file_extension": ".py",
   "mimetype": "text/x-python",
   "name": "python",
   "nbconvert_exporter": "python",
   "pygments_lexer": "ipython3",
   "version": "3.11.7"
  }
 },
 "nbformat": 4,
 "nbformat_minor": 5
}
