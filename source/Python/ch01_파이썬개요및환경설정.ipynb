{
 "cells": [
  {
   "cell_type": "markdown",
   "id": "5de2932d-24c0-49bc-8f60-78fecb126629",
   "metadata": {},
   "source": [
    "<font color = \"white\" size = \"7\"><b> ch01 파이썬 개요 및 환경설정</b></font>"
   ]
  },
  {
   "cell_type": "markdown",
   "id": "af13a27a-30f7-498a-8f67-95e69234ab85",
   "metadata": {},
   "source": [
    "# 1. 주피터 노트북 사용법(큰제목)\n",
    "    - shift + enter : 포커스 된 셀이 실행되고 다음셀로 이동\n",
    "    - alt + enter : 포커스 된 셀이 실행되고 다음셀이 생성된 후 이동\n",
    "    - ctrl + enter : 포커스 된 셀이 실행되고 포커스 이동없음\n",
    "    - enter + 클릭 : 셀이 포커스됨(편집 상태)"
   ]
  },
  {
   "cell_type": "code",
   "execution_count": null,
   "id": "1ee05735-60b9-4f31-9a03-4f8069955c14",
   "metadata": {},
   "outputs": [],
   "source": [
    "print('Hello')"
   ]
  },
  {
   "cell_type": "code",
   "execution_count": null,
   "id": "d75f5c8e-6355-48d5-884d-b6a9ff4e4e1d",
   "metadata": {},
   "outputs": [],
   "source": [
    "a = 1 \n",
    "b = '2'\n",
    "a + int(b) # 문자 + 숫자 불가능, int()로 변환 가능 "
   ]
  },
  {
   "cell_type": "code",
   "execution_count": null,
   "id": "1ab60966-2897-4045-a325-f9d5bcab80f0",
   "metadata": {},
   "outputs": [],
   "source": [
    "# for i in range(1000000000000):\n",
    "#     print(i)\n",
    "# 무한 반복문 중지 : kernel > 다양한 restart 기능이나 shotdown 가능 "
   ]
  },
  {
   "cell_type": "markdown",
   "id": "d70e0571-4d00-4925-b0e1-6395b66ee1e3",
   "metadata": {},
   "source": [
    "# 2. Esc 누르고 핫키 \n",
    "  - dd : 셀삭제\n",
    "  - a : 윗셀추가\n",
    "  - b : 아랫셀 추가\n",
    "  - m : 마크업셀로 전환\n",
    "  - y : 코드셀로 전환\n",
    "  - x : 셀삭제 "
   ]
  },
  {
   "cell_type": "markdown",
   "id": "647a6fde-43fa-4dd2-897f-1e519f42ed5e",
   "metadata": {},
   "source": [
    "# 3. 마크다운이란?\n",
    "    - 코드와 함께 문서화할 수 있다.\n",
    "\n",
    "```\n",
    "여러줄 쓸때는\n",
    "이 방법을 사용한다\n",
    "```"
   ]
  },
  {
   "cell_type": "markdown",
   "id": "b563f8c6-59df-4857-9259-64cd1e8b4796",
   "metadata": {},
   "source": [
    "# 4. Table of contents\n",
    "    - View > Table of Contents"
   ]
  },
  {
   "cell_type": "code",
   "execution_count": 3,
   "id": "cc73457c-2077-4de9-a18d-f956c1d48adf",
   "metadata": {
    "scrolled": true
   },
   "outputs": [
    {
     "name": "stdout",
     "output_type": "stream",
     "text": [
      " C 드라이브의 볼륨에는 이름이 없습니다.\n",
      " 볼륨 일련 번호: 92AF-7678\n",
      "\n",
      " C:\\C_Python\\source\\Python 디렉터리\n",
      "\n",
      "\n",
      " C:\\C_Python\\source\\Python 디렉터리\n",
      "\n",
      "\n",
      " C:\\C_Python\\source\\Python 디렉터리\n",
      "\n",
      "\n",
      " C:\\C_Python\\source\\Python 디렉터리\n",
      "\n",
      "\n",
      " C:\\C_Python\\source\\Python 디렉터리\n",
      "\n",
      "\n",
      " C:\\C_Python\\source\\Python 디렉터리\n",
      "\n",
      "\n",
      " C:\\C_Python\\source\\Python 디렉터리\n",
      "\n",
      "\n",
      " C:\\C_Python\\source\\Python 디렉터리\n",
      "\n"
     ]
    },
    {
     "name": "stderr",
     "output_type": "stream",
     "text": [
      "파일을 찾을 수 없습니다.\n"
     ]
    }
   ],
   "source": [
    "!dir # 셀에서 ! 명령어를 치고 cmd 명령어를 사용가능"
   ]
  }
 ],
 "metadata": {
  "kernelspec": {
   "display_name": "Python 3 (ipykernel)",
   "language": "python",
   "name": "python3"
  },
  "language_info": {
   "codemirror_mode": {
    "name": "ipython",
    "version": 3
   },
   "file_extension": ".py",
   "mimetype": "text/x-python",
   "name": "python",
   "nbconvert_exporter": "python",
   "pygments_lexer": "ipython3",
   "version": "3.11.7"
  }
 },
 "nbformat": 4,
 "nbformat_minor": 5
}
